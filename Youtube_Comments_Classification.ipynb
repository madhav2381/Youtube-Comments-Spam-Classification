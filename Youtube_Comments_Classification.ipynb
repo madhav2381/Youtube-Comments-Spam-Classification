{
  "nbformat": 4,
  "nbformat_minor": 0,
  "metadata": {
    "colab": {
      "name": "Youtube_Comments_Classification.ipynb",
      "provenance": [],
      "collapsed_sections": [],
      "include_colab_link": true
    },
    "kernelspec": {
      "name": "python3",
      "display_name": "Python 3"
    },
    "language_info": {
      "name": "python"
    }
  },
  "cells": [
    {
      "cell_type": "markdown",
      "metadata": {
        "id": "view-in-github",
        "colab_type": "text"
      },
      "source": [
        "<a href=\"https://colab.research.google.com/github/madhav2381/Youtube-Comments-Spam-Classification/blob/main/Youtube_Comments_Classification.ipynb\" target=\"_parent\"><img src=\"https://colab.research.google.com/assets/colab-badge.svg\" alt=\"Open In Colab\"/></a>"
      ]
    },
    {
      "cell_type": "code",
      "metadata": {
        "id": "9rOOrVLqlupF"
      },
      "source": [
        "import numpy as np\n",
        "import pandas as pd\n",
        "import matplotlib.pyplot as plt\n",
        "%matplotlib inline\n",
        "import os\n",
        "import re\n",
        "import string\n",
        "import bs4\n",
        "import nltk\n",
        "from nltk.corpus import stopwords\n",
        "from nltk.stem import WordNetLemmatizer\n",
        "import keras \n",
        "from sklearn.pipeline import Pipeline\n",
        "from sklearn.feature_extraction.text import TfidfTransformer\n",
        "from sklearn.feature_extraction.text import CountVectorizer\n",
        "from sklearn.feature_extraction.text import TfidfVectorizer\n",
        "from sklearn.linear_model import LogisticRegression\n",
        "from sklearn.model_selection import train_test_split\n",
        "from sklearn.metrics import accuracy_score\n",
        "from sklearn.metrics import classification_report, confusion_matrix, precision_score, recall_score\n",
        "import tensorflow as tf\n",
        "from tensorflow import keras\n",
        "from keras.models import Sequential\n",
        "from keras.layers import Dense\n",
        "from keras.layers.normalization import batch_normalization\n",
        "from keras.layers import Activation, Dense, Dropout\n",
        "from keras.preprocessing import text, sequence\n",
        "from keras.preprocessing.sequence import pad_sequences\n",
        "from keras import utils"
      ],
      "execution_count": null,
      "outputs": []
    },
    {
      "cell_type": "code",
      "metadata": {
        "id": "rDK04GwqB9nP",
        "colab": {
          "base_uri": "https://localhost:8080/"
        },
        "outputId": "8542be5d-1a42-4e70-eaaa-40093b5c347a"
      },
      "source": [
        "from google.colab import drive\n",
        "drive.mount('/content/drive', force_remount=True)"
      ],
      "execution_count": null,
      "outputs": [
        {
          "output_type": "stream",
          "name": "stdout",
          "text": [
            "Mounted at /content/drive\n"
          ]
        }
      ]
    },
    {
      "cell_type": "code",
      "metadata": {
        "id": "wuGSFgDlGMQM",
        "colab": {
          "base_uri": "https://localhost:8080/",
          "height": 87
        },
        "outputId": "c4c5c3de-5b31-4fd0-ea45-7bfe39d38c04"
      },
      "source": [
        "'''\n",
        "!rm -rf '/content/YouTube-Spam-Collection-data/__MACOSX'\n",
        "!rm -rf '/content/YouTube-Spam-Collection-data/Youtube01-Psy.csv'\n",
        "!rm -rf '/content/YouTube-Spam-Collection-data/Youtube03-LMFAO.csv'\n",
        "!rm -rf '/content/YouTube-Spam-Collection-data/Youtube04-Eminem.csv'\n",
        "!rm -rf '/content/YouTube-Spam-Collection-data/Youtube05-Shakira.csv'\n",
        "!rm -rf  '/content/YouTube-Spam-Collection-data/Youtube02-KatyPerry.csv'\n",
        "!rm -rf '/content/YouTube-Spam-Collection-data'\n",
        "'''"
      ],
      "execution_count": null,
      "outputs": [
        {
          "output_type": "execute_result",
          "data": {
            "application/vnd.google.colaboratory.intrinsic+json": {
              "type": "string"
            },
            "text/plain": [
              "\"\\n!rm -rf '/content/YouTube-Spam-Collection-data/__MACOSX'\\n!rm -rf '/content/YouTube-Spam-Collection-data/Youtube01-Psy.csv'\\n!rm -rf '/content/YouTube-Spam-Collection-data/Youtube03-LMFAO.csv'\\n!rm -rf '/content/YouTube-Spam-Collection-data/Youtube04-Eminem.csv'\\n!rm -rf '/content/YouTube-Spam-Collection-data/Youtube05-Shakira.csv'\\n!rm -rf  '/content/YouTube-Spam-Collection-data/Youtube02-KatyPerry.csv'\\n!rm -rf '/content/YouTube-Spam-Collection-data'\\n\""
            ]
          },
          "metadata": {},
          "execution_count": 3
        }
      ]
    },
    {
      "cell_type": "code",
      "metadata": {
        "id": "QvqSX_8ymsGC"
      },
      "source": [
        "os.mkdir('/content/YouTube-Spam-Collection-data')"
      ],
      "execution_count": null,
      "outputs": []
    },
    {
      "cell_type": "code",
      "metadata": {
        "colab": {
          "base_uri": "https://localhost:8080/"
        },
        "id": "Na0aU-UIp6iD",
        "outputId": "5b532964-f381-4502-b37b-bcb568d5e2fa"
      },
      "source": [
        "!unzip '/content/drive/MyDrive/YouTube-Spam-Collection-v1.zip' -d '/content/YouTube-Spam-Collection-data'"
      ],
      "execution_count": null,
      "outputs": [
        {
          "output_type": "stream",
          "name": "stdout",
          "text": [
            "Archive:  /content/drive/MyDrive/YouTube-Spam-Collection-v1.zip\n",
            "  inflating: /content/YouTube-Spam-Collection-data/Youtube01-Psy.csv  \n",
            "   creating: /content/YouTube-Spam-Collection-data/__MACOSX/\n",
            "  inflating: /content/YouTube-Spam-Collection-data/__MACOSX/._Youtube01-Psy.csv  \n",
            "  inflating: /content/YouTube-Spam-Collection-data/Youtube02-KatyPerry.csv  \n",
            "  inflating: /content/YouTube-Spam-Collection-data/__MACOSX/._Youtube02-KatyPerry.csv  \n",
            "  inflating: /content/YouTube-Spam-Collection-data/Youtube03-LMFAO.csv  \n",
            "  inflating: /content/YouTube-Spam-Collection-data/__MACOSX/._Youtube03-LMFAO.csv  \n",
            "  inflating: /content/YouTube-Spam-Collection-data/Youtube04-Eminem.csv  \n",
            "  inflating: /content/YouTube-Spam-Collection-data/__MACOSX/._Youtube04-Eminem.csv  \n",
            "  inflating: /content/YouTube-Spam-Collection-data/Youtube05-Shakira.csv  \n",
            "  inflating: /content/YouTube-Spam-Collection-data/__MACOSX/._Youtube05-Shakira.csv  \n"
          ]
        }
      ]
    },
    {
      "cell_type": "code",
      "metadata": {
        "id": "LL-x0wZ3rTdy"
      },
      "source": [
        "data_directory = '/content/YouTube-Spam-Collection-data/'\n",
        "data_files = sorted(os.listdir('/content/YouTube-Spam-Collection-data'))\n",
        "data_files = [file for file in data_files if '.csv' in file]\n",
        "train_data = []\n",
        "for file in data_files:\n",
        "    data = pd.read_csv(data_directory + file)\n",
        "    train_data.append(data)\n",
        "train_data = pd.concat(train_data)"
      ],
      "execution_count": null,
      "outputs": []
    },
    {
      "cell_type": "code",
      "metadata": {
        "colab": {
          "base_uri": "https://localhost:8080/",
          "height": 206
        },
        "id": "AJBLO2Z9rmni",
        "outputId": "9beede50-b96d-464d-d1a3-5ac108a29e3e"
      },
      "source": [
        "train_data.head()"
      ],
      "execution_count": null,
      "outputs": [
        {
          "output_type": "execute_result",
          "data": {
            "text/html": [
              "<div>\n",
              "<style scoped>\n",
              "    .dataframe tbody tr th:only-of-type {\n",
              "        vertical-align: middle;\n",
              "    }\n",
              "\n",
              "    .dataframe tbody tr th {\n",
              "        vertical-align: top;\n",
              "    }\n",
              "\n",
              "    .dataframe thead th {\n",
              "        text-align: right;\n",
              "    }\n",
              "</style>\n",
              "<table border=\"1\" class=\"dataframe\">\n",
              "  <thead>\n",
              "    <tr style=\"text-align: right;\">\n",
              "      <th></th>\n",
              "      <th>COMMENT_ID</th>\n",
              "      <th>AUTHOR</th>\n",
              "      <th>DATE</th>\n",
              "      <th>CONTENT</th>\n",
              "      <th>CLASS</th>\n",
              "    </tr>\n",
              "  </thead>\n",
              "  <tbody>\n",
              "    <tr>\n",
              "      <th>0</th>\n",
              "      <td>LZQPQhLyRh80UYxNuaDWhIGQYNQ96IuCg-AYWqNPjpU</td>\n",
              "      <td>Julius NM</td>\n",
              "      <td>2013-11-07T06:20:48</td>\n",
              "      <td>Huh, anyway check out this you[tube] channel: ...</td>\n",
              "      <td>1</td>\n",
              "    </tr>\n",
              "    <tr>\n",
              "      <th>1</th>\n",
              "      <td>LZQPQhLyRh_C2cTtd9MvFRJedxydaVW-2sNg5Diuo4A</td>\n",
              "      <td>adam riyati</td>\n",
              "      <td>2013-11-07T12:37:15</td>\n",
              "      <td>Hey guys check out my new channel and our firs...</td>\n",
              "      <td>1</td>\n",
              "    </tr>\n",
              "    <tr>\n",
              "      <th>2</th>\n",
              "      <td>LZQPQhLyRh9MSZYnf8djyk0gEF9BHDPYrrK-qCczIY8</td>\n",
              "      <td>Evgeny Murashkin</td>\n",
              "      <td>2013-11-08T17:34:21</td>\n",
              "      <td>just for test I have to say murdev.com</td>\n",
              "      <td>1</td>\n",
              "    </tr>\n",
              "    <tr>\n",
              "      <th>3</th>\n",
              "      <td>z13jhp0bxqncu512g22wvzkasxmvvzjaz04</td>\n",
              "      <td>ElNino Melendez</td>\n",
              "      <td>2013-11-09T08:28:43</td>\n",
              "      <td>me shaking my sexy ass on my channel enjoy ^_^ ﻿</td>\n",
              "      <td>1</td>\n",
              "    </tr>\n",
              "    <tr>\n",
              "      <th>4</th>\n",
              "      <td>z13fwbwp1oujthgqj04chlngpvzmtt3r3dw</td>\n",
              "      <td>GsMega</td>\n",
              "      <td>2013-11-10T16:05:38</td>\n",
              "      <td>watch?v=vtaRGgvGtWQ   Check this out .﻿</td>\n",
              "      <td>1</td>\n",
              "    </tr>\n",
              "  </tbody>\n",
              "</table>\n",
              "</div>"
            ],
            "text/plain": [
              "                                    COMMENT_ID  ... CLASS\n",
              "0  LZQPQhLyRh80UYxNuaDWhIGQYNQ96IuCg-AYWqNPjpU  ...     1\n",
              "1  LZQPQhLyRh_C2cTtd9MvFRJedxydaVW-2sNg5Diuo4A  ...     1\n",
              "2  LZQPQhLyRh9MSZYnf8djyk0gEF9BHDPYrrK-qCczIY8  ...     1\n",
              "3          z13jhp0bxqncu512g22wvzkasxmvvzjaz04  ...     1\n",
              "4          z13fwbwp1oujthgqj04chlngpvzmtt3r3dw  ...     1\n",
              "\n",
              "[5 rows x 5 columns]"
            ]
          },
          "metadata": {},
          "execution_count": 7
        }
      ]
    },
    {
      "cell_type": "code",
      "metadata": {
        "colab": {
          "base_uri": "https://localhost:8080/"
        },
        "id": "OkZj3Z5Mo9Oh",
        "outputId": "45b3961d-6424-4fca-bcd5-e2d5edee563c"
      },
      "source": [
        "train_data.shape"
      ],
      "execution_count": null,
      "outputs": [
        {
          "output_type": "execute_result",
          "data": {
            "text/plain": [
              "(1956, 5)"
            ]
          },
          "metadata": {},
          "execution_count": 8
        }
      ]
    },
    {
      "cell_type": "code",
      "metadata": {
        "colab": {
          "base_uri": "https://localhost:8080/"
        },
        "id": "KYksBCkDpCBM",
        "outputId": "87a1f767-f642-4e9d-b891-80091bc87dfd"
      },
      "source": [
        "train_data.CLASS.value_counts()"
      ],
      "execution_count": null,
      "outputs": [
        {
          "output_type": "execute_result",
          "data": {
            "text/plain": [
              "1    1005\n",
              "0     951\n",
              "Name: CLASS, dtype: int64"
            ]
          },
          "metadata": {},
          "execution_count": 9
        }
      ]
    },
    {
      "cell_type": "code",
      "metadata": {
        "colab": {
          "base_uri": "https://localhost:8080/"
        },
        "id": "W835JA6npIZ5",
        "outputId": "81e7a807-9498-40bc-9bce-ce7cf74d6520"
      },
      "source": [
        "train_data.isnull().sum()"
      ],
      "execution_count": null,
      "outputs": [
        {
          "output_type": "execute_result",
          "data": {
            "text/plain": [
              "COMMENT_ID      0\n",
              "AUTHOR          0\n",
              "DATE          245\n",
              "CONTENT         0\n",
              "CLASS           0\n",
              "dtype: int64"
            ]
          },
          "metadata": {},
          "execution_count": 10
        }
      ]
    },
    {
      "cell_type": "code",
      "metadata": {
        "colab": {
          "base_uri": "https://localhost:8080/"
        },
        "id": "XrDOnaCwn-0w",
        "outputId": "11b6b8b7-a971-4b4d-ecb2-dd3f9ff78927"
      },
      "source": [
        "train_data.CONTENT.to_list()"
      ],
      "execution_count": null,
      "outputs": [
        {
          "output_type": "execute_result",
          "data": {
            "text/plain": [
              "['Huh, anyway check out this you[tube] channel: kobyoshi02',\n",
              " \"Hey guys check out my new channel and our first vid THIS IS US THE  MONKEYS!!! I'm the monkey in the white shirt,please leave a like comment  and please subscribe!!!!\",\n",
              " 'just for test I have to say murdev.com',\n",
              " 'me shaking my sexy ass on my channel enjoy ^_^ \\ufeff',\n",
              " 'watch?v=vtaRGgvGtWQ   Check this out .\\ufeff',\n",
              " 'Hey, check out my new website!! This site is about kids stuff. kidsmediausa  . com',\n",
              " 'Subscribe to my channel \\ufeff',\n",
              " 'i turned it on mute as soon is i came on i just wanted to check the  views...\\ufeff',\n",
              " 'You should check my channel for Funny VIDEOS!!\\ufeff',\n",
              " 'and u should.d check my channel and tell me what I should do next!\\ufeff',\n",
              " 'Hey subscribe to me\\ufeff',\n",
              " \" Once you have started reading do not stop. If you do not subscribe to me  within one day you and you're entire family will die so if you want to stay  alive subscribe right now.\\ufeff\",\n",
              " 'https://twitter.com/GBphotographyGB\\ufeff',\n",
              " 'subscribe like comment\\ufeff',\n",
              " 'please like :D https://premium.easypromosapp.com/voteme/19924/616375350\\ufeff',\n",
              " \"Hello! Do you like gaming, art videos, scientific experiments, tutorials,  lyrics videos, and much, much more of that? If you do please check out our  channel and subscribe to it, we've just started, but soon we hope we will  be able to cover all of our expectations... You can also check out what  we've got so far!\\ufeff\",\n",
              " \"I'm only checking the views\\ufeff\",\n",
              " 'http://www.ebay.com/itm/171183229277?ssPageName=STRK:MESELX:IT&amp;_trksid=p3984.m1555.l2649 \\ufeff',\n",
              " 'http://ubuntuone.com/40beUutVu2ZKxK4uTgPZ8K\\ufeff',\n",
              " 'We are an EDM apparel company dedicated to bringing you music inspired  designs. Our clothing is perfect for any rave or music festival. We have  NEON crop tops, tank tops, t-shirts, v-necks and accessories! follow us on  Facebook or on instagraml for free giveaways news and more!! visit our site  at OnCueApparel\\ufeff',\n",
              " 'i think about 100 millions of the views come from people who only wanted to  check the views\\ufeff',\n",
              " 'subscribe to my channel people :D\\ufeff',\n",
              " 'Show your AUBURN PRIDE HERE: http://www.teespring.com/tigermeathoodie\\ufeff',\n",
              " 'just checking the views\\ufeff',\n",
              " 'CHECK OUT MY CHANNEL',\n",
              " 'marketglory . com/strategygame/andrijamatf earn real money from game',\n",
              " 'Hey guys! Im a 12 yr old music producer. I make chiptunes and 8bit music.  It would be wonderful if you checked out some of my 8bit remixes! I even  have a gangnamstyle 8bit remix if you would like to check that out ;)  Thanks!!',\n",
              " \"Check me out! I'm kyle. I rap so yeah \\ufeff\",\n",
              " 'I dont even watch it anymore i just come here to check on 2 Billion or not\\ufeff',\n",
              " 'Subscribe to me for free Android games, apps.. \\ufeff',\n",
              " 'everyone please come check our newest song in memories of Martin Luther  King Jr.\\ufeff',\n",
              " 'Came here to check the views, goodbye.\\ufeff',\n",
              " 'sub my channel for no reason -_-\\ufeff',\n",
              " 'Check out my dubstep song \"Fireball\", made with Fruity Loops. I really took  time in it.  /watch?v=telOA6RIO8o\\ufeff',\n",
              " '2 billion....Coming soon\\ufeff',\n",
              " 'Why dafuq is a Korean song so big in the USA. Does that mean we support  Koreans? Last time I checked they wanted to bomb us. \\ufeff',\n",
              " 'Check my channel please! And listen to the best music ever :P\\ufeff',\n",
              " 'SUB 4 SUB PLEASE LIKE THIS COMMENT I WANT A SUCCESFULL YOUTUBE SO PPLEASE LIKE THIS  COMMENT AND SUBSCRIBE IT ONLY TAKES 10 SECONDS PLEASE IF YOU SUBSCRIBE ILL  SUBSCRIBE BACK THANKS\\ufeff',\n",
              " ' Hey everyone!! I have just started my first YT channel i would be grateful  if some of you peoples could check out my first clip in BF4! and give me  some advice on how my video was and how i could improve it. ALSO be sure to  go check out the about to see what Im all about. Thanks for your time :) .  and to haters... You Hate, I WIN\\ufeff',\n",
              " 'The projects After Effects, Music, Foto, Web sites and another you can find  and buy here  http://audiojungle.net/user/EugeneKalinin/portfolio?ref=EugeneKalinin\\ufeff',\n",
              " \"YouTube/codytolleson for awesome videos I'll subscribe back \\ufeff\",\n",
              " 'if you like roblox minecraft world of warcraft gta5 mario suscribe to my  channel\\ufeff',\n",
              " \"SUBSCRIBE TO ME AND I'LL SUBSCRIBE TO YOU! (Must like - cZFcxsn0jnQ) \\ufeff\",\n",
              " 'http://www.twitch.tv/jaroadc come follow and watch my stream!\\ufeff',\n",
              " 'if you like raw talent, raw lyrics, straight real hip hop Everyone check my newest sound  Dizzy X - Got the Juice (Prod by. Drugs the Model Citizen)   COMMENT TELL ME WHAT YOU THINK  DONT BE LAZY!!!!  - 1/7 Prophetz\\ufeff',\n",
              " '....subscribe......  ......to my........  .....channel.......\\ufeff',\n",
              " 'now its 1,884,034,783 views! pls. comment the view count the next hour :P\\ufeff',\n",
              " 'http://www.avaaz.org/po/petition/Youtube_Corporation_Fox_Broadcasting_Company_Anular_os_strikes_no_Canal_Nostalgia/?cXPZpgb \\ufeff',\n",
              " 'go here to check the views :3\\ufeff',\n",
              " 'thumbs up if u checked this video to see hw views it got\\ufeff',\n",
              " 'Plz subscribe to my channel and I will subscribe back xx\\ufeff',\n",
              " 'i check back often to help reach 2x10^9 views and I avoid watching Baby\\ufeff',\n",
              " 'This video will get to 2 billion just because of people checking if it has  hit 2 billion yet.\\ufeff',\n",
              " 'https://www.facebook.com/pages/Brew-Crew-2014/134470083389909 Like this  facebook-page! Chance to win an Iphone 5S!\\ufeff',\n",
              " 'get GWAR to play 2015 superbowl  http://www.change.org/petitions/the-national-football-league-allow-gwar-to-perform-the-2015-super-bowl-halftime-show#share \\ufeff',\n",
              " 'Pls follow this channel!! http://www.twitch.tv/sevadus\\ufeff',\n",
              " 'hi guys check my youtube channel\\ufeff',\n",
              " 'Subscribe and like to me for more how to videos on minecraft!\\ufeff',\n",
              " 'http://tankionline.com#friend=cd92db3f4 great game check it out!\\ufeff',\n",
              " 'Subscribe ME!\\ufeff',\n",
              " 'Im just to check how much views it has\\ufeff',\n",
              " 'The first comment is chuck norrus ovbiously :D\\ufeff',\n",
              " 'Behold the most viewed youtube video in the history of ever\\ufeff',\n",
              " 'when is this gonna hit 2 billion?\\ufeff',\n",
              " 'the most viewed youtube video of all time?\\ufeff',\n",
              " '969,210 dislikes like dislike themselves\\ufeff',\n",
              " 'psy=korean\\ufeff',\n",
              " 'OMG this oldspice spraytan party commercial omg....i\\'m sitting here \"NO  this isn\\'t a real thing is it? OMG\" \\ufeff',\n",
              " 'This is the only video on youtube that get so much views just because we  want to see how much views it has. 1.000.000 every day, I mean, Most people  think a video is popular when it actually gets 1.000.000 views.\\ufeff',\n",
              " \"It's been back for quite a while now.\",\n",
              " '2 Billions in 2014',\n",
              " 'plz check out fablife / welcome to fablife for diys and challenges so plz  subscribe thx!\\ufeff',\n",
              " 'Sub my channel!\\ufeff',\n",
              " 'http://www.ebay.com/itm/131338190916?ssPageName=STRK:MESELX:IT&amp;_trksid=p3984.m1555.l2649 \\ufeff',\n",
              " 'http://www.guardalo.org/best-of-funny-cats-gatti-pazzi-e-divertenti-2013-5287/100000415527985/ \\ufeff',\n",
              " 'if your like drones, plz subscribe to Kamal Tayara. He takes videos with  his drone that are absolutely beautiful.\\ufeff',\n",
              " 'http://hackfbaccountlive.com/?ref=4604617\\ufeff',\n",
              " 'WHATS UP EVERYONE!? :-) I Trying To Showcase My Talent To The World! I Have Over 3000 SUBSCRIBERS! I PROMISE! I Dont Suck! Please Spread My Covers Around, SUBSCRIBE &amp; Share! Thanks so much for all your support! Lucas Trigo -Stay Awesome! \\ufeff',\n",
              " '-----&gt;&gt;&gt;&gt;  https://www.facebook.com/video.php?v=10200253113705769&amp;set=vb.201470069872822&amp;type=3&amp;permPage=1  &lt;--------\\ufeff',\n",
              " \"Hi there~I'm group leader of Angel, a rookie Korean pop group. We have four  members, Chanicka, Julie, Stephanie, and myself, Leah. Please feel free to  check out our channel and leave some feedback on our cover videos (:  criticism is welcome as we know we're not top notch singers so please come  leave some constructive feedback on our videos; we appreciate any chance to  improve before auditioning for a Korean management company. We plan on  auditioning for JYP, BigHit, Jellyfish, YG or SM. Thank you for taking time  out of your day to read this !\\ufeff\",\n",
              " 'http://woobox.com/33gxrf/brt0u5 FREE CS GO!!!!\\ufeff',\n",
              " 'Admit it you just came here to check the number of viewers \\ufeff',\n",
              " 'Just coming to check if people are still viewing this video. And  apparently, they still do.\\ufeff',\n",
              " 'Check my first video out\\ufeff',\n",
              " 'Check my channel\\ufeff',\n",
              " 'PSY - GANGNAM STYLE (강남스타일) M/V: http://youtu.be/9bZkp7q19f0\\ufeff',\n",
              " 'Suscribe My Channel Please XD lol\\ufeff',\n",
              " 'Wow. Comments section on this still active. Not bad. Also 5277478 comments.  (Now 79)\\ufeff',\n",
              " 'http://binbox.io/1FIRo#123\\ufeff',\n",
              " 'Ching Ching ling long ding ring yaaaaaa Ganga sty FUCK YOU.\\ufeff',\n",
              " 'https://www.indiegogo.com/projects/cleaning-the-pan--2    please halp me  with my project\\ufeff',\n",
              " 'There is one video on my channel about my brother...\\ufeff',\n",
              " 'Check my channel, please!\\ufeff',\n",
              " \"Does anyone here use gift cards like Amazon, itunes, psn, google play,  itunes, or any other gift cards? Then you'll be happy to know you can get  free gift card codes for free from an amazing site. Here is a $50 itunes  gift card code XXBB5TCZHM39HVZD\\ufeff\",\n",
              " 'Why does this video have so many views? Because asian things are awesome and non-asian countries are jelly so they  try to learn from asia by looking at this video d:\\ufeff',\n",
              " 'Plizz withing my channel \\ufeff',\n",
              " 'I made a gaming channel (Unique right?) :L Angry Minecraft!\\ufeff',\n",
              " 'Please help me go here http://www.gofundme.com/littlebrother\\ufeff',\n",
              " 'Anybody who subscribes to me will get 10 subscribers\\ufeff',\n",
              " 'http://thepiratebay.se/torrent/6381501/Timothy_Sykes_Collection\\ufeff',\n",
              " 'My videos are half way decent, check them out if you want.\\ufeff',\n",
              " 'they said this video are not deserve 2billion views , while they keep  visiting it to watch the viewer . \\ufeff',\n",
              " 'subscribe to itz recaps and above diddle\\ufeff',\n",
              " \"Screw this Chinese crap i dont even understand what he is saying. Why isn't  he speaking English like everyone should?\\ufeff\",\n",
              " 'need money?Enjoy https://www.tsu.co/emerson_zanol\\ufeff',\n",
              " 'Sub to my channel visuelgamingzNL I sub back\\ufeff',\n",
              " 'please subscribe i am a new youtuber and need help please subscribe and i  will subscribe back :D hoppa HOPPA GaNgAm StYlE\\ufeff',\n",
              " 'sub me if you dont like the song\\ufeff',\n",
              " 'This is a weird video.\\ufeff',\n",
              " '8 million likes xD even the subscribers not 8 million xD\\ufeff',\n",
              " 'EHI GUYS CAN YOU SUBSCRIBE IN MY CHANNEL? I AM A NEW YOUTUBER AND I PLAY  MINECRAFT THANKS GUYS!... SUBSCRIBE!\\ufeff',\n",
              " \"Hi everyone! Do you like music? Then why not check out my music channel.  The LEXIS band will be uploading their own songs and covers soon so don't  miss out. Please SUBSCRIBE too as it does help us out a lot. Just takes one  click. -&gt;\\ufeff\",\n",
              " 'This song never gets old love it.\\ufeff',\n",
              " 'gofundme.com/grwmps\\ufeff',\n",
              " 'Hey guys please check out my new Google+ page it has many funny pictures,  FunnyTortsPics  https://plus.google.com/112720997191206369631/post\\ufeff',\n",
              " '#2012bitches\\ufeff',\n",
              " 'Made in china....\\ufeff',\n",
              " '5 milions comentars and 2 bilion views\\ufeff',\n",
              " 'It is 0 zero\\ufeff',\n",
              " 'Mix - PSY - GANGNAM STYLE (강남스타일) M/V: PSY - GANGNAM STYLE (강남스타일) M/V\\ufeff',\n",
              " 'This has had over 2 billion views.  Holy shit.\\ufeff',\n",
              " 'how can there be 2.124.821.694 views, when im the only person alive after  the zombie apocalypse - greetings, spoderman :)\\ufeff',\n",
              " 'Suscribe my channel please\\ufeff',\n",
              " '2,124923004 wiews... wow\\ufeff',\n",
              " 'guys please subscribe me to help my channel grow please guys\\ufeff',\n",
              " 'Great music anyway\\ufeff',\n",
              " 'PSY - GANGNAM STYLE (강남스타일) M/V: http://youtu.be/9bZkp7q19f0\\ufeff',\n",
              " 'so crazy, over 2 billion views, not US, not Uk, its Korea republic, its  asia\\ufeff',\n",
              " 'Discover a beautiful song of A young Moroccan     http://www.linkbucks.com/AcN2g\\ufeff',\n",
              " 'Like getting Gift cards..but hate spending the cash.... Try Juno Wallet !!! At Juno Wallet you can earn money for gift cards such as ; Nike, Gamestop,  Amazon , Ebay Etc &amp; its easy  Earn money by doing simple task like watching videos..downloading apps &amp;  you can even earn money by inviting your friends to join...its free for  signup Sign up today &amp; use promo code BD3721315\\ufeff',\n",
              " 'Can somebody wake me up when we get to 3 billion views.\\ufeff',\n",
              " 'PSY GOT LOTS  OF MONEY FROM YOUTUBE THAT HE GOT FROM 2 BILLION VIEWS THIS  IS THE MOST VIEWS IN THE WORLD :D\\ufeff',\n",
              " 'Justin bieber = gay \\ufeff',\n",
              " \"You gotta say its funny. well not 2 billion worth funny but still. It  clicked and everything went uphill. At least you don't have JB's shit on  #1.\\ufeff\",\n",
              " '❤️ ❤️ ❤️ ❤️ ❤️❤️❤️❤️\\ufeff',\n",
              " 'Ahhh, 2 years ago....\\ufeff',\n",
              " 'Dance dance,,,,,Psy  http://www.reverbnation.com/msmarilynmiles\\ufeff',\n",
              " 'check out \"starlitnightsky\" channel to see epic videos\\ufeff',\n",
              " 'https://www.tsu.co/KodysMan plz ^^\\ufeff',\n",
              " 'Stupid people... this video doesnt have 2 billion visits. Have 2 thousands  millions\\ufeff',\n",
              " 'http://www.gcmforex.com/partners/aw.aspx?Task=JoinT2&amp;AffiliateID=9107\\ufeff',\n",
              " 'check men out i put allot of effort into my music but unfortunatly not many  watch it\\ufeff',\n",
              " 'pls http://www10.vakinha.com.br/VaquinhaE.aspx?e=313327 help me get vip gun  cross fire al\\ufeff',\n",
              " 'Add me here...https://www.facebook.com/TLouXmusic\\ufeff',\n",
              " 'CHECK MY CHANNEL OUT PLEASE. I DO SINGING COVERS\\ufeff',\n",
              " 'I think this is now a place to promote channels in the comment section lol.\\ufeff',\n",
              " 'Get free gift cards and pay pal money!\\ufeff',\n",
              " 'Check out pivot animations in my channel\\ufeff',\n",
              " 'Follow me on twitter &amp; IG : __killuminati94\\ufeff',\n",
              " \"Check me out I'm all about gaming \\ufeff\",\n",
              " 'Oppa! Yeah! Best Song!\\ufeff',\n",
              " 'More... http://www.sunfrogshirts.com/Sunglass-World.html?24398\\ufeff',\n",
              " 'https://www.facebook.com/teeLaLaLa\\ufeff',\n",
              " 'http://www.twitch.tv/zxlightsoutxz\\ufeff',\n",
              " 'reminds me of this song https://soundcloud.com/popaegis/wrenn-almond-eyes\\ufeff',\n",
              " 'What free gift cards? Go here  http://www.swagbucks.com/p/register?rb=13017194\\ufeff',\n",
              " 'Search \"Chubbz Dinero - Ready Or Not \" Thanks \\ufeff',\n",
              " 'Follow me on Twitter @mscalifornia95\\ufeff',\n",
              " '😫😓😏😪😔😖😌😭😎😚😘😙😗😋😝😜😛😍😒😞😷😶😵😳😲😱😟😰😩😨😧😦😥😤😣😮😴😢😡😠😬😕😑😐😯😉😈😇😆😅😄😃😂😁😀😊☺  every single types of face on earth\\ufeff',\n",
              " '▬▬▬▬▬▬▬▬▬▬ஜ۩۞۩ஜ▬▬▬▬▬▬▬▬ ＤＡＭＮ ＴＨＩＳ ＣＯＭＭＥＮＴ ＩＳ ＦＡＮＣY ▬▬▬▬▬▬▬▬▬▬ஜ۩۞۩ஜ▬▬▬▬▬▬▬▬\\ufeff',\n",
              " \"CHECK MY CHANNEL FOR MY NEW SONG 'STATIC'!! YOU'LL LOVE IT!!\\ufeff\",\n",
              " 'Incmedia.org where the truth meets you.\\ufeff',\n",
              " 'look at my channel i make minecraft pe lets play \\ufeff',\n",
              " 'I found out this song now\\ufeff',\n",
              " '2 BILLION!!!\\ufeff',\n",
              " 'Song name??\\ufeff',\n",
              " 'please like : http://www.bubblews.com/news/9277547-peace-and-brotherhood\\ufeff',\n",
              " 'hey again if you guys wouldnt mind chacking out my rap give it like and il  giver 3 of your vids a like\\ufeff',\n",
              " 'http://www.amazon.co.uk/gp/offer-listing/B00ECVF93G/sr=8-2/qid=1415297812/ref=olp_tab_refurbished?ie=UTF8&amp;condition=refurbished&amp;qid=1415297812&amp;sr=8-2 \\ufeff',\n",
              " 'The most watched video on YouTube is Psy’s “Gangnam Style”, with 2.1  billion views. PSY - GANGNAM STYLE (강남스타일) M/V\\ufeff',\n",
              " \"Subscribe to me and I'll subscribe back!!!\\ufeff\",\n",
              " 'http://flipagram.com/f/LUkA1QMrhF\\ufeff',\n",
              " 'For Christmas Song visit my channel! ;)\\ufeff',\n",
              " 'http://www.gofundme.com/gvr7xg\\ufeff',\n",
              " 'Subscribe to me i subscribe back!!!! Plus i have a nice ass lol\\ufeff',\n",
              " 'https://www.change.org/p/facebook-twitter-youtube-do-not-censor-julien-blanc \\ufeff',\n",
              " 'https://soundcloud.com/jackal-and-james/wrap-up-the-night\\ufeff',\n",
              " 'https://www.surveymonkey.com/s/CVHMKLT\\ufeff',\n",
              " \"Please give us a chance and check out the new music video on our channel!  You won't be disappointed.\\ufeff\",\n",
              " 'Please subscribe to me\\ufeff',\n",
              " 'This is the best, funny and viral video of history (youtube) THE TRUE\\ufeff',\n",
              " 'Please check out my vidios\\ufeff',\n",
              " 'OPPA GANGNAM STYLE!!!\\ufeff',\n",
              " \"The funny thing is, 1,700,000,000 of the views are spam bots. I mean c'mon  2 BILLION views? BS!\\ufeff\",\n",
              " 'OPPA &lt;3\\ufeff',\n",
              " \"It's so funny it's awesomeness lol aaaaaaa sexy lada😂\\ufeff\",\n",
              " 'most viewed video in the world\\ufeff',\n",
              " \"I'm here to check the views.. holy shit\\ufeff\",\n",
              " 'Dear person reading this, You are beautiful and loving Have a great day\\ufeff',\n",
              " 'http://www.ermail.pl/dolacz/V3VeYGIN CLICK  http://www.ermail.pl/dolacz/V3VeYGIN  http://www.ermail.pl/dolacz/V3VeYGIN  http://www.ermail.pl/dolacz/V3VeYGIN  http://www.ermail.pl/dolacz/V3VeYGIN  http://www.ermail.pl/dolacz/V3VeYGIN  http://www.ermail.pl/dolacz/V3VeYGIN\\ufeff',\n",
              " \"Have you tried a new social network TSU? This new social network has a  special thing.You can share the posts as well as on fb and twitter and even  to'll get paid You can registr here:  https://www.tsu.co/WORLDWIDE_LIFE\\ufeff\",\n",
              " 'The Guy in the yellow suit kinda looks like Jae-suk \\ufeff',\n",
              " \"People, here is a new network like FB...you register also free, the  difference is only that you get paid for sharing, commenting and liking  posts and so one...don't waste your time on fb for sharing and not being  paid!! Register here to make also money with your everyday posts!!  https://www.tsu.co/slema13 Wellcome to everyone! ;)\\ufeff\",\n",
              " 'How are there 2 billion views and theres only 2 million people in the  world!?!?!?!! MULTIPLE ACCOUNTS!!!1111\\ufeff',\n",
              " 'WAT DA FUCK THIS THE MOST VIEWED VIDEO IN YOUTUBE!\\ufeff',\n",
              " 'OMG 2/7 People watched this video because there are 7 billion people in the  world and 2 billion watched this\\ufeff',\n",
              " 'What is he saying?!?!?!?!?!?!?!?$? \\ufeff',\n",
              " 'this has so many views\\ufeff',\n",
              " 'OMG over 2 billion views!\\ufeff',\n",
              " 'Subscribe to me plz plz plz plz plz plZ \\ufeff',\n",
              " \"http://www.twitch.tv/tareko100 Follow him on twitch and enter the keyword  !5800 and you'll have a chance of winning a really nice and expensive gun  for csgo that you can sell on the steam market\\ufeff\",\n",
              " 'i am 2,126,492,636 viewer :D\\ufeff',\n",
              " 'https://www.tsu.co/Aseris get money here !\\ufeff',\n",
              " 'Fantastic!\\ufeff',\n",
              " 'The population of world is more than 7 billion\\ufeff',\n",
              " '2.126.521.750  views!!!!!!!!!!!!!!!!!\\ufeff',\n",
              " 'Wow 23 min ago\\ufeff',\n",
              " 'SUPER!!! !!!!!!!!!!!!!!!!!!!!!!!!!!!!!!!!!!!!!!!!\\ufeff',\n",
              " 'P E A C E  &amp;  L O V E  ! !\\ufeff',\n",
              " 'How can this music video get 2 billion views while im the only one watching  here on earth?????? lol\\ufeff',\n",
              " 'Please friend read my book and repass: http://www.4shared.com/web/preview/pdf/CjFofTxeba?\\ufeff',\n",
              " 'subscribe to me :) \\ufeff',\n",
              " 'Still the best. :D\\ufeff',\n",
              " 'The most liked video on YouTube...\\ufeff',\n",
              " 'Still watching this 2 years later? \\ufeff',\n",
              " \"Hello! I'm kind of new to Youtube, And soon i'm soon going to be making  Launchpad Video's! :D I would really appreciate if i got some subs before i  started so that people can spot me easily! I dont really care about hate  comments so dont bother -_-\\ufeff\",\n",
              " 'Lol...I dunno how this joke gets a lot of likes, but whatever. xD\\ufeff',\n",
              " '2 Billion Views For This Piece Of Shit... ~ A R E ~ Y O U ~ K I D D I N G ~ M E ~\\ufeff',\n",
              " 'GANGMAN STY- *D-D-D-D-D-D--DROP THE BASS!!*\\ufeff',\n",
              " 'Will this song ever reach 7 Billion Views?\\ufeff',\n",
              " 'Im a RAPPER/SONGWRITER, check my video PLEASE..also subscribe for more  thanks :) tell me what you think.\\ufeff',\n",
              " 'Hello all 29.24% earth population of the world, hope your having a great  day :)\\ufeff',\n",
              " 'Is this the video that started the whole \"got my dick stuck in an elevator\"  excuse thing? \\ufeff',\n",
              " 'Can anyone sub to my channel? :D\\ufeff',\n",
              " 'prehistoric song..has been\\ufeff',\n",
              " \"You think you're smart?        Headbutt your face.\\ufeff\",\n",
              " 'DISLIKE.. Now one knows REAL music - ex. Enimen \\ufeff',\n",
              " 'Loool nice song funny how no one understands (me) and we love it\\ufeff',\n",
              " 'Like if you came here too see how many views this song has.\\ufeff',\n",
              " 'We pray for you Little Psy ♡\\ufeff',\n",
              " \"''Little Psy, only 5 months left.. Tumor in the head :( WE WILL MISS U &lt;3\\ufeff\",\n",
              " ' Follow me on Instagram. _chris_cz  \\ufeff',\n",
              " 'how is this shit still relevant \\ufeff',\n",
              " 'LOL this shit never gets old\\ufeff',\n",
              " 'What Can i say....This Song He Just Change The World Completely... So good job PSY... (and your girls are awesome :))) )\\ufeff',\n",
              " 'On 0:02 u can see the camera man on his glasses....\\ufeff',\n",
              " 'this comment is wrong\\ufeff',\n",
              " 'i hate this music. fucking singer and every koean chainise ana US sucks me dick.\\ufeff',\n",
              " '2:05. Hahahahah \\ufeff',\n",
              " 'Can we reach 3 billion views by December 2014? \\ufeff',\n",
              " 'Dumb Guy: Why is there 2 billion views when there are 7 million people on  earth??? Also, I know what 1+1 equals! 1+1=1! I am a smartie pants\\ufeff',\n",
              " 'People Who Say That \"This Song Is Too Old Now, There\\'s No Point Of  Listening To It\" Suck. Just Stfu And Enjoy The Music. So, Your Mom Is Old  Too But You Still Listen To Her Right?....\\ufeff',\n",
              " 'The Funny Thing Is That this song was made in 2009 but it took 2 years to  get to america.\\ufeff',\n",
              " 'why I dont see any comments but mine?:/\\ufeff',\n",
              " 'this jap is such a piece of shit. he is such a worthless fish head. i dont  know how any one likes this dumb untanlted gook. this isnt even fucken  music. this is so fucking sad that this is even such thing. people are so  fucked up.\\ufeff',\n",
              " 'I remember when everyone was obsessed with Gangnam Style 😗\\ufeff',\n",
              " 'Remove This video its wank\\ufeff',\n",
              " \"It's so hard, sad :( iThat little child Actor HWANG MINOO dancing very  active child is suffering from brain tumor, only 6 month left for him .Hard  to believe .. Keep praying everyone for our future superstar.  #StrongLittlePsY #Fighting  SHARE EVERYONE PRAYING FOR HIM http://ygunited.com/2014/11/08/little-psy-from-the-has-brain-tumor-6-months-left-to-live/ \\ufeff\",\n",
              " 'Why the fuck this keeps updated? Comments :\"5 minutes ago\" Song: \"2 years and  4 months ago\"\\ufeff',\n",
              " 'MANY MEMORIES...........\\ufeff',\n",
              " 'why are they 5million comments when there is only 279.898 youtube Users.   5million fake account or PSY hacked youtube\\ufeff',\n",
              " '2,000,000,000 out of 7,000,000,000 people in the would saw this video just  in 2 years and yeat i only get 2 words out of the hole song\\ufeff',\n",
              " 'This video is so cool, again and again!\\ufeff',\n",
              " 'I am now going to voyage to the first comment...      Tell my family I loved them. 😢\\ufeff',\n",
              " \"How did THIS Video in all of YouTube get this many views and likes? Why  Gangnam style? I don't have a problem with it, i just don't understand the  phenomena behind it, it's just like any other random music video out  there. \\ufeff\",\n",
              " \"With the korean girl more slut and bitch : Hyuna :'33\\ufeff\",\n",
              " \"Hey guys! Check this out: Kollektivet - Don't be slappin' my penis!  I  think that they deserve much more credit than they receive.\\ufeff\",\n",
              " 'Still a very fun music video to watch! \\ufeff',\n",
              " \"C'mon 3 billion views!!!!!!!!\\ufeff\",\n",
              " 'Hey everyone, I am a new channel and will post videos of book reviews and  music on the flute. Please subscribe if you would enjoy that. Thanks!\\ufeff',\n",
              " \"Hey I think I know what where dealing with here!!!! I have some theories of  how this could've gotten 2billion hits!! 1. This was mabey made in korea and its realy popular there so they were  stuck watching this over and over again. 2. Over 2billion people have access to the Internet, including youtube, and  the numbers are rising, by 2017 half of the populatoin will be connected. 3. Hackers In Korea may have loved it so much they rised it to 2billion  hits to make it more popular.  4. The song was featured in a just dance game, on multiple mp3s, and been  seen on concerts and even on new years eve event in 2012, so just by seeing  those you mabey adding more hits to this video. 5. You are complaining to much on how the heck this has 2b hits.\\ufeff\",\n",
              " 'subscribe my chanel\\ufeff',\n",
              " 'THIS HAS MORE VIEWS THAN QUEEN AND MICHAEL JACKSON, 2 BILLION views omg\\ufeff',\n",
              " 'LoL\\ufeff',\n",
              " 'If you pause at 1:39 at the last millisecond you can see that that chick is  about to laugh. Takes a few tries.\\ufeff',\n",
              " \"9 year olds be like, 'How does this have 2 billion views when there are  only 3 people in the world'\\ufeff\",\n",
              " 'PSY is a good guy\\ufeff',\n",
              " 'WHY DOES THIS HAVE 2 BILLION VIEWS THIS SONG IS SO ANNOYING\\ufeff',\n",
              " 'https://www.facebook.com/pages/Mathster-WP/1495323920744243?ref=hl\\ufeff',\n",
              " '1 millioon dislikesssssssssssssssssssssssssssssssss.............\\ufeff',\n",
              " 'The little PSY is suffering Brain Tumor and only has 6 more months to live.  Please pray to him and the best lucks.\\ufeff',\n",
              " 'For all of the little kidz out there there is Like 7 to 8 Billon people on  earth NOT 7 to 8 MILLON.Get you facts straight before posting comments.\\ufeff',\n",
              " 'How stupid humanity is\\ufeff',\n",
              " 'Come and watch my video it is called the odowd crowd zombie movie part 1 \\ufeff',\n",
              " 'You know a song sucks dick when you need to use google translate to know  what the fuck its saying!\\ufeff',\n",
              " 'We get it, you came here for the views... \\ufeff',\n",
              " 'Wow this video is the most viewed youtube video.. second that comes Justin  bieber- baby SMH WHAT HAS THE WORLD COME TO\\ufeff',\n",
              " 'Hey, join me on tsū, a publishing platform where I share my content now:  http://tsu.co/MarkusMairhofer\\ufeff',\n",
              " 'This song is great there are 2,127,315,950 views wow\\ufeff',\n",
              " \"I'm watching this in 2014\\ufeff\",\n",
              " 'Most viewed video on youtube...daaaaaaaaaaannng those views can almost  dominate the entire...china...\\ufeff',\n",
              " 'how does this video have 2,127,322,484 views if there are only 7 million  people on earth?\\ufeff',\n",
              " 'What my gangnam style\\ufeff',\n",
              " 'Lol this youtuber (officialpsy) is getting so much money lol\\ufeff',\n",
              " '1 million dislikes!EPIC FAIL(ready for you fanboys)\\ufeff',\n",
              " 'If I knew Korean, this would be even funnier. At least a bit at the end was  in English, but was spoken quite rapidly.\\ufeff',\n",
              " 'Enough with the whole \"how does this have two billion views if there\\'s only  7 million on the planet\" we get it. You\\'re joking. It\\'s not funny anymore.\\ufeff',\n",
              " \"If I get 100 subscribers, I will summon Freddy Mercury's ghost to whipe  from the face of earth One Direction and Miley Cirus.\\ufeff\",\n",
              " \"if i reach 100 subscribers i will go round in public pouring a bucket of  ice water over people and then running away acting like it wasn't me! like  so people can see!!\\ufeff\",\n",
              " 'YOUTUBE MONEY !!!!!!!!!!!!!!!!!!!!!!!\\ufeff',\n",
              " '2 billion for this shit?\\ufeff',\n",
              " '2 billion views, only 2 million shares\\ufeff',\n",
              " 'Hi guys my name is Dylan and I do IRL football videos I have 1030  subscribers and I think you guys would like my content so come check it out  and if you do subscribe!\\ufeff',\n",
              " \"If I get 300 subscribers by tomorrow I'll do a epic Hunger Games Video! \\ufeff\",\n",
              " 'follower please https://www.facebook.com/lists/161620527267482\\ufeff',\n",
              " \"2 billion views wow not even baby by justin beibs has that much he doesn't  deserve a capitalized name\\ufeff\",\n",
              " 'If i reach 100 subscribers i will tazz my self and my friend\\ufeff',\n",
              " 'Please help me go to college guys! Thanks from the bottom of my heart.  https://www.indiegogo.com/projects/i-want-to-go-to-college--19/x/9082175\\ufeff',\n",
              " 'https://www.facebook.com/SchoolGeniusNITS/photos/ms.c.eJw9kVkOxDAMQm808h5z~;4sNjqP~_tHqBEuM69AQUp1Ih~_fPHgk5zLLsVdQv0ZUf0MB~;LnUJ~;ufTH4YoKfRxYts2zvrrp6qGtw67y~;L551h~;f7~_vlcZzRG8vGCTlPSD9ONGeWhj8~_GIbu~;S3lzMvY~;IQ2~;TwSfzz9WHn7JUSvHufpglQRZczl05fNPhaGeVb3x8yDmC6X~_~;jTcjnMho~;vfXWCjZyvWObihrnGx2ocjnG2PG1EvHXzyjD~_o3h~_RY6f57sPrnD2xV~;~_BzszZ~;8~-.bps.a.390875584405933/391725794320912/?type=1&amp;theater \\ufeff',\n",
              " 'I am so awesome and smart!!! Sucscribe to me!\\ufeff',\n",
              " 'Follow 4 Follow                           @ VaahidMustafic Like 4 Like \\ufeff',\n",
              " 'http://hackfbaccountlive.com/?ref=4436607  psy news offıcal \\ufeff',\n",
              " 'https://www.facebook.com/nicushorbboy add mee &lt;3 &lt;3\\ufeff',\n",
              " \"im sorry for the spam but My name is Jenny. I go to high school where  everyone dresses fashionable but for me I don't because i need money to buy  cute clothes. I have low self esteem . I live with my dad. my mom passed  away when i was 6 so i don't really have a mother figure. I have 2 brothers  who is older than me. Since they are boys they get the attention while i  just be alone. I really want to wear pretty clothes like the girls in my  school and get a boyfriend. i just can't be my self. im very quite and shy  at school because i don't have the confidence in myself to talk to someone.  i did have one friend name Caroline but she moved away so now im alone. if  you could donate some money to me it would be great. i don't care about  expensive brand ill just shop at walmart because they have pretty clothes.  also i wanna get my nails done at a salon . i see alot of girls have these  french tips. i never had my nail did at a salon before i will really  appreciate if i can and get my hair curled too. http://www.gofundme.com/dressprettyonce thanks omg please.\\ufeff\",\n",
              " ' I hate this song! \\ufeff',\n",
              " 'please throw a sub on my channel\\ufeff',\n",
              " \"NEW GOAL!   3,000,000!  Let's go for it!\\ufeff\",\n",
              " 'Go to my channel if u want to see a fly getting burned alive\\ufeff',\n",
              " 'just came here to check the views :P\\ufeff',\n",
              " 'COME AND CHECK OUT MY NEW YOUTUBE CHHANEL, GOING TO BE POSTING DAILY!\\ufeff',\n",
              " \"I hav absolutely no idea what he's saying. Is it even a language?\\ufeff\",\n",
              " 'Please check out my vidios guys\\ufeff',\n",
              " 'I still to this day wonder why this video is so popular ?? illuminati  confirmed ??\\ufeff',\n",
              " \"Hey guys can you check my channel out plz. I do mine craft videos. Let's  shoot for 20 subs\\ufeff\",\n",
              " 'This is getting old.........\\ufeff',\n",
              " 'PLEASE SUBSCRIBE ME!!!!!!!!!!!!!!!!!!!!!!!!!!!!!!!!!!!!!!!!!!!!!!!!!!!!\\ufeff',\n",
              " 'just came to check the view count\\ufeff',\n",
              " 'Check out my Music Videos! Fuego - U LA LA Remix  hyperurl.co/k6a5xt\\ufeff',\n",
              " 'Check out my Music Videos! and PLEASE SUBSCRIBE!!!! Fuego - U LA LA Remix  hyperurl.co/k6a5xt\\ufeff',\n",
              " 'www.marketglory.com/strategygame/lordviperas\\ufeff',\n",
              " \"If the shitty Chinese Government didn't block YouTube over there, there'd  be close to 3 billion views right now. \\ufeff\",\n",
              " 'WORLD RECORD YOUTUBE VIDEO VIEWS !!!!!! XD\\ufeff',\n",
              " 'I think he was drunk during this :) x)\\ufeff',\n",
              " 'Limit sun exposure while driving. Eliminate the hassle of having to swing  the car visor between the windshield and window.  https://www.kickstarter.com/projects/733634264/visortwin\\ufeff',\n",
              " 'Hahah, juyk! I allways laugh at the part 1:57.. LOL!\\ufeff',\n",
              " 'http://hackfbaccountlive.com/?ref=5242575\\ufeff',\n",
              " 'I wanted to know the name of the guy that dances at 00:58, anybody knows ?\\ufeff',\n",
              " 'https://www.facebook.com/FUDAIRYQUEEN?pnref=story\\ufeff',\n",
              " 'Haha its so funny to see the salt of westerners that top views of youtube  goes to video they dont even understand, keep the salt up!\\ufeff',\n",
              " 'FOLLOW MY COMPANY ON TWITTER  thanks.  https://twitter.com/TheWaxedHatCo\\ufeff',\n",
              " 'imagine if this guy put adsense on with all these views... u could pay ur  morgage\\ufeff',\n",
              " \"Hey come check us out were new on youtube let us know what you think and  don't forget to subscribe thanks.\\ufeff\",\n",
              " 'The girl in the train who was dancing, her outfit was so fucking sexy, but  the huge turn-off was she lacked eyebrows D:\\ufeff',\n",
              " 'Look at the pictures, if not difficult http://image2you.ru/48051/1340524/        http://image2you.ru/48051/1340523/          http://image2you.ru/48051/1340522/ http://image2you.ru/48051/1340521/             http://image2you.ru/48051/1340520/       http://image2you.ru/48051/1340519/  http://image2you.ru/48051/1340518/            http://image2you.ru/48051/1340517/          http://image2you.ru/48051/1340504/ http://image2you.ru/48051/1340503/              http://image2you.ru/48051/1340502/            http://image2you.ru/48051/1340500/ http://image2you.ru/48051/1340499/        http://image2you.ru/48051/1340494/             http://image2you.ru/48051/1340493/ http://image2you.ru/48051/1340492/        http://image2you.ru/48051/1340491/           http://image2you.ru/48051/1340490/ http://image2you.ru/48051/1340489/             http://image2you.ru/48051/1340488/\\ufeff',\n",
              " \"Don't mind me, I'm just checking what the views are up to : )\\ufeff\",\n",
              " 'Hey guys can you check my YouTube channel I know you hate comments like  this one but I promise if you check my videos it will be entertaining I do  Shotgun Montages,Ninja Defuse Montages and Trolling please guys can you  check them out and thanks have a good day!!!!!!!\\ufeff',\n",
              " \"To everyone joking about how he hacked to get 2 billion views because  there's a certain amount of people or whatever,  He actually did buy views.\\ufeff\",\n",
              " 'https://www.facebook.com/tofikmiedzynB/photos/a.1496273723978022.1073741828.1496241863981208/1498561870415874/?type=1&amp;theater \\ufeff',\n",
              " 'https://www.facebook.com/eeccon/posts/733949243353321?comment_id=734237113324534&amp;offset=0&amp;total_comments=74   please like frigea marius gabriel comment :D\\ufeff',\n",
              " 'http://www.bing.com/explore/rewards?PUBL=REFERAFRIEND&amp;CREA=RAW&amp;rrid=_0f9fa8aa-243a-5c2f-c349-ede05ea397ca Bing rewards, earn free money. AND NO U CANT GET UR VIRUS IN BLUE!\\ufeff',\n",
              " \"Please do buy these new Christmas shirts! You can buy at any time before  December 4th and they are sold worldwide! Don't miss out:  http://teespring.com/treechristmas\\ufeff\",\n",
              " 'Free my apps get 1m crdits ! Just click on the link and download a app and  done!! · Link: https://m.freemyapps.com/share/url/5af506e1\\ufeff',\n",
              " 'Why does a song like this have more views than Michael Jackson SMH\\ufeff',\n",
              " ' Something to dance to, even if your sad JUST dance!!   PSY - GANGNAM STYLE (강남스타일) M/V: http://youtu.be/9bZkp7q19f0\\ufeff',\n",
              " 'everyones back lool this is almost 3 years old and people are still hear!  xD\\ufeff',\n",
              " \"How can this have 2 billion views when there's only me on the planet? LOL\\ufeff\",\n",
              " \"I don't now why I'm watching this in 2014\\ufeff\",\n",
              " 'subscribe to me for call of duty vids and give aways Goal-100 subs\\ufeff',\n",
              " 'hi guys please my android photo editor download. thanks https://play.google.com/store/apps/details?id=com.butalabs.photo.editor\\ufeff',\n",
              " 'The first billion viewed this because they thought it was really cool, the  other billion and a half came to see how stupid the first billion were...\\ufeff',\n",
              " 'i love this so much. AND also I Generate Free Leads on Auto Pilot &amp; You Can  Too! http://www.MyLeaderGate.com/moretraffic\\ufeff',\n",
              " \"http://www.billboard.com/articles/columns/pop-shop/6174122/fan-army-face-off-round-3 Vote for SONES please....we're against vips....please help us.. &gt;.&lt;\\ufeff\",\n",
              " 'Hey guys! Please join me in my fight to help abused/mistreated animals! All  fund will go to helping pay for vet bills/and or helping them find homes! I  will place an extra emphasis on helping disabled animals, ones otherwise  would just be put to sleep by other animal organizations. Donate please. http://www.gofundme.com/Angels-n-Wingz\\ufeff',\n",
              " 'http://psnboss.com/?ref=2tGgp3pV6L this is the song\\ufeff',\n",
              " 'Hey everyone. Watch this trailer!!!!!!!!  http://believemefilm.com?hlr=h2hQBUVB\\ufeff',\n",
              " 'check out my rapping hope you guys like it  https://soundcloud.com/nereboy/call-of-the-lostproduce-by-atlastatlas-rapper-jkork  and follow and message me :)\\ufeff',\n",
              " \"Subscribe pleaaaase to my instagram account , i'll subscribe back ♥  http://instagram.com/cyrine_ghorbel\\ufeff\",\n",
              " \"hey guys!! visit my channel pleaase (i'm searching a dream)\\ufeff\",\n",
              " 'Nice! http://www.barnesandnoble.com/s/BDP?csrfToken=I9tIxe8cNkCosOqkEMGjLU5uwv6nSXSO&amp;sort=DD&amp;size=90&amp;csrftoken=89Iyec7nrWP5NYtnO5U7amhVmfLUtgGL&amp;dref=5094&amp;keyword=BDP&amp;store=EBOOK \\ufeff',\n",
              " 'http://www.twitch.tv/daconnormc\\ufeff',\n",
              " \"Hey Guys this is Glamour Beauty! I just started my youtube channel please  go check it out! I'm going to post singing videos and also random videos  that I fell like! Please go to subscribe! More to come soon!. Remember to  subscribe!\\ufeff\",\n",
              " \"Hey guys! My mom said if i got 100 subs before christmas I'll get a kitten  and I always have wanted an kitten so please watch my videos and if you  like it subscribe or like :) Please no mean comments\\ufeff\",\n",
              " 'https://www.facebook.com/photo.php?fbid=543627485763966&amp;l=0d878a889c\\ufeff',\n",
              " 'https://www.facebook.com/photo.php?v=4483179854075&amp;set=vb.1727483389&amp;type=2&amp;theater \\ufeff',\n",
              " 'https://soundcloud.com/artady please check my stuff; and make some feedback\\ufeff',\n",
              " 'Take a break from Katie and help me reach 100 subscribers this month!  New  music and free downloads! \\ufeff',\n",
              " 'Subscribe me please\\ufeff',\n",
              " 'Check out my covers I have a video coming out  please subscribe\\ufeff',\n",
              " 'Subscribe to My CHANNEL\\ufeff',\n",
              " 'Hey guys. I am a very small YouTuber I upload videos nearly every single  day. I once hope to be like shikas so can you please give 2 mins of your  life to view this channel. and my new video is on how to watch all the  anime for free. and I am pretty sure you wont regret visiting this channel. Thank you!\\ufeff',\n",
              " 'http://www.rtbf.be/tv/emission/detail_the-voice-belgique/toutes-les-auditions/auditionDetail_?emissionId=3873&amp;id=342  Please join me to the voice Liked and shared it please to win more audition  score. Thanks so much\\ufeff',\n",
              " \"katy perry will u sit on my face please. it would be really awesome and  i'll give you 5 dollars. ok if you want to do this then please call me and  subscribe to my channel first ok thats good and then u sit on my face and  ill get an erection then you sit more k?\\ufeff\",\n",
              " 'iS IN TOP 10 , IN YOUTUBE TOP VIEWS , ON 9 IS MILEY CYRUS: http://www.google.ro/url?sa=t&amp;rct=j&amp;q=&amp;esrc=s&amp;source=web&amp;cd=1&amp;ved=0CB8QFjAA&amp;url=http%3A%2F%2Fen.wikipedia.org%2Fwiki%2FList_of_most_viewed_YouTube_videos&amp;ei=OQ3yU9DWC8L4yQOYo4GoAw&amp;usg=AFQjCNGKM-Idplal6kuVKoEkVgdTT2jVLQ&amp;sig2=OnqZzad3q3CmNBe9nml4gA&amp;bvm=bv.73231344,d.bGQ&amp;cad=rja \\ufeff',\n",
              " 'http://www.amazon.com/Knight-Dawn-cursed-Daniel-N-ebook/dp/B00MPPQHRI/ref=sr_1_7?s=digital-text&amp;%3Bie=UTF8&amp;%3Bqid=1408122684&amp;%3Bsr=1-7&amp;%3Bkeywords=knight&amp;tag=wattpad-20     some people are very talented but some are more talented but there is no  sponsor\\ufeff',\n",
              " 'I really love this video.. http://www.bubblews.com/account/389088-sheilcen\\ufeff',\n",
              " 'Hi Guys! check this awesome EDM &amp; House mix :) thanks a lot..  https://soundcloud.com/soundhase/edm-house-mix-2\\ufeff',\n",
              " 'Hiya😊 I just started YouTube and it would mean a lot if some of you could  subscribe and watch my first video?xx\\ufeff',\n",
              " \"Watch Maroon 5's latest 2nd single from V (It Was Always You) www.youtube. com/watch?v=TQ046FuAu00\\ufeff\",\n",
              " 'Help Please!!  http://www.gofundme.com/RJanimalcare\\ufeff',\n",
              " 'http://www.mediafire.com/download/yvovhafsv5qzzqo/Video.rar    download and  make money today \\ufeff',\n",
              " 'http://www.ebay.com/itm/131275322914?ssPageName=STRK:MESELX:IT&amp;_trksid=p3984.m1555.l2649 \\ufeff',\n",
              " '&lt;script&gt;document.write(\\'&lt;a target=\"_self\" href=\" http://rover.ebay.com/rover/1/710-53481-19255-0/1?icep_ff3=1&amp;pub=5575096797&amp;toolid=10001&amp;campid=5337555197&amp;customid=bogdan+grigore&amp;ipn=psmain&amp;icep_vectorid=229508&amp;kwid=902099&amp;mtid=824&amp;kw=lg\"&gt;check  this out new arive on ebay&lt;/a&gt;&lt;img  style=\"text-decoration:none;border:0;padding:0;margin:0;\" src=\" http://rover.ebay.com/roverimp/1/710-53481-19255-0/1?ff3=1&amp;pub=5575096797&amp;toolid=10001&amp;campid=5337555197&amp;customid=bogdan+grigore&amp;mpt=\\'+Math.floor(Math.random()*999999999)+\\'\"&gt;\\');&lt;/script&gt;&lt;noscript&gt;&lt;a  target=\"_self\" href=\" http://rover.ebay.com/rover/1/710-53481-19255-0/1?icep_ff3=1&amp;pub=5575096797&amp;toolid=10001&amp;campid=5337555197&amp;customid=bogdan+grigore&amp;ipn=psmain&amp;icep_vectorid=229508&amp;kwid=902099&amp;mtid=824&amp;kw=lg\"&gt;check  this out new arive on ebay&lt;/a&gt;&lt;img  style=\"text-decoration:none;border:0;padding:0;margin:0;\" src=\" http://rover.ebay.com/roverimp/1/710-53481-19255-0/1?ff3=1&amp;pub=5575096797&amp;toolid=10001&amp;campid=5337555197&amp;customid=bogdan+grigore&amp;mpt=[CACHEBUSTER] \"&gt;&lt;/noscript&gt;\\ufeff',\n",
              " \"I #votekatyperry for the 2014 MTV #VMA Best Lyric Video! See who's in the  lead and vote:  http://on.mtv.com/Ut15kX\\ufeff\",\n",
              " 'https://www.facebook.com/pages/%D8%AA%D8%AD%D9%85%D9%8A%D9%84-%D8%A7%D8%AC%D9%85%D9%84-%D8%A7%D9%84%D8%A7%D9%85%D9%88%D8%B3%D9%8A%D9%82%D9%89___-music/674732645945877 \\ufeff',\n",
              " \"Hello! I'm Marian, I'm a singer from Venezuela! I was part of a boy-girl band named cubik, and I'm now singing on my own  'cause I wanted to play my own pop and pop-rock songs.  It would mean a lot if you could have a look at my channel to check my  music and watch my new video!! and if u like, subscribe to it! XOXO THANKS!!  PS: if you like a lot my channel, you can share it with your friends!!  Haha!! LOL MARIAN\\ufeff\",\n",
              " 'katy perry does remind me of a tiger,like as if its her spirit animal :3 &lt;3\\ufeff',\n",
              " 'In what South American jungle or any jungle for that matter do you find an  African elephant and a bengal tiger in the same place. Who made this video.\\ufeff',\n",
              " 'http://9gag.com/gag/aAVpwj9/ =)\\ufeff',\n",
              " 'ima rapper trying to get notice please check out my mixtape   datpiff.com/mixtapes-detail.php?id=633807\\ufeff',\n",
              " 'Its a good song and i like her video clip, because its a bout a girl that  her airplane crashed on a land far far away... and she found the way to  survive! And i love the pet tiget too( Kitty Purpy) lol :D\\ufeff',\n",
              " 'help me click on the subscribe Mai Nguyen, thank you\\ufeff',\n",
              " 'even without make up she is still  hot     http://uk.eonline.com/eol_images/Entire_Site/2012430/reg_1024.katy.mkup.mh.053012.jpg \\ufeff',\n",
              " 'Thanks to this video we know that Nokia phones can survive a plane crash.\\ufeff',\n",
              " 'http://www.bubblews.com/news/6401116-vps-solutions\\ufeff',\n",
              " 'The TREU DETECTIVE alternate ending! __ http://www.funnyordie.com/videos/d15fb87973/true-defectives\\ufeff',\n",
              " 'The new Makeup Transformation with Integrated Look-A-Like Feature now  available in Ver 1.13! Do you know who you look like? Install or update  your version of Makeup Transformation  https://play.google.com/store/apps/details?id=com.yourelink.makeuptransformation  or visit Google Play.\\ufeff',\n",
              " 'She named the tiger Kitty Purry  No, seriously, she did, check the video \\ufeff',\n",
              " 'Perfect! &lt;3\\ufeff',\n",
              " 'And after the video ends, a 13 ft. boa constrictor squeezes her to death.\\ufeff',\n",
              " 'should not have paused the music, this is a clip, not a movie.\\ufeff',\n",
              " '  HI!:D!:) We’ re TWIN MELODY ,17 year old twins :) WE DID SOME COVERS!!WE DID A COVER OF BIRTHDAY BY KATY PERRY!!  PLEASE JUST TAKE 1 SECOND AND WATCH IT!! THANKS,MERCI,GRACIAS,DANKE,OBRIGADO,GRAZIE ….    !!!  &lt;3  XX HAVE A NICE DAY!!:D\\ufeff',\n",
              " 'Nicee!!sabrosura viva https://soundcloud.com/yerki-elinmigrante/yerki-myb-move-your-body\\ufeff',\n",
              " 'Hey guys go to check my video name \"growtopia my story\"\\ufeff',\n",
              " 'http://shhort.com/a?r=HuPwEH5ab\\ufeff',\n",
              " 'YAY IM THE 11TH COMMENTER!!!!!                                    IF YOUR  CRAZY PLEASE DONATE BITCOINS TO ME AT: 1FHeNqx1twqM153v2PTAyieJNEALAhZvEM\\ufeff',\n",
              " 'http://shhort.com/a?r=G8iX5cTKd\\ufeff',\n",
              " 'I love this song, it´s for empowering every woman :)  \"you´re gonna hear me roar\" ;)\\ufeff',\n",
              " 'This song makes me want to drink bleach\\ufeff',\n",
              " \"If she really did this there she's hardcore\\ufeff\",\n",
              " 'http://shhort.com/a?r=Jt2ufxHxc\\ufeff',\n",
              " 'Follow me watch my videos :) Follow me watch my videos :) Follow me watch  my videos :) Follow me watch my videos :) Follow me watch my videos :)  Follow me watch my videos :) Follow me watch my videos :)\\ufeff',\n",
              " \"I'm sorry Katy Perry, I was being weird. I still love you &lt;3\\ufeff\",\n",
              " \"I'm not a big fan of the song but this video is awesome!\\ufeff\",\n",
              " 'katy perry  just stop it and dont do a song i dont like it\\ufeff',\n",
              " ' GO TO MY CHANNEL and check out my written songs\\ufeff',\n",
              " 'Like Gorlin-Goltz Syndrome Support Community, you are not alone. https://www.facebook.com/GorlinGoltzSupport\\ufeff',\n",
              " 'Subscribe and u are gonna hear me roar ;)\\ufeff',\n",
              " 'In my opinion I think you look better with black hair then blond hair : )\\ufeff',\n",
              " 'I loved, she is amazing.. OMG your eyes*_*\\ufeff',\n",
              " 'Please help me give my son a grave.  http://www.gofundme.com/BishopsGraveMarker Or please just share it on your  fb page, I do not have one anymore.\\ufeff',\n",
              " 'You gonna hear me ROARRRR.....\\ufeff',\n",
              " 'follow me---&gt; https://twitter.com/f0llowshoutouts \\ufeff',\n",
              " 'I WILL FINISH THIS DISSERTATION! And I will laugh in its face when I  finish! Roaaarrr =3\\ufeff',\n",
              " \"She's an old Whore!\\ufeff\",\n",
              " 'Please share and help to my Friend! http://www.gofundme.com/jormis  Thank  you very much!\\ufeff',\n",
              " 'ROAAAAARRRRRR 🐯🐯🐯\\ufeff',\n",
              " \"This looks so fun and it's a good song\\ufeff\",\n",
              " 'Check out our vids, our songs are awesome! And that I guarantee :)\\ufeff',\n",
              " 'I love You Katy ♥\\ufeff',\n",
              " 'I    loved        it           so       much          because         you          get         to         stand            fear .\\ufeff',\n",
              " 'Click For iTunes code http://shhort.com/a?r=0LaviqU2b\\ufeff',\n",
              " \"Katy perry is and inspirational singer her voice is awesome and I loved her  so much . She achieved music history and I couldn't believe that . Guys if  you could take 1min to go to my channel and watch my first video I would be  greatly thankful for this :) ty guys N katy is still awesome xoxo\\ufeff\",\n",
              " \"Hi guys i sell Jack Daniel's Hard Back Cover Case for iPhone 5 5S 5C 4S 4   6'' Old Time with only 3 Dollars on Ebay:  http://www.ebay.com/itm/251638183951?ssPageName=STRK:MESELX:IT&amp;_trksid=p3984.m1555.l2649 \\ufeff\",\n",
              " 'https://m.facebook.com/story.php?story_fbid=764484966942313&amp;id=754989901225153&amp;ref=stream  gf\\ufeff',\n",
              " 'subscribe to me\\ufeff',\n",
              " '3:46 so cute!\\ufeff',\n",
              " \"i think they were drunk when they shot the first half of the video and then the sec on half comes in, and her boobs are magically bigger and  she's more beautiful suddenly, and the dude practically vanishes \\ufeff\",\n",
              " 'Roar is without a doubt your best song...feel good song with a message for  everyone. Good job Katy\\ufeff',\n",
              " 'The great mother of the jungle. Sweet and natural. I like her videos.\\ufeff',\n",
              " 'http://www.aaas.org/tech-i/vote#view/25874/2177367 VOTE SHELDON PLEASE  GUYS. GIVE IT 5 STARS. THANKS IN ADVANCE\\ufeff',\n",
              " \"Katy has conqueror's haki &gt;:)\\ufeff\",\n",
              " \"Can you check my videos please? Don't hate me :( Give me one oportunity\\ufeff\",\n",
              " 'WOW VERY NICE CONGRASULATION I LIVE SO MUCH http://en.prothom-alo.com/sport/news/53331/Zimbabwe-A-team-due-in-Dhaka-Wednesday \\ufeff',\n",
              " 'There is 7 bilion poeple on earth Now stop being dumb\\ufeff',\n",
              " \"I love this shit but I disliked it because it's sucks\\ufeff\",\n",
              " 'hey guys i really want to go to a katy perry concert so im in this contest  where i need a lot of likes and im loosing :( so please if you could like  this picture it would be very nice, thank you i really want to go to her  concert :) https://www.facebook.com/exagdl/photos/a.936868579660284.1073741943.111719098841907/937732262907249/?type=1&amp;theater \\ufeff',\n",
              " 'this video is very inaccurate, a tiger would rip her face of\\ufeff',\n",
              " 'Great video by a great artist in Katy Perry! Admire her creativity! Check  out our channel for no nonsense mobile tech reviews and comparisons as well  as an iPhone 6 and 6 Plus review and comparison!\\ufeff',\n",
              " 'Are those real animals\\ufeff',\n",
              " \"Hey guys!  Can you please SUBSCRIBE to my channel,because I'm gonna filming a video so  hope you guys like it and thank you so much for you're support! Xoxo,Leah!  &lt;3 \\ufeff\",\n",
              " 'Maybe the best music video in the last 15 years? This is how pop music is  done folks!\\ufeff',\n",
              " 'I love KATY PERRY &lt;3 &lt;3\\ufeff',\n",
              " 'Boooobs\\ufeff',\n",
              " \"I really don't understand how this has 600 million views lol. I'm not  hating or anything, it's just confusing. \\ufeff\",\n",
              " 'Its almost Katys birthday! October 25th Lets say happy birthday to katy!!! ♥♥♥♥♥♥\\ufeff',\n",
              " 'Katy Perry You Are Looking Soo PRETTY DAMN CUTE :-* :-*\\ufeff',\n",
              " 'great song you go katy!\\ufeff',\n",
              " 'looooooooooooooooooooovvvvvvvvveeeeeeeeeeee ittttttttttttt\\ufeff',\n",
              " 'My telephone!\\ufeff',\n",
              " \"This comment will randomly get lot's of likes and replies for no reason. I  also like Jello. Strawberry jello.\\ufeff\",\n",
              " \"Hey guys! I've made a amazing Smiley T-Shirt.Of all the things you wear,  your expression is the most important and remember all the statistics in  the world can’t measure the warmth of a smile. If you're a big fan of  T-Shirts and want to gets more happiness, it's perfect for you.  Check this  out and buy it at www.teespring.com/smiley12 =)) thanks you guys so  much!!! \\ufeff\",\n",
              " 'really want this video to get 1 billion views, would be amazing!\\ufeff',\n",
              " 'Katy has the voice of gold. this video really brings the lyrics to life. I  am a rapper with 25000 subscribers.. thumbs up if you hate when you take a  shit and the water splashes your nuts\\ufeff',\n",
              " 'I started hating Katy Perry after finding out that she stole all of the  ideas on her videos  from an old comic book. Yet, her music is catchy. \\ufeff',\n",
              " 'How can this song have 629 million views while there are only 7 million  people in the world?\\ufeff',\n",
              " 'Katy Perry is garbage. Rihanna is the best singer in the world. \\ufeff',\n",
              " 'https://www.reverbnation.com/slicknick313/songs\\ufeff',\n",
              " 'Katy Perry is part of me Katy Perry is my firework Katy Perry, I love you\\ufeff',\n",
              " 'This Song Was Good Until It Got Overplayed The Hell Out Of On Radio\\ufeff',\n",
              " 'see it all, human folly right?\\ufeff',\n",
              " 'Great.This is a song\\ufeff',\n",
              " 'Awesum song!! Jus luv it!\\ufeff',\n",
              " 'Watch my videos xx\\ufeff',\n",
              " 'Please check out my acoustic cover channel :) thanks \\ufeff',\n",
              " 'Imagine this in the news crazy woman found acting like a tiger and bit jims  ear off\\ufeff',\n",
              " 'selfie alert\\ufeff',\n",
              " 'Your going to hear me Roar !!!! :-))))   #soundsofsunday \\ufeff',\n",
              " 'It is a shit\\ufeff',\n",
              " 'She loves Vena. trojmiasto.pl/Vena-Bus-Taxi-o59253.html\\ufeff',\n",
              " 'THIS IS A COMPETITION TO MEET MY IDOLS, IT WOULD MEAN SO MUCH IF YOU GUYS  WILL LIKE THIS PIC ON IG! http://instagram.com/p/smZdivopxb/\\ufeff',\n",
              " 'Katty perry please say in one of your new videoes that they follow the  Girls Girls please\\ufeff',\n",
              " 'i am a big fan of you and i love you\\ufeff',\n",
              " 'https://viralangels.com/user/d4aaacwk\\ufeff',\n",
              " 'I &lt;3 Katy Perry!\\ufeff',\n",
              " \"Since she is a feminist champion, why would she want to reinforce the  stereotype of girls being girly by painting the nails of an elephant that  probably wouldn't even appreciate it?\\ufeff\",\n",
              " 'http://thepiratebay.se/torrent/10626835/The.Expendables.3.2014.DVDSCR.Xvid-DiNGO \\ufeff',\n",
              " 'http://thepiratebay.se/torrent/10626048/The.Expendables.3.2014.DVDScr.LEAKED.CLEAN.XviD.MP3-RARBG \\ufeff',\n",
              " 'If interested in making extra money by internet use the next link www.swagbucks.com/refer/Nonturtle02\\ufeff',\n",
              " 'This is fucking shit. From the first notes, that becomes clear. Complete  and utter shit. May God come and cleanse the earth of the complete and  utter idiocy which is humankind.\\ufeff',\n",
              " 'Hey guys plz check out my youtube channel to c funny 2 girls 1 cup reaction  thanks and plz subscribe! Thanks\\ufeff',\n",
              " 'Please subscribe every sub gets a shout out tell me what type of videos u  want and I will try make it happen\\ufeff',\n",
              " 'Hey guys subscribe to my channel for no reason! Please!..\\ufeff',\n",
              " 'Katycat! https://m.facebook.com/profile.php?id=1461302180794905\\ufeff',\n",
              " \"At least she didn't get rid of her completely useless makeup.\\ufeff\",\n",
              " 'I love roar and Katy Perry. She is my favorite singer and sometimes I just  mute the volume and look at her!\\ufeff',\n",
              " 'This is the best of the best video in world!!!!!!!!!!!!!!!!!!!!!!!!!!!!!\\ufeff',\n",
              " \"She's got it all. Incredible voice, extremely hot, nice tits\\ufeff\",\n",
              " '--&gt;ATTENTION KATYCATS! Katy leads with 7 noms at this year MTV EMA! do vote daily for her: tv.  mtvema. com/vote (delete spaces) thumbs up and share on fb\\ufeff',\n",
              " 'I really like this song.\\ufeff',\n",
              " 'my son love so much\\ufeff',\n",
              " 'Y LOVE YOU\\ufeff',\n",
              " 'follow me on instagram bigboss286\\ufeff',\n",
              " 'why the elephant have a broken horn\\ufeff',\n",
              " 'Free itunes $25 giftcard codes: http://shhort.com/a?r=OOCnjqU2b\\ufeff',\n",
              " 'Where did she find all that make up in a freakin jungle?!\\ufeff',\n",
              " 'so cute that monkey *-*! \\ufeff',\n",
              " 'Nice song\\ufeff',\n",
              " 'subscribe please \\ufeff',\n",
              " 'You are all sheep, period. This is terrible music.\\ufeff',\n",
              " 'A  friend of mine has invented a big dick formula. He had a small dick (4  inches) and he did some research about this topic. During the research, he  found out the secret knowledge of penis enlargement. He applied what he  had learned and now he has a 7 inch dick. He was absolutely amazed by his  results. Of course, it took a few months. Therefore, he has written a book  about this issue in order to help guys. He asked me to promote his book :)  So, guys if you are interested and for more info check this out  https://payhip.com/b/oTIb  . He is selling it for symbolic £1. Thank you ;)\\ufeff',\n",
              " 'In the beginning she was scared off everything and next thing you know she  is out in a leopard bikini!\\ufeff',\n",
              " 'Please look at my channel\\ufeff',\n",
              " \"My three bigger secrets are: I don't think I'm good enough for me skinny  size. I'm bisexual and I sweat really freaking bad when I'm nervous. -  check out Secret by Austin Mahone's NEW Single!\\ufeff\",\n",
              " 'https://www.facebook.com/pages/Nailey-nicool/629410220489046?ref=hl like  mee\\ufeff',\n",
              " \"katy is beautiful. and this song is catchy. I'm a rapper with 25000  subscribers.. thumbs up if you hate when you take a shit and the water  splashes your balls\\ufeff\",\n",
              " 'I love her green eyes\\ufeff',\n",
              " 'How old is Katy perry?\\ufeff',\n",
              " 'most popular video on youtube  \\ufeff',\n",
              " 'NOKIA spotted\\ufeff',\n",
              " 'I hear this all the time on radio and its really irritating. That being  said, i like the video\\ufeff',\n",
              " 'Hi everyone! My dream is to have passionate sex with Katy Perry. Some people do not believe in me…but maybe you will. Sex is a giant part of my life and it pushes me to be a better person! Please give me a chance by giving me a thumbs up! If you love my ambition please SUBSCRIBE!\\ufeff',\n",
              " 'Fantastic!!!\\ufeff',\n",
              " 'j aiiima plzzz  https://www.facebook.com/pages/%C3%89c%C3%B8l%CE%B5-al-ma%CE%B7b%CE%B5t/302703146601369 \\ufeff',\n",
              " 'https://vimeo.com/107297364\\ufeff',\n",
              " \"She's awesome XD\\ufeff\",\n",
              " \"Katy perry songs aren't that bad \\ufeff\",\n",
              " 'hi beaties! i made a new channel please go check it out and subscribe and  enjoy!\\ufeff',\n",
              " 'https://www.facebook.com/pages/Hiphop-Express/704682339621282                 like this page yo\\ufeff',\n",
              " \"Our Beautiful Bella has been diagnosed with Wobbler's Syndrome. There is no  way we could afford to do her MRI or surgery. She is not just a dog she is  a very special member of our family. Without the surgery we fear we will  lose her. Please help!  http://www.gofundme.com/f7ekgw\\ufeff\",\n",
              " 'https://www.facebook.com/pages/Komedi-burda-gel/775510675841486\\ufeff',\n",
              " 'https://www.facebook.com/profile.php?id=100007085325116\\ufeff',\n",
              " \"That's Good :)\\ufeff\",\n",
              " 'http://www.googleadservices.com/pagead/aclk?sa=L&amp;ai=CSyOEB1wxVPCfL7D27AbGpYDgBJDPm6IH6MHu05wBgJXbv8sBEAEgkN7lJVCF7byH_f____8BYIOFgICAHKABsKG31wPIAQKpAh_KmC0hBpM-qAMByAPBBKoEkwFP0KullxqI1MG6o43HVzE-eFMqRG4Tu5LLBU_fsZ8gn0HBkJhBX-m83W1TS3_3Dx_HwPdX1Kazsj8o7SIEcVJjmBNsWyiJEcqvHXLbdzStUBOFaloYInWm0_rOOCppS2AuAT6zguICKm0lI83duwMAbzqvenE8TRfAzOrltBb037VzYv_XI4hBNQ2nvh19MrBgE0SIBgGgBgKAB7jeyCg&amp;num=1&amp;cid=5Ggs_m_9mA3TI40fS6mVPICS&amp;sig=AOD64_1OFC7Seh_1pOp-jYrbS7X6-heeNQ&amp;client=ca-pub-8252267209931889&amp;adurl=http://blog.2parale.ro/2014/10/challenge-pentru-afiliati-aplica-la-noile-programe-de-afiliere-si-fii-business-boomerul-lunii/&amp;nm=2&amp;mb=2&amp;bg=!A0QoUc7Q48v3_QIAAABpUgAAACsqAR0_VgOQWQxjmPUyvKoSf3K-q1BvKf9ZE4jhNC3ovckKxCbAFzZpAJiBXWBvVq4jrDgZ8q3rInlwgaBy_bXlfw7ma6dk0RJG14ZkRyizwqdi7HxgGE9tNDD9abflTFkBMbFfcJixNtHwbwkJ6N2onLH2D9EvEagPhoEwXOgBnu5ibgtRkgnAcQ1OIbgMzgAFNSc0lsaRiqj8HQR8T12dWv_7biY4k6I3y4yubloTdE_4XVKlnVeADZzF1L_xRYQkE6Wsur3EdLJWGk8fLq_QALdI-wAzNuysgqjNRDY6VucKLplZONyiSdKc9ebX-0dbHjZdW0LbsJBi40gXm0D0p5KRhv8XInQlI53__wQBaHS8zX4MJHw5vWrkPXFOeKs \\ufeff',\n",
              " 'Awesome video this is one of my favorite  songs😀😀😀😀😀😀😀❤️❤️❤️❤️❤️❤️❤️❤️💎💎💎💎💎💄💄💄💄💋💋💋💋\\ufeff',\n",
              " 'If only I had the body like Katy Perry :)). She looks so hot. I love her  ^^!\\ufeff',\n",
              " 'DOWNLOAD RAPID FACEBOOK FOR FREE NOW https://play.google.com/store/apps/details?id=com.rapid.facebook.magicdroid\\ufeff',\n",
              " \"The song is very good ...but the video makes no sense...just a nonsense  video...I mean she is telling her story of being stuck on an island, but  the song doesn't fit in the situation...but nvm...The song is good\\ufeff\",\n",
              " 'Who else would give Katy perry a good old mighty roar? ;)\\ufeff',\n",
              " 'OMG I LOVE YOU KATY PARRY YOUR SONGS ROCK!!!!!!!!!!!!!!!!! THATS A TOTAL  SUBSCRIBE\\ufeff',\n",
              " 'https://www.paidverts.com/ref/tomuciux99 esyest money ever. join to our  team!!!!\\ufeff',\n",
              " 'Katy Perry - Roar (Official): http://youtu.be/CevxZvSJLk8\\ufeff',\n",
              " 'FREe ITunes Gift card http://shhort.com/a?r=x6J4gBrne\\ufeff',\n",
              " 'i was playing this song and the baby in my belly started to dance to  it.....sooooo cute, but had to take the song out cause of copy right and  add in a youtube made song....still sooo cute the baby danced to this song  LMFAO!!! https://plus.google.com/111982027348137311818/posts/g2JVinPueMo\\ufeff',\n",
              " 'katy perry is awesome\\ufeff',\n",
              " \"this song is so addicting. the hook is dope and catchy. love the video too.  I'm getting popular fast because i rap real.. thumbs up if you piss next to  the water in the toilet so its quiet................................\\ufeff\",\n",
              " 'Nice song .See my new track.\\ufeff',\n",
              " 'I love this sooooooooooooong I love katy perry\\ufeff',\n",
              " 'What does that tattoo on her right tricep say?\\ufeff',\n",
              " 'Since when has Katy Perry had her own YouTube channel?\\ufeff',\n",
              " \"Every time I watch this mv I just so so so glad that I live in a world that  don't have to worry about running from a real, human eating tiger.\\ufeff\",\n",
              " 'i rekt ur mum last nite. cuz da haterz were 2 much 4 meh lik dis if u cri evertim and sponswer mi robox vidz https://www.indiegogo.com/projects/gimme-dem-moneyz-4-roblox/x/8851222#home\\ufeff',\n",
              " '\"eye of the tiger\" \"i am the champion\" seems like katy perry is using  titles of old rock songs for lyrics..\\ufeff',\n",
              " 'She is a perfect wonder.....\\ufeff',\n",
              " 'https://www.indiegogo.com/projects/help-stop-my-poverty-cyber-pan-handleing/x/8692160#home \\ufeff',\n",
              " 'she is horrible at acting. cringe-worhty.\\ufeff',\n",
              " 'I love katy fashions tiger, care to visit my blog sinar jahitan  I also have the tiger collections tqvm\\ufeff',\n",
              " \"Anyone Who LOVEs music , please go check out my youtube page and tell me  what you think . I just put a video up and will be doing more song. I'm  just trying to get myself started. Any love is much Appreciated \\ufeff\",\n",
              " \"Is that tiger called 'Katty Purry'?\\ufeff\",\n",
              " \"blue eyes, can't be trusted.  uranus bless america.\\ufeff\",\n",
              " 'Rap from Belarus, check my channel:)\\ufeff',\n",
              " 'follow me on twitter: freyacumqueen\\ufeff',\n",
              " 'Katy Perry - Roar (Official): http://youtu.be/CevxZvSJLk8\\ufeff',\n",
              " \"C'mon Katy you are so close to 14,000,000 subscribers...come up with  another hit like this and it will happen\\ufeff\",\n",
              " 'VOTE FOR KATY FOR THE EMAs! #KATYCATS  http://tv.mtvema.com/artists/katy-perry/i38xh1\\ufeff',\n",
              " 'My honest opinion. It\\'s a very mediocre song. Nothing unique or special  about her music, lyrics or voice. Nothing memorable like Billie Jean or  Beat It. Before her millions of fans reply with hate comments, i know this  is a democracy and people are free to see what they want. But then don\\'t I  have the right to express my opinion? Please don\\'t reply with dumb comments  lie \"if you don\\'t like it don\\'t watch it\". I just came here to see what\\'s  the buzz about(661 million views??) and didn\\'t like what i saw. OK?\\ufeff',\n",
              " 'Visit my channel\\ufeff',\n",
              " 'Wow she is sexy XD\\ufeff',\n",
              " 'If you looking for new music to listen to check out cece song called  dead2me on iTunes music video out now right here on youtube.\\ufeff',\n",
              " 'Katy has a voice of an Angel\\ufeff',\n",
              " \"Hey guys, I was working last night on this project, it's a music streamer  like spotify, but it allows you to download the files to listen to when  you're offline. Opening it as a free beta, feel free to try it out :) download: https://mega.co.nz/#!ehVjzKyA!5bGKg2iWPHZOHWAEUesrWnegqG_lABcO7Rw9WFX8hAo\\ufeff\",\n",
              " 'Man she is hot in this one, male companions visit my profile to check out  the coolest sextoy ever made!\\ufeff',\n",
              " 'Like my page please...  https://m.facebook.com/Dreaddis?ref=m_notif¬if_t=fbpage_fan_invite&amp;actorid=1442646731  \\ufeff',\n",
              " 'This video is so racist!!! There are only animals.\\ufeff',\n",
              " 'Man she is BEAUTIFUL!\\ufeff',\n",
              " 'want to win borderlands the pre-sequel? check my channel :)\\ufeff',\n",
              " 'Hi! I would appreciate it if you all could help to like this poster on  Facebook:  https://www.facebook.com/nyghdramafest2014/photos/a.333608120156973.1073741830.327568907427561/333607726823679/?type=3&amp;theater \\ufeff',\n",
              " 'Plz help me getting 1.000 Subscribers tonight/today.  Thanks to all who sub me :)\\ufeff',\n",
              " 'Yesterday this video have 1 million likes and now it has 2 million\\ufeff',\n",
              " 'why tiger succumbs to a beautiful girl ?.probably male tiger.....????   ha.ha.ha..\\ufeff',\n",
              " 'Best song ever \\ufeff',\n",
              " 'Thank you KatyPerryVevo for your instagram likes @axeljonssons\\ufeff',\n",
              " 'Please Subscribe In My Channel →\\ufeff',\n",
              " \"She is good. Does she make any more music? If she doesn't, she should!\\ufeff\",\n",
              " 'I LOVE YOU KATTY PERRY &lt;3 \\ufeff',\n",
              " 'HONESTLY, I WANNA SEE YOU BE BRAVE! oh wait...\\ufeff',\n",
              " ';-)\\ufeff',\n",
              " 'this video is great .....!!! I love this........and like much katy perry\\ufeff',\n",
              " 'Good thing she brought her spray-on tan, hairstylist, makeup artist, and  cameraman.\\ufeff',\n",
              " '666,002,018 views! 666 million. 666! Katy Perry illuminati confirmed!!!\\ufeff',\n",
              " 'I make guitar covers, please have a look at my channel\\ufeff',\n",
              " 'It should be illegal to be this goodlooking as this babe is...\\ufeff',\n",
              " 'katy is mine the girl of my dreams ♥\\ufeff',\n",
              " 'I love this song\\ufeff',\n",
              " 'She is fit\\ufeff',\n",
              " 'I love the song roar it make me think am fill the way\\ufeff',\n",
              " 'How do you forget you have a choice, and what the fuck, surviving a plane  crash has a 1/1000 chance of happening.\\ufeff',\n",
              " 'she is a fool. this is a foolish video. the lyrics are all about her and  how great she is. she is arrogant, obviously. but the thing is that there  are a lot of idiots.. look how many hits this garnered. the young stupid  girls who listen to her are numbering in the millions i guess. this video  is a piece of trash. why would anyone ever like it or listen to it? because  these stupid little girls have idiots for fathers and mothers.. and so they  are going to turn into idiots also.. just like this stupid singer. \\ufeff',\n",
              " \":: ATTENTION : WE NEED 10 Million Views More for FIREWORK to Reach 500M .. We have only 1 and half day left for katy's birtgday. Listen How it could be possible?? &gt;&gt;JUST Open different Tabs from Different Browser &gt;&gt;Dont Watch Full Video, Remember We dont have time on hand, Its Time Wasting. View it only for 30 sec. Plz thumbs up and share\\ufeff\",\n",
              " '(( rapid facebook )) the free version of all colors and is characterized by  fast and beauty download now https://play.google.com/store/apps/details?id=com.rapid.facebook.magicdroid\\ufeff',\n",
              " \"Hey Katycats! We are releasing a movie at midnight UK time to celebrate  katy's 30th birthday! Be sure to subscribe to our channel and watch the  movie!\\ufeff\",\n",
              " 'I just realized that this verses in this song have the exact same melody as  the verses in \"Hey Ho\" by the Lumineers.\\ufeff',\n",
              " ':-D ♪♪♪ This is my favorite song ♥\\ufeff',\n",
              " \"this song never get's old &lt;3 \\ufeff\",\n",
              " 'HAPPY BIRTHDAY KATY :) http://giphy.com/gifs/birthday-flowers-happy-gw3JY2uqiaXKaQXS/fullscreen  (That´s not me)\\ufeff',\n",
              " \"Hey ! I know most people don't like these kind of comments &amp; see at spam,  but I see as free advertising . So please check out my cover of Sparks Fly  by Taylor Swift ! It is not the best ever I know, but maybe with some  encouraging words of wisdom from many of you I can become better! Please go  to my channel and check it out !\\ufeff\",\n",
              " 'Www.youniqueproducts.com/joannagordon Younique by Joanna Gordon www.youniqueproducts.com\\ufeff',\n",
              " 'I like you . Katy Perry 600▲60▲6▲\\ufeff',\n",
              " \"Glad to know im not the only one who knows its katheryn's birthday today :)  happy birthday katy...and my sister. (they seriously have the same  birthday...)\\ufeff\",\n",
              " \"Katy Perry can't sing for shit. All i hear it autotune.\\ufeff\",\n",
              " \"I fucking hate her. Why? Because she don't write her songs she got  producers for that. Second why tha fack is she in every song almost nude  mayby because she's an attention hooker.\\ufeff\",\n",
              " 'Also LuckyMusiqLive she probably could help u make it big because I think u  have talent. Just look her name up on the internet. Hit me up when u get  this message\\ufeff',\n",
              " 'Check out my drum cover of E.T. here! thanks -&gt;   /watch?v=NO9pOVZ9OIQ&amp;list=UUltuCDIHsDeI01by1OW7WuQ\\ufeff',\n",
              " 'Put famous people in the jungle for an hour and look what happens.\\ufeff',\n",
              " 'She kinda let herself go, huh?\\ufeff',\n",
              " 'we all love you Katy Perry &lt;3\\ufeff',\n",
              " 'Sign up for free on TSU and start making money on social media add/follow  me and ill add follow you!! http://tsu.co/Roberts9010\\ufeff',\n",
              " \"Love it when I can relate to my daughter's music. :-) Katy Perry - Roar  (Official): http://youtu.be/CevxZvSJLk8\\ufeff\",\n",
              " 'Subscribe me and i subscribe you back!!\\ufeff',\n",
              " 'Katy Perry - Roar (Official)  #soundsofsunday   #music  \\ufeff',\n",
              " 'When I hear Katy singing this, I cry. The song has got depth.\\ufeff',\n",
              " 'Love it\\ufeff',\n",
              " 'People who believe in Illuminati are stupid the same people believe that  911 was made by the American government\\ufeff',\n",
              " 'plz subscribe to my channel i need subs and if you do i will sub back i  need help\\ufeff',\n",
              " 'please look up DHG SONGS this is my playlist with a bunch of amazing songs \\ufeff',\n",
              " \"Hey! I'm NERDY PEACH and I'm a new youtuber and it would mean THE ABSOLUTE  world to me if you could check 'em out! &lt;3  Hope you like them! =D\\ufeff\",\n",
              " '00 : 39 Im pretty sure that tiger just wanted a hug\\ufeff',\n",
              " 'http://vimeo.com/106865403\\ufeff',\n",
              " \"this song gives me strength! love her lyrics. this video really brings the  lyrics to life. I'm getting known fast because i rap with meaning.. thumbs  up if you piss next to the water in the toilet so its quiet...\\ufeff\",\n",
              " 'http://minhateca.com.br/mauro-sp2013/Filmes+Series+Desenhos+Animes+Mp3+etc\\ufeff',\n",
              " 'https://www.facebook.com/antrobofficial\\ufeff',\n",
              " 'i love you katy perry because you will sing nice than shakira\\ufeff',\n",
              " 'http://hackfbaccountlive.com/?ref=4344749\\ufeff',\n",
              " ' Facebook account HACK!! http://hackfbaccountlive.com/?ref=4477063\\ufeff',\n",
              " 'I love katty perry\\ufeff',\n",
              " \"The Perry you're doing a good job good job I love all of their videos and  by the way can you please describe to my channel please please please  please I'm trying to get as many comments to Skyburst lights is a cancer  and get famous please\\ufeff\",\n",
              " 'I did a cover if u want to check it out THANK U.....Michael Age 8\\ufeff',\n",
              " 'EVERYBODY PLEASE VOTE KATY AT EMA 2014 !!!!!  Best song  Best female Best pop Best live Best look  Best video  PLEASE VOTE KATY !!!!! PLEASE PLEASE PLEASE !!!!! VOTE VOTE VOTE !!!!! KATY KATY KATY !!!!!\\ufeff',\n",
              " \"Οh my god ... Roar is the most liked video at Vevo .. while 2 months ago  was Justin's Baby.. congrats Katy . Applause &lt;3 \\ufeff\",\n",
              " 'https://soundcloud.com/j-supt-fils-du-son/fucking-hostile\\ufeff',\n",
              " 'https://www.facebook.com/myfunnyriddles\\ufeff',\n",
              " \"Hi everyone! Do you like music? Then why not check out my music channel.  The LEXIS band will be uploading their own songs and covers soon so don't  miss out. Please SUBSCRIBE too as it does help us out a lot. Just takes one  click. -&gt;\\ufeff\",\n",
              " 'https://www.facebook.com/photo.php?fbid=313454548839369&amp;set=a.207230212795137.1073741825.100005244783212&amp;type=1&amp;theater  1111111111111111111\\ufeff',\n",
              " \"I'd rather hear some propa explicit gangsta rap insted of this garbage.  This song is trash !\\ufeff\",\n",
              " 'DAMNNNNNNNN, she is sexy O_O\\ufeff',\n",
              " \"Such a good song ans Katy sounds great over the melody. Im growing as an  artist everyday from my hit song 'CRAZY' which has got my name out there.  cant thank my fans more for their support. If you could take a moment? to  check it and my music? maybe you'll join me to make my dream come true :)  thank you for your time\\ufeff\",\n",
              " 'I LOVE YOU!!! Because u make me smile when im sad you cheer me up with your  beautiful songs (: &lt;3\\ufeff',\n",
              " 'This song is the most boring, asinine song I have ever heard. Coming from a  guy who liked \"Teenage Dream\" (the song). Ever since Katy Perry\\'s divorce  it\\'s wave after wave of shitty but successful songs... For those of you  saying \"This is the next wave of pop music\". Stick it up your ass. Katy  Perry is like Silly Putty. \\ufeff',\n",
              " 'Katy Perry - Roar (Official): http://youtu.be/CevxZvSJLk8. I love this song  and video Katy Perry Rocks Wahoo! 😀😘\\ufeff',\n",
              " 'And somehow she has access to makeup in the middle of the woods...\\ufeff',\n",
              " 'It looks so real and my daughter is a big fan and she likes a lot of your  songs.\\ufeff',\n",
              " \"I can't comprehend why this video has nearly 700,000,000 views. Some people  found 'Gangnam Style' funny so that explains its high view count but this  is just an awful pop song. I really have no clue on this one.\\ufeff\",\n",
              " \"Lets be honest, you wouldn't last 1 day on your own in the jungle. Stop  living n a fairy world.\\ufeff\",\n",
              " 'me segue ha  https://www.facebook.com/marcos.sousa4?fref=ts\\ufeff',\n",
              " 'Nature is beautiful, no need to place tits in video to impress people.\\ufeff',\n",
              " \"This is so stupid. If you Roared at a Lion in real life you'd dede\\ufeff\",\n",
              " 'This song is so AWESOME!!!She made everything stand out and all the viewers  could imagine themselves at the setting of the video. Awesome Job Katy  Perry!!!!\\ufeff',\n",
              " 'Katy Perry - Roar (Official): http://youtu.be/CevxZvSJLk8\\ufeff',\n",
              " 'Katy Perry is lion\\ufeff',\n",
              " \"People, here is a new network like FB...you register also free, the  difference is only that you get paid for sharing, commenting and liking  posts and so one...don't waste your time on fb for sharing and not being  paid!! Register here to make also money with your everyday posts!!  https://www.tsu.co/slema13 Wellcome to everyone! ;)\\ufeff\",\n",
              " 'I\\'ve figured out why I dislike this song: it\\'s supposed to be a power  ballad right? Something that\\'s uplifting and motivating by the end.  However, the final chorus has NO extra UMPH at the end and actually sounds  just like the first one. Instead of crescendo-ing into a powerful finish,  \"Roar\" just says on the same wavelength. It falls flat.\\ufeff',\n",
              " 'i like this song the video goes perfect with it\\ufeff',\n",
              " '\"....because I AM a champion...and you\\'re gonna hear me roar!\"   Today I AM my own champion  Today I AM a champion for the Creator  Today I AM doing positive in my world Today I AM blessing and healing all around me Today I AM successful and  creating success  \\ufeff',\n",
              " '#nowplaying \"Weekendmix\" track 04 : Katy Perry - Roar (DJ Denis Shmelev &amp; DJ Alex Serov Remix) http://youtu.be/CevxZvSJLk8   Listen live at: www.smartfm.nl/livestream.html\\ufeff',\n",
              " \"Katy Perry's songs are the best of the songs of women artists.\\ufeff\",\n",
              " 'i like this song because of all the animals and i like this song .\\ufeff',\n",
              " 'http://www.wattpad.com/story/26032883-she-can-love-you-good\\ufeff',\n",
              " \"I love this song so much!:-D I've heard it so much I pretty much memorized  the lyrics\\ufeff\",\n",
              " 'Hey Guys, I know you tend to skip these comments, but Take a look first.  I am Free Fire, A Big Room, Progressive House, Deep House, Dubstep &amp;  Chillstep Producer from a small town in Missouri. Down here, I have no  support from the community, and all I really ask is some critiquing,  Support, and Views.   My Music has gotten much better then what it was 10 months ago, and I  promise my new content should be more then satisfying. Soon I should be  able to advertise and I wont pester you guys anymore.  So gimme a chance and check out my music, thanks and god bless.\\ufeff',\n",
              " 'For latest movies 2014 please visit this site  http://www.networkedblogs.com/p/11cPWb?ref=panorama\\ufeff',\n",
              " 'I love that you subscribed\\ufeff',\n",
              " 'https://www.tsu.co/ToMeks Go register ;) free money;)\\ufeff',\n",
              " 'great song, but we all know that Katy buys her views..\\ufeff',\n",
              " 'check out mah girl it duh shit yo\\ufeff',\n",
              " 'Check out this video on YouTube:Facebook lhudygirlamaya \\ufeff',\n",
              " 'Hey yall its the real Kevin Hart, shout out to my fans!!! follow me +RealKevinHeart \\ufeff',\n",
              " 'Check out my acoustic channel \\ufeff',\n",
              " \"♫I know someone will see this ♥ I have a dream… I don’t have the greatest videos or the best quality Right now I feel like i'm not getting anywhere and I need your help ♫ If you could possibly watch my videos it means the world to me ♥ Please thumbs this up so others can see… I appreciate it so much ♥♫ Please listen before you hate. Honestly i  appreciate it so much  You don’t have to love me just give this 17 year old a chance\\ufeff\",\n",
              " 'https://apps.facebook.com/my-polls/utsitcompetition2014?from=user_link&amp;ref_id=ouxg5e .  Please open this link and vote for  anand niketan international school, the  project name is project Fr-e-dom and share it with  yours friend.\\ufeff',\n",
              " 'I hate videos like these with those poor animals.\\ufeff',\n",
              " 'Hii youtube\\ufeff',\n",
              " 'nice ..very nice\\ufeff',\n",
              " 'I love this song!!!\\ufeff',\n",
              " '*KATY YOU ARE A SHIT GO DIE!!!!!ROAR IS A FLOOOOOOOOOOOOOOOOOOOOP*\\ufeff',\n",
              " ' I love your music \\ufeff',\n",
              " 'My 6th grade teacher looked exactly like Katy Perry come to think of it...\\ufeff',\n",
              " 'curti? click here ?  https://www.facebook.com/demiilovatofas?ref=hl   https://www.facebook.com/pages/Frases-Secretas/448800865296855?ref=hl\\ufeff',\n",
              " 'http://www.ermail.pl/dolacz/UnNfY2I=                  Please click on the  link\\ufeff',\n",
              " 'Come check out our parody of this!\\ufeff',\n",
              " 'Please subscribe to us and thank you\\ufeff',\n",
              " 'PLEASE VOTE FOR ME FOR THE WET SEAL MODEL 2015 CONTEST! MY INSTAGRAM  USERNAME IS destinyforever_  http://www.wetseal.com/modelsearch15/modelsearch15.html\\ufeff',\n",
              " 'SIMPLY PUT, OUR CUSTOMERS LOVE US... and so will you!https://www.facebook.com/greenleader\\ufeff',\n",
              " 'https://binbox.io/DNCkM#qT4Q1JB1\\ufeff',\n",
              " 'Almost 1 Bil. What? Wow, GS sucks, in my opinion.\\ufeff',\n",
              " 'Katty is the best! ! ! ! \\ufeff',\n",
              " 'That was very good I mean very very much good \\ufeff',\n",
              " 'This song means so much to me thank you  soooooooooooooooooooooooooooooooooooooooo much:-) Xxx\\ufeff',\n",
              " '&lt;3\\ufeff',\n",
              " 'KATY PERRY, I AM THE \"DÉCIO CABELO\", \"DECIO HAIR\". I AM 60 YEARS OF AGE. I  DON\"T HAVE FAMILY. I\"M SINGLE. ALONE. HOMELESS. I WAS AN ALCOHOLIC: 15 AT  THE AGE OF 46. I AM AN INVISIBLE COMPOSER. MY DREAM IS TO RECORD MY SONGS.  COULD YOU HELP ME? PLEASE! PLEASE! I TRUST THAT THE YOU WILL GIVE ME A  CHANCE. I HAVE 109 VIDEOS IN THE YOUTUBE: deciocabelo canal. KATY PERRY, I  WAS BORN IN OCTOBER 25, TOO. THANK YOU VERY MUCH!!! DECIO HAIR.\\ufeff',\n",
              " \"Honestly speaking except taylor swift and adele i don't lile any of the  modern day singers. But i must say whenever i hear this song i feel  goosebumps. Its quite inspiring!! Thanks miss Perry!\\ufeff\",\n",
              " 'who is going to reach the billion first : katy or taylor ?\\ufeff',\n",
              " '<a href=\"http://www.youtube.com/watch?v=KQ6zr6kCPj8&amp;t=2m19s\">2:19</a> best part\\ufeff',\n",
              " 'wierd but funny\\ufeff',\n",
              " 'Hey guys, I&#39;m a human.<br /><br /><br />But I don&#39;t want to be a human, I want to be a sexy fucking giraffe.<br /><br /><br />I already have the money for the surgery to elongate my spinal core, the surgery to change my skin pigment, and everything else! Like this post so others can root me on in my dream!!!!<br /><br /><br />Im fucking with you, I make music, check out my first song! <a rel=\"nofollow\" class=\"ot-hashtag\" href=\"https://plus.google.com/s/%23giraffebruuh\">#giraffebruuh</a>\\ufeff',\n",
              " 'Party Rock....lol...who wants to shuffle!!!\\ufeff',\n",
              " 'Party rock\\ufeff',\n",
              " 'Shuffle\\ufeff',\n",
              " 'Omg\\ufeff',\n",
              " 'This song is just really fun \\ufeff',\n",
              " 'Awsome<br />\\ufeff',\n",
              " 'wow!!!!!! increible song!!!!!!!!!\\ufeff',\n",
              " 'I love this song so much\\ufeff',\n",
              " '2015 LIKEEE\\ufeff',\n",
              " 'I miss when people dressed like this.\\ufeff',\n",
              " '2011- the last year of decent music.\\ufeff',\n",
              " 'Best song ever!!!!\\ufeff',\n",
              " 'super nice, love musique\\ufeff',\n",
              " 'wowwwwwwwwwwwwwwwwwwwwwwwwwwwwww\\ufeff',\n",
              " 'PARTY ROCK (8) ~\\ufeff',\n",
              " 'Thumbs up if you watched it in 2011\\ufeff',\n",
              " 'this is increidebl\\ufeff',\n",
              " 'LMFAO!!!!!!!!\\ufeff',\n",
              " 'just :( superr!!!\\ufeff',\n",
              " '2015!! LLIKEE!!\\ufeff',\n",
              " 'Yeah! Let&#39;s start the party!\\ufeff',\n",
              " 'This awesome song needed 4 years to reach to 800 mil views while Tango Switch bitch needed 1 year. its not fairrrrrrr\\ufeff',\n",
              " 'NICE GIRL :D\\ufeff',\n",
              " 'I remember back when this was so popular everyone on our school was shuffling it was crazy\\ufeff',\n",
              " 'LMFAO!\\ufeff',\n",
              " 'Super awesome video<br />\\ufeff',\n",
              " 'JUST DANCE 3 😂😂😂\\ufeff',\n",
              " 'This Will Always Be My Favorite Song<br />But My Favorite Part Is <a href=\"http://www.youtube.com/watch?v=KQ6zr6kCPj8&amp;t=3m40s\">3:40</a>-<a href=\"http://www.youtube.com/watch?v=KQ6zr6kCPj8&amp;t=4m11s\">4:11</a> In The Video \\ufeff',\n",
              " 'Party Rock<br />\\ufeff',\n",
              " 'LMFAO - Party Rock Anthem ft. Lauren Bennett, Goo…: <a href=\"https://youtu.be/KQ6zr6kCPj8\">https://youtu.be/KQ6zr6kCPj8</a>     <br />BOX MAN GOT SOME MOVES! :D HE MAKES MEH SMILE\\ufeff',\n",
              " 'This the best song i ever hire<br />\\ufeff',\n",
              " 'Its funny that Mahogany is there lmao, I actually didn&#39;t know that her brother and uncle are part of LMFAO\\ufeff',\n",
              " 'Party rock anthem is love,party rock anthem is life\\ufeff',\n",
              " 'Stop,is a very TOP 1\\ufeff',\n",
              " 'Ahhh back when my life didn&#39;t suck...\\ufeff',\n",
              " 'Party rock! XD\\ufeff',\n",
              " 'CUTE\\xa0 :)\\ufeff',\n",
              " 'LMFAO best songs ever!\\ufeff',\n",
              " 'I fuckin love this song!<br /><br /><br />After, I&#39;m sexy and I know it \\ufeff',\n",
              " 'they Shuffle hard that they made an Earthquake in Nepal\\ufeff',\n",
              " 'Nice\\ufeff',\n",
              " 'still.. this reminds me of 1 years back when i was do shuffle everyday\\ufeff',\n",
              " 'Love this song makes me wanna dance! \\ufeff',\n",
              " 'that time in 2011 where this shirt was cool\\ufeff',\n",
              " 'Love this video and the song of course\\ufeff',\n",
              " 'Check out this video on YouTube:\\ufeff',\n",
              " 'Very Nice !!!<br />Yeah Fucking.\\ufeff',\n",
              " 'WELL THIS DUDES FADED THE FUCK OUT!\\ufeff',\n",
              " 'Ah. Good old times (:\\ufeff',\n",
              " 'old and good song\\ufeff',\n",
              " 'cool\\ufeff',\n",
              " 'not 2 million view anymore :))\\ufeff',\n",
              " 'Good\\ufeff',\n",
              " 'Check out this video on YouTube:\\ufeff',\n",
              " 'Check out this video on YouTube:<br />\\ufeff',\n",
              " 'Remeber the good ol&#39; days when songs weren&#39;t about butts.  \\ufeff',\n",
              " 'You are the music hero😍😎\\ufeff',\n",
              " 'i was born in the wrong generation\\ufeff',\n",
              " 'Love this song makes me wanna dance! \\ufeff',\n",
              " 'Love this song makes me wanna dance! \\ufeff',\n",
              " 'Very good! Like! :D\\ufeff',\n",
              " 'the views...... They&#39;re over 90,000!!!!!!!!!!!!!!!!!!!!!!!!!!!!!!!!!!!!!!!!!!!!!!!!!!!!!!!!!!!!!!!!!!!!!!!!!!!!!!!!!!!!!!!!!\\ufeff',\n",
              " 'love lmfao party rockin keep it going\\ufeff',\n",
              " 'Best Music Ever!!!\\ufeff',\n",
              " 'Likeeee\\ufeff',\n",
              " 'Cool\\ufeff',\n",
              " 'Remeber when this song was good\\ufeff',\n",
              " '2015 &lt;3\\ufeff',\n",
              " 'i want to be that robot guy...\\ufeff',\n",
              " 'I LOVE YOUR SONGS\\ufeff',\n",
              " 'Omg it&#39;s going to have 1bi views!\\ufeff',\n",
              " 'Dance :)\\ufeff',\n",
              " 'Check out this video on YouTube:\\ufeff',\n",
              " '5 years... \\ufeff',\n",
              " 'cool cool cool cool cool cool cool\\ufeff',\n",
              " 'Wow I love it \\ufeff',\n",
              " 'Who knows the name of that girl?.. and that one.. and that one...\\ufeff',\n",
              " 'Why did they stop their career in music? This music rocks !\\ufeff',\n",
              " 'Very Nice !\\ufeff',\n",
              " 'Why sooooo many downs?\\ufeff',\n",
              " 'tension⤴︎⤴︎\\ufeff',\n",
              " 'Nice\\ufeff',\n",
              " '2015<br />I like video\\ufeff',\n",
              " 'music yeah\\ufeff',\n",
              " 'Like this in 2015! :D\\ufeff',\n",
              " 'This was such an epic track. And the video is awesome!\\ufeff',\n",
              " 'LIKKEE\\ufeff',\n",
              " 'give it a like\\ufeff',\n",
              " 'Lets party\\ufeff',\n",
              " 'Support the fight for your 4th amendment right to privacy in your home and business. Stop the NSA spying on Americans with the un Patriot Act Renewal. Rand Paul has spent 10.5 hours on the Senate floor in a Protest and Filibuster fighting for our\\xa0 Constitution that this Nation is founded on. Join the fight at Rand Paul dot com. Spread The Word. We Have Someone That Cares About Our Nation.\\xa0 Email your Senators, Congress men and women, tell them to support Rand. Tell the news to support Rand too. Senator Rand Paul was up until <a href=\"http://www.youtube.com/watch?v=KQ6zr6kCPj8&amp;t=1m00s\">1:00</a> am this morning fighting for our Constitution.\\ufeff',\n",
              " 'mindblowing dance.,.,.superbbb song\\ufeff',\n",
              " 'Anyone else think this video theme is a bit of an insult to 28 days later? \\ufeff',\n",
              " 'Check out this video on YouTube:\\ufeff',\n",
              " 'Never get old \\ufeff',\n",
              " 'I remember when this used to be so popular all around at the time.<br />I still love it.\\ufeff',\n",
              " 'Strong messages in every  song I&#39;ve  heard.\\ufeff',\n",
              " '4 fucking years are fucking past so fucking fast fuck.....\\ufeff',\n",
              " 'I know it old song but (like) if you watching in 2015\\ufeff',\n",
              " 'i&#39;m watching this on summer 2015\\ufeff',\n",
              " 'I am going to blow my mind\\ufeff',\n",
              " 'And i´m Shufflin still today :D\\ufeff',\n",
              " 'This is my favorite song ever love this Party Rock It Everybody!!!!\\ufeff',\n",
              " '1000000000 views.\\ufeff',\n",
              " 'lets get it to 1 BILLION\\ufeff',\n",
              " 'Love this soooooooooooooooooooooooooooooooooooooooooooooooooo much\\ufeff',\n",
              " 'I love this song so much\\ufeff',\n",
              " 'I&#39;m A SUBSCRIBER\\ufeff',\n",
              " 'This Song is AWESOME!!!!\\ufeff',\n",
              " 'Best song ever made i swear :D i still hear even doe it old!! who else?\\ufeff',\n",
              " 'I came here because of Vanoss.\\ufeff',\n",
              " 'Best song for ever💜💜😢<br />\\ufeff',\n",
              " 'epic\\ufeff',\n",
              " 'I like so much this music,  good \\ufeff',\n",
              " 'Beautiful song\\ufeff',\n",
              " 'Why do I feel like as if Gangnam style copied their song from this?!\\ufeff',\n",
              " 'Damn, this was everywhere\\ufeff',\n",
              " 'Party time!\\ufeff',\n",
              " 'never gets old\\ufeff',\n",
              " 'this song is fu cking awesom!!!!!!!\\ufeff',\n",
              " 'HOW DO YOU PUT A PICTURE FOR YOUR IMAGE THINGIE?!?!\\ufeff',\n",
              " 'okay, this should cover me for some time... Thumbs up if you&#39;re watching while youtube still exists.\\ufeff',\n",
              " 'This song is just insane.<br />Do you dance listening to this song?( i do, lol)\\ufeff',\n",
              " ':)\\ufeff',\n",
              " 'Thumbs up if shrek is gay 👍\\ufeff',\n",
              " 'THUMBS UP FOR ROBO GUY BABY\\ufeff',\n",
              " 'SERIOUSLY HOW DID THEY COME UP WITH THAT BEAT IT IS INSANELY GOOD HOLY FUCK\\ufeff',\n",
              " 'BEST PARTY SONG LITERALLY PARTY ROCK IS IN THE HOUSEE TONIGHT!!!!\\ufeff',\n",
              " 'Memories\\ufeff',\n",
              " 'I lovee it ♥\\ufeff',\n",
              " 'More views than nikki minaj Anaconda\\ufeff',\n",
              " 'LMFAO IS THE BEST\\ufeff',\n",
              " 'Who else saw jesses dancing sorry if I spelled it wrong  peace✌\\ufeff',\n",
              " 'I like how the robot shuffles he shuffles good\\ufeff',\n",
              " 'you cant stop the shuffle\\ufeff',\n",
              " 'Dang Dat little kid gat moves\\ufeff',\n",
              " 'I miss this song. 😢\\ufeff',\n",
              " 'Loves it\\ufeff',\n",
              " 'Check out this video on YouTube:<br />Gotta dance and just have a blast every time I hear this song !!!! Just ❥love❥ it!<br />\\ufeff',\n",
              " 'Man this song really does get in your bones - one minute I&#39;m nearly dosing off to sleep - the next I&#39;m shuffling like crazy with hot feet XD\\ufeff',\n",
              " 'That shake and that golden and black robot were really partying \\ufeff',\n",
              " 'Take a look at this video on YouTube:\\ufeff',\n",
              " 'cooooooooooooolllllllllll\\ufeff',\n",
              " 'Wow;)\\ufeff',\n",
              " 'OH SHIT THIS WAS UPLOADED ON MY BIRTHDAY, finally my birthday isnt a curse, because on this day maylaysia airlines went missing, so i thought my birthday was a curse xD\\ufeff',\n",
              " 'everyday I&#39;m shufflin\\ufeff',\n",
              " 'everyday I&#39;m shufflin\\ufeff',\n",
              " 'Thumbs up if FE-FE-FE-FE-FEGELEIN brought u here\\ufeff',\n",
              " 'Every day I&#39;m Shuffling !\\ufeff',\n",
              " 'cool song ever good thing its here\\ufeff',\n",
              " 'why does the world not shuffle???\\ufeff',\n",
              " 'Love these guys, love the song!\\ufeff',\n",
              " 'Its funny because I listen to rock and death metal. But i like this.\\ufeff',\n",
              " 'Shuffling all the way with LMFAO! I like this one, wish I could shuffle like these crazy dudes\\ufeff',\n",
              " '5th most viewed video.. i guess\\ufeff',\n",
              " 'my favorite song\\ufeff',\n",
              " 'I like this song<br />\\ufeff',\n",
              " 'Wow dance show\\ufeff',\n",
              " 'Awesome\\ufeff',\n",
              " 'like if ur watchin in 90000000000000000000000000000000000000000000000000000000000000000000000000000000000000000000000000000000000000000000000000000000000000000000000000000000000000000000000000000000000000000000000000000000000000000000000000000000000000000000000000000000000000000000000000000000000000000000000000000000000000000000000000000000000000000000000000000000000000000\\xa0\\xa0\\xa0\\xa0\\xa0\\xa0\\xa0\\xa0\\xa0\\xa0\\xa0\\xa0\\xa0\\xa0\\xa0\\xa0\\xa0\\xa0\\xa0\\xa0\\xa0\\xa0\\xa0\\xa0\\xa0\\xa0\\xa0\\xa0\\xa0\\xa0\\xa0\\xa0\\xa0\\xa0\\xa0\\xa0\\xa0\\xa0\\xa0\\xa0\\xa0\\xa0\\xa0\\xa0\\xa0\\xa0\\xa0\\xa0\\xa0\\xa0\\xa0\\xa0\\xa0\\xa0\\xa0\\xa0\\xa0\\xa0\\xa0\\xa0\\xa0\\xa0\\xa0\\xa0\\xa0\\xa0\\xa0\\xa0\\xa0\\xa0\\xa0\\xa0\\xa0\\xa0\\xa0\\xa0\\xa0\\xa0\\xa0\\xa0\\xa0\\xa0\\xa0\\xa0\\xa0\\xa0\\xa0\\xa0\\xa0\\xa0\\xa0\\xa0\\xa0 1\\ufeff',\n",
              " 'Good times. \\ufeff',\n",
              " 'Laughing My Fucking Ass Off!!!\\ufeff',\n",
              " 'when i see this back in 2015 i ask myself how people got to like this song. seems like Gangnam style copied this style though, might just be me but yea\\ufeff',\n",
              " 'wait I SAW A KID NOT KIDDING\\ufeff',\n",
              " 'Party rock due and duel\\ufeff',\n",
              " 'fucking love it omg :v\\ufeff',\n",
              " 'this very good so I dance with some companions front of the whole school\\ufeff',\n",
              " 'Check out this video on YouTube:\\ufeff',\n",
              " 'I could finally do the spongebob but I started yesterday XD\\ufeff',\n",
              " 'Thumbs up if you&#39;re watching in 2015\\ufeff',\n",
              " 'I love it\\ufeff',\n",
              " 'LMFAO - Party Rock Anthem ft. Lauren Bennett, GoonRock.\\ufeff',\n",
              " 'I hate it when Laura Bennett comes in\\ufeff',\n",
              " 'SUBSCRIBE TO MY CHANNEL\\ufeff',\n",
              " 'Party in da 🏠 tonight 👐👐👐👐👐👐\\ufeff',\n",
              " 'Best for partying \\ufeff',\n",
              " 'omg\\ufeff',\n",
              " 'What&#39;s with the guys jacket? 1 sleeve and a sleeveless arm\\ufeff',\n",
              " 'Best song ever\\ufeff',\n",
              " 'Take a look at this video on YouTub<br />You\\ufeff',\n",
              " 'i like this steps...\\ufeff',\n",
              " 'Let get this video to one billion views\\ufeff',\n",
              " 'In my head this is like 2 years ago.. Time FLIES\\ufeff',\n",
              " '870,000,000 views...566,000 comments...oh my lanta\\ufeff',\n",
              " 'Its 2015 and still shuffling to this song🎶🎵🎧\\ufeff',\n",
              " 'Check out this video on YouTube:\\ufeff',\n",
              " 'Who df is Lauren Bennett..\\ufeff',\n",
              " 'So,cool！！\\ufeff',\n",
              " 'awesome\\ufeff',\n",
              " 'This is so cool,why haven&#39;t I heard this before?\\ufeff',\n",
              " 'XD I WAS GOING CRAZY FUCKIN CRAZY WATCHIN THIS BRAH\\ufeff',\n",
              " 'I shuffled while listening to this song. THE ILLNESS IS SPREADING!!\\ufeff',\n",
              " 'Way was their a guy warring a robot head.\\ufeff',\n",
              " 'like the songs\\ufeff',\n",
              " 'Almost 1 billion views, nice.\\ufeff',\n",
              " 'sorry to all my haters<br /><br /><br /><br /><br /><br /><br /><br /><br /><br /><br /><br /><br />for party rock en\\ufeff',\n",
              " 'I like it<br />\\ufeff',\n",
              " 'Gooooood\\ufeff',\n",
              " ':3\\ufeff',\n",
              " 'likeeeeeeeee\\ufeff',\n",
              " 'shuffle!!!!!!!!!!!!!!!!!!!!!!!!!!!!!!!!!!!!!!!!!!!!!!!!!!!!!!!!!!!!!!!!!!!!!!!!!!!!!!!!!!!!!!!!!!!!!!!!!!!!!!!!!!!!!!!!!!!!!!!!!!!!!!!!!!!!!!!!!!!!!!!!!!!!!!!!!!!!!!!!!!!!!!!!!!!!!!!!!!!!!!!!!!!!!!!\\ufeff',\n",
              " 'lol so funny love it\\ufeff',\n",
              " 'good party\\ufeff',\n",
              " 'Do not like this comment if you are not watching in 2004\\ufeff',\n",
              " 'Check out this video on YouTube:\\ufeff',\n",
              " 'Check out this playlist on YouTube:\\ufeff',\n",
              " 'Check out this video on YouTube:\\ufeff',\n",
              " 'share your thoughts\\ufeff',\n",
              " 'subscribe me plzzzzzzz plzzzzzzzzzzzzzzzzzzzzzzzzzzzzzzz\\ufeff',\n",
              " 'YouTube collaborator&#39;s anyone? subscribe to me, I&#39;ll subscribe back. I also will start uploading more YouTube videos.  <a rel=\"nofollow\" class=\"ot-hashtag\" href=\"https://plus.google.com/s/%23LMFAO\">#LMFAO</a>\\ufeff',\n",
              " 'Guys lmfaois going to have a reunion on June/27/15 at expo Idaho gardens there going 2 performe live and there&#39;s going 2 be a press conference after to answer questions about were there been its all live on my channel I got publishing rights subscribe to my channel to watch the whole thing if u don&#39;t believe me look it up hope to see all u true fans there and yes it&#39;s free \\ufeff',\n",
              " 'IIIIIIIIIII LOVE THIS SHAKE IT SONG OH SORRY EVERY SHAKE IT SONG I LIKE WATCH SUBSCRIBE AND NEVER UNLIKE BROOOOO!!!!!!!!!!! SHAKE IT UP\\ufeff',\n",
              " 'Check out this playlist on YouTube:m\\ufeff',\n",
              " 'Check out this video on YouTube:<br /><br /><br /><br />\\ufeff',\n",
              " 'Check out this video on YouTube:\\ufeff',\n",
              " 'Who&#39;s watching in 2015 Subscribe for me !\\ufeff',\n",
              " 'Come subscribe\\ufeff',\n",
              " 'SUBSCRIBE MY CHANNEL PLEASE LOL PRO PLAYS)\\ufeff',\n",
              " 'Check out this video on YouTube:\\ufeff',\n",
              " 'Check out this video on YouTube:\\ufeff',\n",
              " 'I just wanna see how many people like this comment. I&#39;ll give it a month or so :)\\ufeff',\n",
              " 'PLEASE DON&#39;T LIKE THIS COMMENT IF YOU ARE WATCHING IN 2015!!!!!!!!!!!\\ufeff',\n",
              " 'Check out this video on YouTube:\\ufeff',\n",
              " 'I like This Comment and do not kill :P\\ufeff',\n",
              " 'Check out this video on YouTube:\\ufeff',\n",
              " 'Check out this playlist on YouTube:\\ufeff',\n",
              " 'Check out this video on YouTube:\\ufeff',\n",
              " 'Check out this video on YouTube:\\ufeff',\n",
              " 'Check out this video on YouTube:\\ufeff',\n",
              " 'Check out this video on YouTube:fb i\\ufeff',\n",
              " 'ALL SCHOOL DROP OUTS I KNEW AS FRIENDS BEFORE THEY DECIDED TO DROP SCHOOL THINK THERE IS NO NEED FOR AN ID CARD OR A CERTIFICATION TO PROVE YOU ARE AN EDUCATED CLEAN IN CRIMINAL RECORD TALENTED PERSON TO WORK IN ANY ENTERTAINMENT FIELD WORLDWIDE. THEY THINK THEY COULD BE RICH ENTERTAINERS BY CONSOLIDATING WITH ACTORS / ACTRESSES AS WELL AS SINGERS FOR A SHARE OF PROFIT(S).\\ufeff',\n",
              " 'Check out this video on YouTube: \\ufeff',\n",
              " 'Check out this video on YouTube:\\ufeff',\n",
              " 'Check out this video on YouTube:\\ufeff',\n",
              " 'Check out this playlist on YouTube:י<br /><br /><br /><br />⛺🏤⛺⛺\\ufeff',\n",
              " 'Check out this video on YouTube:\\ufeff',\n",
              " 'Check out this playlist on YouTube:<br /><br />\\ufeff',\n",
              " 'Check out this video on YouTube:\\ufeff',\n",
              " 'Check out this video on YouTube:\\ufeff',\n",
              " 'Check out this video on YouTube:\\ufeff',\n",
              " 'View 851.247.920<br /><br />\\xa0Best youtube Video<br />If Subscribe to My Channel please!<br />Thank you! &lt;3<br /><br />Melhor Vídeo do youtube<br />Se Inscreva no Meu canal por favor!<br />Obrigado! &lt;3<br /><br />Mejor Video youtube<br />Si suscriba a mi canal por favor!<br />Gracias! &lt;3<br /><br />Meilleur vidéo youtube<br />Si vous abonner à Ma Chaîne se il vous plaît!<br />Merci! &lt;3\\ufeff',\n",
              " 'We can have a party next share\\ufeff',\n",
              " 'Lol check out my chanell and subscribe please i want 5000 subs thats it im nearly their now\\ufeff',\n",
              " 'Check out this video on YouTube:\\ufeff',\n",
              " 'Check out this video on YouTube:\\ufeff',\n",
              " 'SUBSCRIBE me. if you do that leave your name so i can subs back \\ufeff',\n",
              " 'Check out this video on YouTube:\\ufeff',\n",
              " 'Please subscribe to my channel!Thanks!\\ufeff',\n",
              " 'hey guys im 17 years old remixer and producer and i want you guys to help me checking my videos i am sure you will love those music if you love them then subscribe so you will know more about me:)\\ufeff',\n",
              " 'Check out Melbourne shuffle, everybody!\\ufeff',\n",
              " 'Subscribe My Channel\\ufeff',\n",
              " 'please suscribe i am bored of 5 subscribers try to get it to 20!\\ufeff',\n",
              " 'Subscribe if you are watching in 2015\\ufeff',\n",
              " 'Check out this video on YouTube:      <br />\\ufeff',\n",
              " 'Hey ! Subscribe\\xa0 to me\\xa0for the peace in the world ! ♥\\ufeff',\n",
              " 'Check out this playlist on YouTube:a\\ufeff',\n",
              " 'Check out this video on YouTube:\\ufeff',\n",
              " 'Check out this playlist on YouTube:\\ufeff',\n",
              " 'Like this comment for no reason\\ufeff',\n",
              " 'Omg can this be the first video on YouTube to hit 1 billion views like this comment of you agree.\\ufeff',\n",
              " ' <br />Please help me get 100 subscribers by the end of the night. Thx\\ufeff',\n",
              " 'like this comment if you&#39;re watching this video when big bang happened<br />i do\\ufeff',\n",
              " 'Check out this playlist on YouTube:<br /><br />\\ufeff',\n",
              " 'Check out this playlist on YouTube:🍴🍴🏄🏄🏄🍴🏄🏄🏄🏄🏊🏊🏊🏊🍴🍴🍴🍴🍴🏂🏂🏂🏂🏂🏆🍸🍸🍸🍸🏆🍻🍗🍵🍟🍟🍟🍟🍴🍕🍕🍕🍕🍕🍕🍕🍕🍕🍕🍕🍕☕️🎣🎣☕️🍕🍕🎣🎣🎣🎣🎣🎣🎣🎣🎣🎣☕️🎣🍕🍔🍔🎣🎣☕️🎣🍹🍹🏂🏂🍹🎿🏆\\ufeff',\n",
              " '░░░░░░░/\\\\░░░░░▄▐<br />░░░░░░/ \\xa0 \\xa0 \\\\░░░▄██▄<br />░░░░░/ \\xa0(o) \\xa0 \\\\░░░░░▀█▄<br />░░░░/ \\xa0 \\xa0 \\xa0 \\xa0 \\xa0 \\xa0 \\\\░░░░░░▀█▄<br />░░░/__ \\xa0 \\\\ \\xa0 ░▄▄▄▄▄▀▀<br />░░░░▄▄▄██▀▀▀▀<br />░░░█▀▄▄▄█░▀▀ \\xa0 \\xa0 \\xa0 YOU HAVE BEEN SPOOKED BY THE SPOOKINATI<br />░░░▌░▄▄▄▐▌▀▀▀<br />▄░▐░░░▄▄░█░▀▀ \\xa0 \\xa0SHARE THIS TO 666 PEOPLE TO BE UNSPOOKED\\xa0<br />▀█▌░░░▄░▀█▀░▀\\xa0<br />░░░░░░░▄▄▐▌▄▄<br />░░░░░░░▀███▀█░▄<br />░░░░░░▐▌▀▄▀▄▀▐▄<br />░░░░░░▐▀░░░░░░▐▌<br />░░░░░░█░░░░░░░░█<br />░░░░░▐▌░░░░░░░░░█<br />░░░░░█░░░░░░░░░░▐▌\\ufeff',\n",
              " 'like this comment if your watching in 2015 or 2016\\ufeff',\n",
              " 'Help me get 10000000 subscribers by tomorrow!<br /><br /><br /><br /><br /><br /><br /><br /><br /><br /><br />(Joking don&#39;t get butt hurt)  \\ufeff',\n",
              " 'Check out this video on YouTube:\\ufeff',\n",
              " 'like this comment if ur watching this on 2015\\xa0\\ufeff',\n",
              " 'Check out this video on YouTube:\\ufeff',\n",
              " 'like this comment please\\ufeff',\n",
              " 'Check out this playlist on YouTube:\\ufeff',\n",
              " 'LIKE AND SUBSCRIBE\\ufeff',\n",
              " 'Like this comment if you are watching on a phone\\ufeff',\n",
              " 'Cool Video LMFAOVEVO! You should check out my shuffling videos on my channel when you get the chance. It&#39;s much appreciated. Cheers! <a rel=\"nofollow\" class=\"ot-hashtag\" href=\"https://plus.google.com/s/%23EveryDayImVaping\">#EveryDayImVaping</a> ;-)\\ufeff',\n",
              " 'Check out this playlist on YouTube:\\ufeff',\n",
              " 'Check out this playlist on YouTube: I tried\\ufeff',\n",
              " 'subscribe to <span class=\"proflinkWrapper\"><span class=\"proflinkPrefix\">+</span><a class=\"proflink\" href=\"https://plus.google.com/104999962146104962510\" oid=\"104999962146104962510\">SuperMarioLogan</a></span>\\xa0 if you thot the robot dudes r epic and awsome\\ufeff',\n",
              " 'if watching in 2015 subscribe to <span class=\"proflinkWrapper\"><span class=\"proflinkPrefix\">+</span><a class=\"proflink\" href=\"https://plus.google.com/104999962146104962510\" oid=\"104999962146104962510\">SuperMarioLogan</a></span>\\xa0\\ufeff',\n",
              " 'Check out this playlist on YouTube:\\ufeff',\n",
              " 'Like this comment if you still jam out to this song after 4 years \\ufeff',\n",
              " 'subscribe\\ufeff',\n",
              " 'Check out this video on YouTube:\\ufeff',\n",
              " 'this video has 800+m views<br />and the channel got 3m subscribers\\ufeff',\n",
              " 'Check out this video on YouTube:\\ufeff',\n",
              " 'subscribe to my chanell\\ufeff',\n",
              " 'los invito a subscribirse a mi canal\\xa0\\ufeff',\n",
              " 'Check out this video on YouTube:\\ufeff',\n",
              " 'Check out this playlist on YouTube:\\ufeff',\n",
              " 'Check out this video on YouTube:opponents mm <br /><br /><br /><br />--•[••••=====++¥¥£££<br />\\ufeff',\n",
              " 'Check out this video on YouTube:<br /><br />\\ufeff',\n",
              " 'At 500 subscribers i&#39;m sky diving help me reach my goal &lt;3<br />Trust me, i&#39;m a doctor. \\xa0:)\\ufeff',\n",
              " 'Check out this video on YouTube:\\ufeff',\n",
              " 'Check out this video on YouTube:\\ufeff',\n",
              " 'Check out this video on YouTube:\\ufeff',\n",
              " 'Check out this playlist on YouTube:\\ufeff',\n",
              " 'Check out this playlist on YouTube:\\ufeff',\n",
              " 'Check out this video on YouTube:\\ufeff',\n",
              " ...]"
            ]
          },
          "metadata": {},
          "execution_count": 11
        }
      ]
    },
    {
      "cell_type": "markdown",
      "metadata": {
        "id": "tmIt3F__oOOC"
      },
      "source": [
        "> Data has punctuations, Encoding characters, URL links, Contractions(don't, i'm ..), Extra spaces, Numeric digits and words containing digits.\n",
        "\n",
        "\n",
        "\n",
        "\n"
      ]
    },
    {
      "cell_type": "code",
      "metadata": {
        "colab": {
          "base_uri": "https://localhost:8080/",
          "height": 313
        },
        "id": "rXtBd8d7Pyj3",
        "outputId": "4b50520d-f35c-4be7-8917-a66d859c58bb"
      },
      "source": [
        "train_data['len'] = [len(x) for x in train_data.CONTENT]\n",
        "plt.hist(train_data['len'])\n",
        "plt.ylabel(\"number of Comments\")\n",
        "plt.xlabel(\"length of Comment\")\n",
        "plt.title(\"Distribution of comment data\")\n",
        "plt.show()\n",
        "print(\"Average lenght of the data:-\", train_data['len'].mean())"
      ],
      "execution_count": null,
      "outputs": [
        {
          "output_type": "display_data",
          "data": {
            "image/png": "[encoded data removed]",
            "text/plain": [
              "<Figure size 432x288 with 1 Axes>"
            ]
          },
          "metadata": {
            "needs_background": "light"
          }
        },
        {
          "output_type": "stream",
          "name": "stdout",
          "text": [
            "Average lenght of the data:- 94.70092024539878\n"
          ]
        }
      ]
    },
    {
      "cell_type": "code",
      "metadata": {
        "colab": {
          "base_uri": "https://localhost:8080/"
        },
        "id": "4ospw3ivSeYz",
        "outputId": "b340e51c-1b27-47ae-bfc8-bd3aac25cf2e"
      },
      "source": [
        "train_data[train_data['CONTENT'].apply(lambda x : len(x)) > 95].CLASS.value_counts()"
      ],
      "execution_count": null,
      "outputs": [
        {
          "output_type": "execute_result",
          "data": {
            "text/plain": [
              "1    389\n",
              "0    107\n",
              "Name: CLASS, dtype: int64"
            ]
          },
          "metadata": {},
          "execution_count": 13
        }
      ]
    },
    {
      "cell_type": "code",
      "metadata": {
        "id": "AxTrpghAKP66"
      },
      "source": [
        "above_mean_data = train_data[train_data['CONTENT'].apply(lambda x : len(x)) > 95].CLASS.value_counts().to_dict()"
      ],
      "execution_count": null,
      "outputs": []
    },
    {
      "cell_type": "code",
      "metadata": {
        "colab": {
          "base_uri": "https://localhost:8080/",
          "height": 295
        },
        "id": "yTqYDiC5LufS",
        "outputId": "200ca105-52ec-48f4-8763-46eca958fc1c"
      },
      "source": [
        "plt.bar(above_mean_data.keys(), above_mean_data.values(), width=0.2)\n",
        "plt.xlabel(\"Class\")\n",
        "plt.ylabel(\"length of comments per class\")\n",
        "plt.title(\"Distribution of Comments length per class\");"
      ],
      "execution_count": null,
      "outputs": [
        {
          "output_type": "display_data",
          "data": {
            "image/png": "[encoded data removed]",
            "text/plain": [
              "<Figure size 432x288 with 1 Axes>"
            ]
          },
          "metadata": {
            "needs_background": "light"
          }
        }
      ]
    },
    {
      "cell_type": "code",
      "metadata": {
        "colab": {
          "base_uri": "https://localhost:8080/"
        },
        "id": "00G9mDJrUj_h",
        "outputId": "55e7f01c-85e8-49e4-9d9b-7a183549de36"
      },
      "source": [
        "train_data.groupby([\"CLASS\"])[\"len\"].mean()"
      ],
      "execution_count": null,
      "outputs": [
        {
          "output_type": "execute_result",
          "data": {
            "text/plain": [
              "CLASS\n",
              "0     49.644585\n",
              "1    137.336318\n",
              "Name: len, dtype: float64"
            ]
          },
          "metadata": {},
          "execution_count": 16
        }
      ]
    },
    {
      "cell_type": "markdown",
      "metadata": {
        "id": "5J2Tq9fxSVde"
      },
      "source": [
        "\n",
        "\n",
        "> Average lenght of comments is about 95 characters. About 78% of the data that has lenght more than 95 are spam. Average length of spam comments is more than non-spam comments.\n",
        "\n"
      ]
    },
    {
      "cell_type": "code",
      "metadata": {
        "id": "ShRJyUWcapjs"
      },
      "source": [
        "train_data['word_count'] = train_data['CONTENT'].apply(lambda x: len(str(x).split()))"
      ],
      "execution_count": null,
      "outputs": []
    },
    {
      "cell_type": "code",
      "metadata": {
        "colab": {
          "base_uri": "https://localhost:8080/",
          "height": 279
        },
        "id": "nvbgHOOtazG9",
        "outputId": "99aaa4ab-5312-42ce-f3db-00b5364b5807"
      },
      "source": [
        "plt.hist(train_data['word_count'])\n",
        "plt.ylabel(\"count\")\n",
        "plt.xlabel(\"Number of words per comment\")\n",
        "plt.show()"
      ],
      "execution_count": null,
      "outputs": [
        {
          "output_type": "display_data",
          "data": {
            "image/png": "[encoded data removed]",
            "text/plain": [
              "<Figure size 432x288 with 1 Axes>"
            ]
          },
          "metadata": {
            "needs_background": "light"
          }
        }
      ]
    },
    {
      "cell_type": "code",
      "metadata": {
        "colab": {
          "base_uri": "https://localhost:8080/"
        },
        "id": "O5iIki6ebhYM",
        "outputId": "67bba45c-ad72-4dc8-8f40-677cbdcc22d8"
      },
      "source": [
        "train_data['word_count'].mean()"
      ],
      "execution_count": null,
      "outputs": [
        {
          "output_type": "execute_result",
          "data": {
            "text/plain": [
              "15.581799591002046"
            ]
          },
          "metadata": {},
          "execution_count": 19
        }
      ]
    },
    {
      "cell_type": "code",
      "metadata": {
        "colab": {
          "base_uri": "https://localhost:8080/"
        },
        "id": "sPM14VtadlHa",
        "outputId": "ea948937-606e-4ead-ccdb-141dad8f07c1"
      },
      "source": [
        "train_data.groupby([\"CLASS\"])[\"word_count\"].mean()"
      ],
      "execution_count": null,
      "outputs": [
        {
          "output_type": "execute_result",
          "data": {
            "text/plain": [
              "CLASS\n",
              "0     9.100946\n",
              "1    21.714428\n",
              "Name: word_count, dtype: float64"
            ]
          },
          "metadata": {},
          "execution_count": 20
        }
      ]
    },
    {
      "cell_type": "code",
      "metadata": {
        "colab": {
          "base_uri": "https://localhost:8080/",
          "height": 295
        },
        "id": "6yiUcdduPgAN",
        "outputId": "b95419f1-3eca-4077-cb1a-6b88bb708ab4"
      },
      "source": [
        "AvgWordCount = train_data.groupby([\"CLASS\"])[\"word_count\"].mean().to_dict()\n",
        "plt.bar(AvgWordCount.keys(), AvgWordCount.values(), width=0.2)\n",
        "plt.xlabel(\"Class\")\n",
        "plt.ylabel(\"Average word count\")\n",
        "plt.title(\"Average word count per class\");"
      ],
      "execution_count": null,
      "outputs": [
        {
          "output_type": "display_data",
          "data": {
            "image/png": "[encoded data removed]",
            "text/plain": [
              "<Figure size 432x288 with 1 Axes>"
            ]
          },
          "metadata": {
            "needs_background": "light"
          }
        }
      ]
    },
    {
      "cell_type": "markdown",
      "metadata": {
        "id": "6Oc2C-H1dGSJ"
      },
      "source": [
        "\n",
        "\n",
        "> Most of the comments have less than 50 words. Average number of words in the comments is about 16. The mean number of words of non-spam comments is lesser than mean number of words of spam comments.\n",
        "\n"
      ]
    },
    {
      "cell_type": "markdown",
      "metadata": {
        "id": "UbiDP0DYm8HG"
      },
      "source": [
        "# 1) Data Cleaning \n",
        "\n",
        "*    Drop unneccessary columns \n",
        "*    Expand contractions\n",
        "*    Remove HTML tags \n",
        "*    Remove URLs\n",
        "*    Convert text to lowercase\n",
        "*    Remove numeric digits and words with digits\n",
        "*    Remove punctuations\n",
        "*    Remove encoding \n",
        "*    Remove Extra Spaces\n",
        "\n",
        "\n"
      ]
    },
    {
      "cell_type": "markdown",
      "metadata": {
        "id": "1VD5FAv4rXid"
      },
      "source": [
        "**1.1) Drop unneccessary columns**\n",
        "\n",
        "> We need CONTENT and CLASS columns to perform spam classification task. Remaining attributes in the dataset can be removed.\n"
      ]
    },
    {
      "cell_type": "code",
      "metadata": {
        "colab": {
          "base_uri": "https://localhost:8080/",
          "height": 379
        },
        "id": "VaSUwQc1sFJe",
        "outputId": "0dc887a1-e781-4fdf-a7be-603d9b195700"
      },
      "source": [
        "train_data.drop(['COMMENT_ID','AUTHOR','DATE','len'] ,axis=1,inplace=True)\n",
        "train_data.info()\n",
        "train_data.head()"
      ],
      "execution_count": null,
      "outputs": [
        {
          "output_type": "stream",
          "name": "stdout",
          "text": [
            "<class 'pandas.core.frame.DataFrame'>\n",
            "Int64Index: 1956 entries, 0 to 369\n",
            "Data columns (total 3 columns):\n",
            " #   Column      Non-Null Count  Dtype \n",
            "---  ------      --------------  ----- \n",
            " 0   CONTENT     1956 non-null   object\n",
            " 1   CLASS       1956 non-null   int64 \n",
            " 2   word_count  1956 non-null   int64 \n",
            "dtypes: int64(2), object(1)\n",
            "memory usage: 61.1+ KB\n"
          ]
        },
        {
          "output_type": "execute_result",
          "data": {
            "text/html": [
              "<div>\n",
              "<style scoped>\n",
              "    .dataframe tbody tr th:only-of-type {\n",
              "        vertical-align: middle;\n",
              "    }\n",
              "\n",
              "    .dataframe tbody tr th {\n",
              "        vertical-align: top;\n",
              "    }\n",
              "\n",
              "    .dataframe thead th {\n",
              "        text-align: right;\n",
              "    }\n",
              "</style>\n",
              "<table border=\"1\" class=\"dataframe\">\n",
              "  <thead>\n",
              "    <tr style=\"text-align: right;\">\n",
              "      <th></th>\n",
              "      <th>CONTENT</th>\n",
              "      <th>CLASS</th>\n",
              "      <th>word_count</th>\n",
              "    </tr>\n",
              "  </thead>\n",
              "  <tbody>\n",
              "    <tr>\n",
              "      <th>0</th>\n",
              "      <td>Huh, anyway check out this you[tube] channel: ...</td>\n",
              "      <td>1</td>\n",
              "      <td>8</td>\n",
              "    </tr>\n",
              "    <tr>\n",
              "      <th>1</th>\n",
              "      <td>Hey guys check out my new channel and our firs...</td>\n",
              "      <td>1</td>\n",
              "      <td>30</td>\n",
              "    </tr>\n",
              "    <tr>\n",
              "      <th>2</th>\n",
              "      <td>just for test I have to say murdev.com</td>\n",
              "      <td>1</td>\n",
              "      <td>8</td>\n",
              "    </tr>\n",
              "    <tr>\n",
              "      <th>3</th>\n",
              "      <td>me shaking my sexy ass on my channel enjoy ^_^ ﻿</td>\n",
              "      <td>1</td>\n",
              "      <td>11</td>\n",
              "    </tr>\n",
              "    <tr>\n",
              "      <th>4</th>\n",
              "      <td>watch?v=vtaRGgvGtWQ   Check this out .﻿</td>\n",
              "      <td>1</td>\n",
              "      <td>5</td>\n",
              "    </tr>\n",
              "  </tbody>\n",
              "</table>\n",
              "</div>"
            ],
            "text/plain": [
              "                                             CONTENT  CLASS  word_count\n",
              "0  Huh, anyway check out this you[tube] channel: ...      1           8\n",
              "1  Hey guys check out my new channel and our firs...      1          30\n",
              "2             just for test I have to say murdev.com      1           8\n",
              "3   me shaking my sexy ass on my channel enjoy ^_^ ﻿      1          11\n",
              "4            watch?v=vtaRGgvGtWQ   Check this out .﻿      1           5"
            ]
          },
          "metadata": {},
          "execution_count": 22
        }
      ]
    },
    {
      "cell_type": "markdown",
      "metadata": {
        "id": "krpkSqnmo0TP"
      },
      "source": [
        "**1.2) Expand contractions**\n",
        "\n",
        "\n",
        "\n",
        "> For better analysis of text data we need to expand contractions **I'm for I am , does'nt for does not etc..**\n",
        "\n",
        "\n",
        "\n"
      ]
    },
    {
      "cell_type": "code",
      "metadata": {
        "id": "DH6KqCw-0kWM"
      },
      "source": [
        "#Contractions Dictionary\n",
        "contractions_dict = { \"ain't\": \"are not\",\"'s\":\" is\",\"aren't\": \"are not\",\n",
        "                     \"can't\": \"cannot\",\"can't've\": \"cannot have\",\n",
        "                     \"'cause\": \"because\",\"could've\": \"could have\",\"couldn't\": \"could not\",\n",
        "                     \"couldn't've\": \"could not have\", \"didn't\": \"did not\",\"doesn't\": \"does not\",\n",
        "                     \"don't\": \"do not\",\"hadn't\": \"had not\",\"hadn't've\": \"had not have\",\n",
        "                     \"hasn't\": \"has not\",\"haven't\": \"have not\",\"he'd\": \"he would\",\n",
        "                     \"he'd've\": \"he would have\",\"he'll\": \"he will\", \"he'll've\": \"he will have\",\n",
        "                     \"how'd\": \"how did\",\"how'd'y\": \"how do you\",\"how'll\": \"how will\",\n",
        "                     \"I'd\": \"I would\", \"I'd've\": \"I would have\",\"I'll\": \"I will\",\n",
        "                     \"I'll've\": \"I will have\",\"I'm\": \"I am\",\"I've\": \"I have\", \"isn't\": \"is not\",\n",
        "                     \"it'd\": \"it would\",\"it'd've\": \"it would have\",\"it'll\": \"it will\",\n",
        "                     \"it'll've\": \"it will have\", \"let's\": \"let us\",\"ma'am\": \"madam\",\n",
        "                     \"mayn't\": \"may not\",\"might've\": \"might have\",\"mightn't\": \"might not\", \n",
        "                     \"mightn't've\": \"might not have\",\"must've\": \"must have\",\"mustn't\": \"must not\",\n",
        "                     \"mustn't've\": \"must not have\", \"needn't\": \"need not\",\n",
        "                     \"needn't've\": \"need not have\",\"o'clock\": \"of the clock\",\"oughtn't\": \"ought not\",\n",
        "                     \"oughtn't've\": \"ought not have\",\"shan't\": \"shall not\",\"sha'n't\": \"shall not\",\n",
        "                     \"shan't've\": \"shall not have\",\"she'd\": \"she would\",\"she'd've\": \"she would have\",\n",
        "                     \"she'll\": \"she will\", \"she'll've\": \"she will have\",\"should've\": \"should have\",\n",
        "                     \"shouldn't\": \"should not\", \"shouldn't've\": \"should not have\",\"so've\": \"so have\",\n",
        "                     \"that'd\": \"that would\",\"that'd've\": \"that would have\", \"there'd\": \"there would\",\n",
        "                     \"there'd've\": \"there would have\", \"they'd\": \"they would\",\n",
        "                     \"they'd've\": \"they would have\",\"they'll\": \"they will\",\n",
        "                     \"they'll've\": \"they will have\", \"they're\": \"they are\",\"they've\": \"they have\",\n",
        "                     \"to've\": \"to have\",\"wasn't\": \"was not\",\"we'd\": \"we would\",\n",
        "                     \"we'd've\": \"we would have\",\"we'll\": \"we will\",\"we'll've\": \"we will have\",\n",
        "                     \"we're\": \"we are\",\"we've\": \"we have\", \"weren't\": \"were not\",\"what'll\": \"what will\",\n",
        "                     \"what'll've\": \"what will have\",\"what're\": \"what are\", \"what've\": \"what have\",\n",
        "                     \"when've\": \"when have\",\"where'd\": \"where did\", \"where've\": \"where have\",\n",
        "                     \"who'll\": \"who will\",\"who'll've\": \"who will have\",\"who've\": \"who have\",\n",
        "                     \"why've\": \"why have\",\"will've\": \"will have\",\"won't\": \"will not\",\n",
        "                     \"won't've\": \"will not have\", \"would've\": \"would have\",\"wouldn't\": \"would not\",\n",
        "                     \"wouldn't've\": \"would not have\",\"y'all\": \"you all\", \"y'all'd\": \"you all would\",\n",
        "                     \"y'all'd've\": \"you all would have\",\"y'all're\": \"you all are\",\n",
        "                     \"y'all've\": \"you all have\", \"you'd\": \"you would\",\"you'd've\": \"you would have\",\n",
        "                     \"you'll\": \"you will\",\"you'll've\": \"you will have\", \"you're\": \"you are\",\n",
        "                     \"you've\": \"you have\"}\n",
        "\n",
        "# Regular expression for finding contractions\n",
        "contractions_re=re.compile('(%s)' % '|'.join(contractions_dict.keys()))\n",
        "\n",
        "# Function for expanding contractions\n",
        "def expand_contractions(text,contractions_dict=contractions_dict):\n",
        "  def replace(match):\n",
        "    return contractions_dict[match.group(0)]\n",
        "  return contractions_re.sub(replace, text)\n",
        "\n",
        "# Expanding Contractions in the CONTENT feature\n",
        "train_data['CONTENT']=train_data['CONTENT'].apply(lambda x:expand_contractions(x))"
      ],
      "execution_count": null,
      "outputs": []
    },
    {
      "cell_type": "code",
      "metadata": {
        "colab": {
          "base_uri": "https://localhost:8080/"
        },
        "id": "RFo0j6r55CBs",
        "outputId": "b8c6da19-8c54-4eab-9136-bb3f3ff0e7e1"
      },
      "source": [
        "# check if still there are any contractions\n",
        "for text in train_data.CONTENT.to_list():\n",
        "    r = contractions_re.findall(text)\n",
        "print(r)"
      ],
      "execution_count": null,
      "outputs": [
        {
          "output_type": "stream",
          "name": "stdout",
          "text": [
            "[]\n"
          ]
        }
      ]
    },
    {
      "cell_type": "markdown",
      "metadata": {
        "id": "mtYquXIXSKM_"
      },
      "source": [
        "**1.3) Remove Html tags**\n"
      ]
    },
    {
      "cell_type": "code",
      "metadata": {
        "colab": {
          "base_uri": "https://localhost:8080/"
        },
        "id": "TE8_pzuJQdMc",
        "outputId": "60bff03b-f709-4ef8-ab5c-8d2f4c52f35f"
      },
      "source": [
        "train_data['CONTENT']=train_data['CONTENT'].apply(lambda x: bs4.BeautifulSoup(x, 'lxml').get_text());"
      ],
      "execution_count": null,
      "outputs": [
        {
          "output_type": "stream",
          "name": "stderr",
          "text": [
            "/usr/local/lib/python3.7/dist-packages/bs4/__init__.py:336: UserWarning: \"https://twitter.com/GBphotographyGB﻿\" looks like a URL. Beautiful Soup is not an HTTP client. You should probably use an HTTP client like requests to get the document behind the URL, and feed that document to Beautiful Soup.\n",
            "  ' that document to Beautiful Soup.' % decoded_markup\n",
            "/usr/local/lib/python3.7/dist-packages/bs4/__init__.py:336: UserWarning: \"http://ubuntuone.com/40beUutVu2ZKxK4uTgPZ8K﻿\" looks like a URL. Beautiful Soup is not an HTTP client. You should probably use an HTTP client like requests to get the document behind the URL, and feed that document to Beautiful Soup.\n",
            "  ' that document to Beautiful Soup.' % decoded_markup\n",
            "/usr/local/lib/python3.7/dist-packages/bs4/__init__.py:336: UserWarning: \"http://hackfbaccountlive.com/?ref=4604617﻿\" looks like a URL. Beautiful Soup is not an HTTP client. You should probably use an HTTP client like requests to get the document behind the URL, and feed that document to Beautiful Soup.\n",
            "  ' that document to Beautiful Soup.' % decoded_markup\n",
            "/usr/local/lib/python3.7/dist-packages/bs4/__init__.py:336: UserWarning: \"http://binbox.io/1FIRo#123﻿\" looks like a URL. Beautiful Soup is not an HTTP client. You should probably use an HTTP client like requests to get the document behind the URL, and feed that document to Beautiful Soup.\n",
            "  ' that document to Beautiful Soup.' % decoded_markup\n",
            "/usr/local/lib/python3.7/dist-packages/bs4/__init__.py:336: UserWarning: \"http://thepiratebay.se/torrent/6381501/Timothy_Sykes_Collection﻿\" looks like a URL. Beautiful Soup is not an HTTP client. You should probably use an HTTP client like requests to get the document behind the URL, and feed that document to Beautiful Soup.\n",
            "  ' that document to Beautiful Soup.' % decoded_markup\n",
            "/usr/local/lib/python3.7/dist-packages/bs4/__init__.py:336: UserWarning: \"http://www.gcmforex.com/partners/aw.aspx?Task=JoinT2&amp;AffiliateID=9107﻿\" looks like a URL. Beautiful Soup is not an HTTP client. You should probably use an HTTP client like requests to get the document behind the URL, and feed that document to Beautiful Soup.\n",
            "  ' that document to Beautiful Soup.' % decoded_markup\n",
            "/usr/local/lib/python3.7/dist-packages/bs4/__init__.py:336: UserWarning: \"https://www.facebook.com/teeLaLaLa﻿\" looks like a URL. Beautiful Soup is not an HTTP client. You should probably use an HTTP client like requests to get the document behind the URL, and feed that document to Beautiful Soup.\n",
            "  ' that document to Beautiful Soup.' % decoded_markup\n",
            "/usr/local/lib/python3.7/dist-packages/bs4/__init__.py:336: UserWarning: \"http://www.twitch.tv/zxlightsoutxz﻿\" looks like a URL. Beautiful Soup is not an HTTP client. You should probably use an HTTP client like requests to get the document behind the URL, and feed that document to Beautiful Soup.\n",
            "  ' that document to Beautiful Soup.' % decoded_markup\n",
            "/usr/local/lib/python3.7/dist-packages/bs4/__init__.py:336: UserWarning: \"http://flipagram.com/f/LUkA1QMrhF﻿\" looks like a URL. Beautiful Soup is not an HTTP client. You should probably use an HTTP client like requests to get the document behind the URL, and feed that document to Beautiful Soup.\n",
            "  ' that document to Beautiful Soup.' % decoded_markup\n",
            "/usr/local/lib/python3.7/dist-packages/bs4/__init__.py:336: UserWarning: \"http://www.gofundme.com/gvr7xg﻿\" looks like a URL. Beautiful Soup is not an HTTP client. You should probably use an HTTP client like requests to get the document behind the URL, and feed that document to Beautiful Soup.\n",
            "  ' that document to Beautiful Soup.' % decoded_markup\n",
            "/usr/local/lib/python3.7/dist-packages/bs4/__init__.py:336: UserWarning: \"https://soundcloud.com/jackal-and-james/wrap-up-the-night﻿\" looks like a URL. Beautiful Soup is not an HTTP client. You should probably use an HTTP client like requests to get the document behind the URL, and feed that document to Beautiful Soup.\n",
            "  ' that document to Beautiful Soup.' % decoded_markup\n",
            "/usr/local/lib/python3.7/dist-packages/bs4/__init__.py:336: UserWarning: \"https://www.surveymonkey.com/s/CVHMKLT﻿\" looks like a URL. Beautiful Soup is not an HTTP client. You should probably use an HTTP client like requests to get the document behind the URL, and feed that document to Beautiful Soup.\n",
            "  ' that document to Beautiful Soup.' % decoded_markup\n",
            "/usr/local/lib/python3.7/dist-packages/bs4/__init__.py:336: UserWarning: \"https://www.facebook.com/pages/Mathster-WP/1495323920744243?ref=hl﻿\" looks like a URL. Beautiful Soup is not an HTTP client. You should probably use an HTTP client like requests to get the document behind the URL, and feed that document to Beautiful Soup.\n",
            "  ' that document to Beautiful Soup.' % decoded_markup\n",
            "/usr/local/lib/python3.7/dist-packages/bs4/__init__.py:336: UserWarning: \"http://hackfbaccountlive.com/?ref=5242575﻿\" looks like a URL. Beautiful Soup is not an HTTP client. You should probably use an HTTP client like requests to get the document behind the URL, and feed that document to Beautiful Soup.\n",
            "  ' that document to Beautiful Soup.' % decoded_markup\n",
            "/usr/local/lib/python3.7/dist-packages/bs4/__init__.py:336: UserWarning: \"https://www.facebook.com/FUDAIRYQUEEN?pnref=story﻿\" looks like a URL. Beautiful Soup is not an HTTP client. You should probably use an HTTP client like requests to get the document behind the URL, and feed that document to Beautiful Soup.\n",
            "  ' that document to Beautiful Soup.' % decoded_markup\n",
            "/usr/local/lib/python3.7/dist-packages/bs4/__init__.py:336: UserWarning: \"http://www.twitch.tv/daconnormc﻿\" looks like a URL. Beautiful Soup is not an HTTP client. You should probably use an HTTP client like requests to get the document behind the URL, and feed that document to Beautiful Soup.\n",
            "  ' that document to Beautiful Soup.' % decoded_markup\n",
            "/usr/local/lib/python3.7/dist-packages/bs4/__init__.py:336: UserWarning: \"https://www.facebook.com/photo.php?fbid=543627485763966&amp;l=0d878a889c﻿\" looks like a URL. Beautiful Soup is not an HTTP client. You should probably use an HTTP client like requests to get the document behind the URL, and feed that document to Beautiful Soup.\n",
            "  ' that document to Beautiful Soup.' % decoded_markup\n",
            "/usr/local/lib/python3.7/dist-packages/bs4/__init__.py:336: UserWarning: \"http://www.bubblews.com/news/6401116-vps-solutions﻿\" looks like a URL. Beautiful Soup is not an HTTP client. You should probably use an HTTP client like requests to get the document behind the URL, and feed that document to Beautiful Soup.\n",
            "  ' that document to Beautiful Soup.' % decoded_markup\n",
            "/usr/local/lib/python3.7/dist-packages/bs4/__init__.py:336: UserWarning: \"http://shhort.com/a?r=HuPwEH5ab﻿\" looks like a URL. Beautiful Soup is not an HTTP client. You should probably use an HTTP client like requests to get the document behind the URL, and feed that document to Beautiful Soup.\n",
            "  ' that document to Beautiful Soup.' % decoded_markup\n",
            "/usr/local/lib/python3.7/dist-packages/bs4/__init__.py:336: UserWarning: \"http://shhort.com/a?r=G8iX5cTKd﻿\" looks like a URL. Beautiful Soup is not an HTTP client. You should probably use an HTTP client like requests to get the document behind the URL, and feed that document to Beautiful Soup.\n",
            "  ' that document to Beautiful Soup.' % decoded_markup\n",
            "/usr/local/lib/python3.7/dist-packages/bs4/__init__.py:336: UserWarning: \"http://shhort.com/a?r=Jt2ufxHxc﻿\" looks like a URL. Beautiful Soup is not an HTTP client. You should probably use an HTTP client like requests to get the document behind the URL, and feed that document to Beautiful Soup.\n",
            "  ' that document to Beautiful Soup.' % decoded_markup\n",
            "/usr/local/lib/python3.7/dist-packages/bs4/__init__.py:336: UserWarning: \"https://www.reverbnation.com/slicknick313/songs﻿\" looks like a URL. Beautiful Soup is not an HTTP client. You should probably use an HTTP client like requests to get the document behind the URL, and feed that document to Beautiful Soup.\n",
            "  ' that document to Beautiful Soup.' % decoded_markup\n",
            "/usr/local/lib/python3.7/dist-packages/bs4/__init__.py:336: UserWarning: \"https://viralangels.com/user/d4aaacwk﻿\" looks like a URL. Beautiful Soup is not an HTTP client. You should probably use an HTTP client like requests to get the document behind the URL, and feed that document to Beautiful Soup.\n",
            "  ' that document to Beautiful Soup.' % decoded_markup\n",
            "/usr/local/lib/python3.7/dist-packages/bs4/__init__.py:336: UserWarning: \"https://vimeo.com/107297364﻿\" looks like a URL. Beautiful Soup is not an HTTP client. You should probably use an HTTP client like requests to get the document behind the URL, and feed that document to Beautiful Soup.\n",
            "  ' that document to Beautiful Soup.' % decoded_markup\n",
            "/usr/local/lib/python3.7/dist-packages/bs4/__init__.py:336: UserWarning: \"https://www.facebook.com/pages/Komedi-burda-gel/775510675841486﻿\" looks like a URL. Beautiful Soup is not an HTTP client. You should probably use an HTTP client like requests to get the document behind the URL, and feed that document to Beautiful Soup.\n",
            "  ' that document to Beautiful Soup.' % decoded_markup\n",
            "/usr/local/lib/python3.7/dist-packages/bs4/__init__.py:336: UserWarning: \"https://www.facebook.com/profile.php?id=100007085325116﻿\" looks like a URL. Beautiful Soup is not an HTTP client. You should probably use an HTTP client like requests to get the document behind the URL, and feed that document to Beautiful Soup.\n",
            "  ' that document to Beautiful Soup.' % decoded_markup\n",
            "/usr/local/lib/python3.7/dist-packages/bs4/__init__.py:336: UserWarning: \"http://vimeo.com/106865403﻿\" looks like a URL. Beautiful Soup is not an HTTP client. You should probably use an HTTP client like requests to get the document behind the URL, and feed that document to Beautiful Soup.\n",
            "  ' that document to Beautiful Soup.' % decoded_markup\n",
            "/usr/local/lib/python3.7/dist-packages/bs4/__init__.py:336: UserWarning: \"http://minhateca.com.br/mauro-sp2013/Filmes+Series+Desenhos+Animes+Mp3+etc﻿\" looks like a URL. Beautiful Soup is not an HTTP client. You should probably use an HTTP client like requests to get the document behind the URL, and feed that document to Beautiful Soup.\n",
            "  ' that document to Beautiful Soup.' % decoded_markup\n",
            "/usr/local/lib/python3.7/dist-packages/bs4/__init__.py:336: UserWarning: \"https://www.facebook.com/antrobofficial﻿\" looks like a URL. Beautiful Soup is not an HTTP client. You should probably use an HTTP client like requests to get the document behind the URL, and feed that document to Beautiful Soup.\n",
            "  ' that document to Beautiful Soup.' % decoded_markup\n",
            "/usr/local/lib/python3.7/dist-packages/bs4/__init__.py:336: UserWarning: \"http://hackfbaccountlive.com/?ref=4344749﻿\" looks like a URL. Beautiful Soup is not an HTTP client. You should probably use an HTTP client like requests to get the document behind the URL, and feed that document to Beautiful Soup.\n",
            "  ' that document to Beautiful Soup.' % decoded_markup\n",
            "/usr/local/lib/python3.7/dist-packages/bs4/__init__.py:336: UserWarning: \"https://soundcloud.com/j-supt-fils-du-son/fucking-hostile﻿\" looks like a URL. Beautiful Soup is not an HTTP client. You should probably use an HTTP client like requests to get the document behind the URL, and feed that document to Beautiful Soup.\n",
            "  ' that document to Beautiful Soup.' % decoded_markup\n",
            "/usr/local/lib/python3.7/dist-packages/bs4/__init__.py:336: UserWarning: \"https://www.facebook.com/myfunnyriddles﻿\" looks like a URL. Beautiful Soup is not an HTTP client. You should probably use an HTTP client like requests to get the document behind the URL, and feed that document to Beautiful Soup.\n",
            "  ' that document to Beautiful Soup.' % decoded_markup\n",
            "/usr/local/lib/python3.7/dist-packages/bs4/__init__.py:336: UserWarning: \"http://www.wattpad.com/story/26032883-she-can-love-you-good﻿\" looks like a URL. Beautiful Soup is not an HTTP client. You should probably use an HTTP client like requests to get the document behind the URL, and feed that document to Beautiful Soup.\n",
            "  ' that document to Beautiful Soup.' % decoded_markup\n",
            "/usr/local/lib/python3.7/dist-packages/bs4/__init__.py:336: UserWarning: \"https://binbox.io/DNCkM#qT4Q1JB1﻿\" looks like a URL. Beautiful Soup is not an HTTP client. You should probably use an HTTP client like requests to get the document behind the URL, and feed that document to Beautiful Soup.\n",
            "  ' that document to Beautiful Soup.' % decoded_markup\n"
          ]
        }
      ]
    },
    {
      "cell_type": "markdown",
      "metadata": {
        "id": "_7wtiMi9hQiv"
      },
      "source": [
        "**1.4) Remove URLs**\n",
        "\n",
        "> Replace url to http\n",
        "\n"
      ]
    },
    {
      "cell_type": "code",
      "metadata": {
        "id": "vpokEPXRddHN"
      },
      "source": [
        "def replace_url(text, replacement):\n",
        "    text = str(text)\n",
        "    text = re.sub('http[s]?://(?:[a-zA-Z]|[0-9]|[$-_@.&+]|[!*\\(\\),]|(?:%[0-9a-fA-F][0-9a-fA-F]))+', replacement, text)\n",
        "    text = re.sub('[/]?watch(?:[a-zA-Z]|[0-9]|[$-_@.&+]|[!*\\(\\),]|(?:%[0-9a-fA-F][0-9a-fA-F]))+', replacement, text)\n",
        "    text = re.sub(r'[-a-zA-Z0–9@:%._\\+~#=]{2,256}\\.[a-z]{2,6}\\b([-a-zA-Z0–9@:%_\\+.~#?&//=]*)', replacement , text, flags=re.MULTILINE)\n",
        "    \n",
        "    return text\n",
        "\n",
        "# Replace url to http\n",
        "train_data['CONTENT'] = train_data['CONTENT'].apply(lambda x: replace_url(x, ' '))"
      ],
      "execution_count": null,
      "outputs": []
    },
    {
      "cell_type": "markdown",
      "metadata": {
        "id": "1Iv-g0US5_FR"
      },
      "source": [
        "**1.5) Convert text to lowercase**\n",
        "\n"
      ]
    },
    {
      "cell_type": "code",
      "metadata": {
        "id": "j9-GC1lkIVcN"
      },
      "source": [
        "train_data['CONTENT'] = train_data['CONTENT'].apply(lambda x: x.lower())"
      ],
      "execution_count": null,
      "outputs": []
    },
    {
      "cell_type": "markdown",
      "metadata": {
        "id": "H8Rc4FqCI_3k"
      },
      "source": [
        "**1.6) Remove numeric digits and words with digits**"
      ]
    },
    {
      "cell_type": "code",
      "metadata": {
        "id": "nxKqq7I2KYJ1"
      },
      "source": [
        "train_data['CONTENT'] = train_data['CONTENT'].apply(lambda x: re.sub('\\w*\\d\\w*','', x))"
      ],
      "execution_count": null,
      "outputs": []
    },
    {
      "cell_type": "markdown",
      "metadata": {
        "id": "qWeZhkhUKyJd"
      },
      "source": [
        "**1.7) Remove punctuations**\n",
        "\n",
        "> For text data analysis punctuations are not needed\n",
        "\n"
      ]
    },
    {
      "cell_type": "code",
      "metadata": {
        "id": "KpwpVYUSLsyF"
      },
      "source": [
        "train_data['CONTENT'] = train_data['CONTENT'].apply(lambda x: re.sub('[%s]' % re.escape(string.punctuation), '', x))"
      ],
      "execution_count": null,
      "outputs": []
    },
    {
      "cell_type": "markdown",
      "metadata": {
        "id": "Qynms985QtSQ"
      },
      "source": [
        "**1.8) Remove encoding**\n",
        "\n",
        "> Some comments have encoding \\ufefff and \\xao and emojis. *italicized text*\n",
        "\n"
      ]
    },
    {
      "cell_type": "code",
      "metadata": {
        "id": "3qCb6j5FTomA"
      },
      "source": [
        "def remove_non_ascii(text): \n",
        "    return ''.join(i for i in text if ord(i)<128) \n",
        "\n",
        "train_data['CONTENT'] = train_data['CONTENT'].apply(lambda x: remove_non_ascii(x)) "
      ],
      "execution_count": null,
      "outputs": []
    },
    {
      "cell_type": "markdown",
      "metadata": {
        "id": "O5gTYzvLhxe3"
      },
      "source": [
        "**1.9) Remove Extra Spaces**"
      ]
    },
    {
      "cell_type": "code",
      "metadata": {
        "id": "NRN_pE3Ph3Q9"
      },
      "source": [
        "train_data['CONTENT'] = train_data.CONTENT.replace('\\s+', ' ', regex=True)\n",
        "train_data['CONTENT'] = train_data.CONTENT.apply(lambda x: x.strip()) "
      ],
      "execution_count": null,
      "outputs": []
    },
    {
      "cell_type": "markdown",
      "metadata": {
        "id": "E5iqNJhVRviz"
      },
      "source": [
        "\n",
        "\n",
        "---\n",
        "\n"
      ]
    },
    {
      "cell_type": "markdown",
      "metadata": {
        "id": "flmMZ_fcUzk4"
      },
      "source": [
        "**Data after cleaning**"
      ]
    },
    {
      "cell_type": "code",
      "metadata": {
        "colab": {
          "base_uri": "https://localhost:8080/"
        },
        "id": "wmE2HCU9Rcxj",
        "outputId": "53a8e333-7f93-43a2-a08d-ee8893f74245"
      },
      "source": [
        "train_data.CONTENT.to_list()"
      ],
      "execution_count": null,
      "outputs": [
        {
          "output_type": "execute_result",
          "data": {
            "text/plain": [
              "['huh anyway check out this youtube channel',\n",
              " 'hey guys check out my new channel and our first vid this is us the monkeys i am the monkey in the white shirtplease leave a like comment and please subscribe',\n",
              " 'just for test i have to say',\n",
              " 'me shaking my sexy ass on my channel enjoy',\n",
              " 'check this out',\n",
              " 'hey check out my new website this site is about kids stuff kidsmediausa com',\n",
              " 'subscribe to my channel',\n",
              " 'i turned it on mute as soon is i came on i just wanted to check the views',\n",
              " 'you should check my channel for funny videos',\n",
              " 'and u shouldd check my channel and tell me what i should do next',\n",
              " 'hey subscribe to me',\n",
              " 'once you have started reading do not stop if you do not subscribe to me within one day you and you are entire family will die so if you want to stay alive subscribe right now',\n",
              " '',\n",
              " 'subscribe like comment',\n",
              " 'please like d',\n",
              " 'hello do you like gaming art videos scientific experiments tutorials lyrics videos and much much more of that if you do please check out our channel and subscribe to it we have just started but soon we hope we will be able to cover all of our expectations you can also check out what we have got so far',\n",
              " 'i am only checking the views',\n",
              " '',\n",
              " '',\n",
              " 'we are an edm apparel company dedicated to bringing you music inspired designs our clothing is perfect for any rave or music festival we have neon crop tops tank tops tshirts vnecks and accessories follow us on facebook or on instagraml for free giveaways news and more visit our site at oncueapparel',\n",
              " 'i think about millions of the views come from people who only wanted to check the views',\n",
              " 'subscribe to my channel people d',\n",
              " 'show your auburn pride here',\n",
              " 'just checking the views',\n",
              " 'check out my channel',\n",
              " 'marketglory comstrategygameandrijamatf earn real money from game',\n",
              " 'hey guys im a yr old music producer i make chiptunes and music it would be wonderful if you checked out some of my remixes i even have a gangnamstyle remix if you would like to check that out thanks',\n",
              " 'check me out i am kyle i rap so yeah',\n",
              " 'i dont even watch it anymore i just come here to check on billion or not',\n",
              " 'subscribe to me for free android games apps',\n",
              " 'everyone please come check our newest song in memories of martin luther king jr',\n",
              " 'came here to check the views goodbye',\n",
              " 'sub my channel for no reason',\n",
              " 'check out my dubstep song fireball made with fruity loops i really took time in it',\n",
              " 'billioncoming soon',\n",
              " 'why dafuq is a korean song so big in the usa does that mean we support koreans last time i checked they wanted to bomb us',\n",
              " 'check my channel please and listen to the best music ever p',\n",
              " 'sub sub please like this comment i want a succesfull youtube so pplease like this comment and subscribe it only takes seconds please if you subscribe ill subscribe back thanks',\n",
              " 'hey everyone i have just started my first yt channel i would be grateful if some of you peoples could check out my first clip in and give me some advice on how my video was and how i could improve it also be sure to go check out the about to see what im all about thanks for your time and to haters you hate i win',\n",
              " 'the projects after effects music foto web sites and another you can find and buy here',\n",
              " 'youtubecodytolleson for awesome videos i will subscribe back',\n",
              " 'if you like roblox minecraft world of warcraft mario suscribe to my channel',\n",
              " 'subscribe to me and ill subscribe to you must like',\n",
              " 'come follow and watch my stream',\n",
              " 'if you like raw talent raw lyrics straight real hip hop everyone check my newest sound dizzy x got the juice prod by drugs the model citizen comment tell me what you think dont be lazy prophetz',\n",
              " 'subscribe my channel',\n",
              " 'now its views pls comment the view count the next hour p',\n",
              " '',\n",
              " 'go here to check the views',\n",
              " 'thumbs up if u checked this video to see hw views it got',\n",
              " 'plz subscribe to my channel and i will subscribe back xx',\n",
              " 'i check back often to help reach views and i avoid baby',\n",
              " 'this video will get to billion just because of people checking if it has hit billion yet',\n",
              " 'like this facebookpage chance to win an iphone',\n",
              " 'get gwar to play superbowl share',\n",
              " 'pls follow this channel',\n",
              " 'hi guys check my youtube channel',\n",
              " 'subscribe and like to me for more how to videos on minecraft',\n",
              " 'friend great game check it out',\n",
              " 'subscribe me',\n",
              " 'im just to check how much views it has',\n",
              " 'the first comment is chuck norrus ovbiously d',\n",
              " 'behold the most viewed youtube video in the history of ever',\n",
              " 'when is this gonna hit billion',\n",
              " 'the most viewed youtube video of all time',\n",
              " 'dislikes like dislike themselves',\n",
              " 'psykorean',\n",
              " 'omg this oldspice spraytan party commercial omgim sitting here no this is not a real thing is it omg',\n",
              " 'this is the only video on youtube that get so much views just because we want to see how much views it has every day i mean most people think a video is popular when it actually gets views',\n",
              " 'it is been back for quite a while now',\n",
              " 'billions in',\n",
              " 'plz check out fablife welcome to fablife for diys and challenges so plz subscribe thx',\n",
              " 'sub my channel',\n",
              " '',\n",
              " '',\n",
              " 'if your like drones plz subscribe to kamal tayara he takes videos with his drone that are absolutely beautiful',\n",
              " '',\n",
              " 'whats up everyone i trying to showcase my talent to the world i have over subscribers i promise i dont suck please spread my covers around subscribe share thanks so much for all your support lucas trigo stay awesome',\n",
              " '',\n",
              " 'hi therei am group leader of angel a rookie korean pop group we have four members chanicka julie stephanie and myself leah please feel free to check out our channel and leave some feedback on our cover videos criticism is welcome as we know we are not top notch singers so please come leave some constructive feedback on our videos we appreciate any chance to improve before auditioning for a korean management company we plan on auditioning for jyp bighit jellyfish yg or sm thank you for taking time out of your day to read this',\n",
              " 'free cs go',\n",
              " 'admit it you just came here to check the number of viewers',\n",
              " 'just coming to check if people are still viewing this video and apparently they still do',\n",
              " 'check my first video out',\n",
              " 'check my channel',\n",
              " 'psy gangnam style mv',\n",
              " 'suscribe my channel please xd lol',\n",
              " 'wow comments section on this still active not bad also comments now',\n",
              " '',\n",
              " 'ching ching ling long ding ring yaaaaaa ganga sty fuck you',\n",
              " 'please halp me with my project',\n",
              " 'there is one video on my channel about my brother',\n",
              " 'check my channel please',\n",
              " 'does anyone here use gift cards like amazon itunes psn google play itunes or any other gift cards then you will be happy to know you can get free gift card codes for free from an amazing site here is a itunes gift card code',\n",
              " 'why does this video have so many views because asian things are awesome and nonasian countries are jelly so they try to learn from asia by looking at this video d',\n",
              " 'plizz withing my channel',\n",
              " 'i made a gaming channel unique right l angry minecraft',\n",
              " 'please help me go here',\n",
              " 'anybody who subscribes to me will get subscribers',\n",
              " '',\n",
              " 'my videos are half way decent check them out if you want',\n",
              " 'they said this video are not deserve views while they keep visiting it to watch the viewer',\n",
              " 'subscribe to itz recaps and above diddle',\n",
              " 'screw this chinese crap i dont even understand what he is saying why is not he speaking english like everyone should',\n",
              " 'need moneyenjoy',\n",
              " 'sub to my channel visuelgamingznl i sub back',\n",
              " 'please subscribe i am a new youtuber and need help please subscribe and i will subscribe back d hoppa hoppa gangam style',\n",
              " 'sub me if you dont like the song',\n",
              " 'this is a weird video',\n",
              " 'million likes xd even the subscribers not million xd',\n",
              " 'ehi guys can you subscribe in my channel i am a new youtuber and i play minecraft thanks guys subscribe',\n",
              " 'hi everyone do you like music then why not check out my music channel the lexis band will be uploading their own songs and covers soon so do not miss out please subscribe too as it does help us out a lot just takes one click',\n",
              " 'this song never gets old love it',\n",
              " '',\n",
              " 'hey guys please check out my new google page it has many funny pictures funnytortspics',\n",
              " '',\n",
              " 'made in china',\n",
              " 'milions comentars and bilion views',\n",
              " 'it is zero',\n",
              " 'mix psy gangnam style mv psy gangnam style mv',\n",
              " 'this has had over billion views holy shit',\n",
              " 'how can there be views when im the only person alive after the zombie apocalypse greetings spoderman',\n",
              " 'suscribe my channel please',\n",
              " 'wiews wow',\n",
              " 'guys please subscribe me to help my channel grow please guys',\n",
              " 'great music anyway',\n",
              " 'psy gangnam style mv',\n",
              " 'so crazy over billion views not us not uk its korea republic its asia',\n",
              " 'discover a beautiful song of a young moroccan',\n",
              " 'like getting gift hate spending the cash try juno wallet at juno wallet you can earn money for gift cards such as nike gamestop amazon ebay etc its easy earn money by doing simple task like videosdownloading apps you can even earn money by inviting your friends to free for signup sign up today use promo code',\n",
              " 'can somebody wake me up when we get to billion views',\n",
              " 'psy got lots of money from youtube that he got from billion views this is the most views in the world d',\n",
              " 'justin bieber gay',\n",
              " 'you gotta say its funny well not billion worth funny but still it clicked and everything went uphill at least you do not have jb is shit on',\n",
              " '',\n",
              " 'ahhh years ago',\n",
              " 'dance dancepsy',\n",
              " 'check out starlitnightsky channel to see epic videos',\n",
              " 'plz',\n",
              " 'stupid people this video doesnt have billion visits have thousands millions',\n",
              " '',\n",
              " 'check men out i put allot of effort into my music but unfortunatly not many watch it',\n",
              " 'pls help me get vip gun cross fire al',\n",
              " 'add me here',\n",
              " 'check my channel out please i do singing covers',\n",
              " 'i think this is now a place to promote channels in the comment section lol',\n",
              " 'get free gift cards and pay pal money',\n",
              " 'check out pivot animations in my channel',\n",
              " 'follow me on twitter ig',\n",
              " 'check me out i am all about gaming',\n",
              " 'oppa yeah best song',\n",
              " 'more',\n",
              " '',\n",
              " '',\n",
              " 'reminds me of this song',\n",
              " 'what free gift cards go here',\n",
              " 'search chubbz dinero ready or not thanks',\n",
              " 'follow me on twitter',\n",
              " 'every single types of face on earth',\n",
              " 'y',\n",
              " 'check my channel for my new song static youll love it',\n",
              " 'where the truth meets you',\n",
              " 'look at my channel i make minecraft pe lets play',\n",
              " 'i found out this song now',\n",
              " 'billion',\n",
              " 'song name',\n",
              " 'please like',\n",
              " 'hey again if you guys wouldnt mind chacking out my rap give it like and il giver of your vids a like',\n",
              " '',\n",
              " 'the most video on youtube is psys gangnam style with billion views psy gangnam style mv',\n",
              " 'subscribe to me and i will subscribe back',\n",
              " '',\n",
              " 'for christmas song visit my channel',\n",
              " '',\n",
              " 'subscribe to me i subscribe back plus i have a nice ass lol',\n",
              " '',\n",
              " '',\n",
              " '',\n",
              " 'please give us a chance and check out the new music video on our channel you will not be disappointed',\n",
              " 'please subscribe to me',\n",
              " 'this is the best funny and viral video of history youtube the true',\n",
              " 'please check out my vidios',\n",
              " 'oppa gangnam style',\n",
              " 'the funny thing is of the views are spam bots i mean cmon billion views bs',\n",
              " 'oppa',\n",
              " 'it is so funny it is awesomeness lol aaaaaaa sexy lada',\n",
              " 'most viewed video in the world',\n",
              " 'i am here to check the views holy shit',\n",
              " 'dear person reading this you are beautiful and loving have a great day',\n",
              " 'click',\n",
              " 'have you tried a new social network tsu this new social network has a special thingyou can share the posts as well as on fb and twitter and even toll get paid you can registr here',\n",
              " 'the guy in the yellow suit kinda looks like jaesuk',\n",
              " 'people here is a new network like register also free the difference is only that you get paid for sharing commenting and liking posts and so not waste your time on fb for sharing and not being paid register here to make also money with your everyday posts wellcome to everyone',\n",
              " 'how are there billion views and theres only million people in the world multiple accounts',\n",
              " 'wat da fuck this the most viewed video in youtube',\n",
              " 'omg people this video because there are billion people in the world and billion this',\n",
              " 'what is he saying',\n",
              " 'this has so many views',\n",
              " 'omg over billion views',\n",
              " 'subscribe to me plz plz plz plz plz plz',\n",
              " 'follow him on twitch and enter the keyword and you will have a chance of winning a really nice and expensive gun for csgo that you can sell on the steam market',\n",
              " 'i am viewer d',\n",
              " 'get money here',\n",
              " 'fantastic',\n",
              " 'the population of world is more than billion',\n",
              " 'views',\n",
              " 'wow min ago',\n",
              " 'super',\n",
              " 'p e a c e l o v e',\n",
              " 'how can this music video get billion views while im the only one here on earth lol',\n",
              " 'please friend read my book and repass',\n",
              " 'subscribe to me',\n",
              " 'still the best d',\n",
              " 'the most liked video on youtube',\n",
              " 'still this years later',\n",
              " 'hello i am kind of new to youtube and soon im soon going to be making launchpad video is d i would really appreciate if i got some subs before i started so that people can spot me easily i dont really care about hate comments so dont bother',\n",
              " 'loli dunno how this joke gets a lot of likes but whatever xd',\n",
              " 'billion views for this piece of shit a r e y o u k i d d i n g m e',\n",
              " 'gangman sty dddddddrop the bass',\n",
              " 'will this song ever reach billion views',\n",
              " 'im a rappersongwriter check my video subscribe for more thanks tell me what you think',\n",
              " 'hello all earth population of the world hope your having a great day',\n",
              " 'is this the video that started the whole got my dick stuck in an elevator excuse thing',\n",
              " 'can anyone sub to my channel d',\n",
              " 'prehistoric been',\n",
              " 'you think you are smart headbutt your face',\n",
              " 'dislike now one knows real music ex enimen',\n",
              " 'loool nice song funny how no one understands me and we love it',\n",
              " 'like if you came here too see how many views this song has',\n",
              " 'we pray for you little psy',\n",
              " 'little psy only months left tumor in the head we will miss u',\n",
              " 'follow me on instagram chriscz',\n",
              " 'how is this shit still relevant',\n",
              " 'lol this shit never gets old',\n",
              " 'what can i saythis song he just change the world completely so good job psy and your girls are awesome',\n",
              " 'on u can see the camera man on his glasses',\n",
              " 'this comment is wrong',\n",
              " 'i hate this music fucking singer and every koean chainise ana us sucks me dick',\n",
              " 'hahahahah',\n",
              " 'can we reach billion views by december',\n",
              " 'dumb guy why is there billion views when there are million people on earth also i know what equals i am a smartie pants',\n",
              " 'people who say that this song is too old now there is no point of listening to it suck just stfu and enjoy the music so your mom is old too but you still listen to her right',\n",
              " 'the funny thing is that this song was made in but it took years to get to america',\n",
              " 'why i dont see any comments but mine',\n",
              " 'this jap is such a piece of shit he is such a worthless fish head i dont know how any one likes this dumb untanlted gook this isnt even fucken music this is so fucking sad that this is even such thing people are so fucked up',\n",
              " 'i remember when everyone was obsessed with gangnam style',\n",
              " 'remove this video its wank',\n",
              " 'it is so hard sad ithat little child actor hwang minoo dancing very active child is suffering from brain tumor only month left for him hard to believe keep praying everyone for our future superstar stronglittlepsy fighting share everyone praying for him',\n",
              " 'why the fuck this keeps updated comments minutes ago song years and months ago',\n",
              " 'many memories',\n",
              " 'why are they comments when there is only youtube users fake account or psy hacked youtube',\n",
              " 'out of people in the would saw this video just in years and yeat i only get words out of the hole song',\n",
              " 'this video is so cool again and again',\n",
              " 'i am now going to voyage to the first comment tell my family i loved them',\n",
              " 'how did this video in all of youtube get this many views and likes why gangnam style i do not have a problem with it i just do not understand the phenomena behind it it is just like any other random music video out there',\n",
              " 'with the korean girl more slut and bitch hyuna',\n",
              " 'hey guys check this out kollektivet dont be slappin my penis i think that they deserve much more credit than they receive',\n",
              " 'still a very fun music video to',\n",
              " 'cmon billion views',\n",
              " 'hey everyone i am a new channel and will post videos of book reviews and music on the flute please subscribe if you would enjoy that thanks',\n",
              " 'hey i think i know what where dealing with here i have some theories of how this could have gotten hits this was mabey made in korea and its realy popular there so they were stuck this over and over again over people have access to the internet including youtube and the numbers are rising by half of the populatoin will be connected hackers in korea may have loved it so much they rised it to hits to make it more popular the song was featured in a just dance game on multiple and been seen on concerts and even on new years eve event in so just by seeing those you mabey adding more hits to this video you are complaining to much on how the heck this has hits',\n",
              " 'subscribe my chanel',\n",
              " 'this has more views than queen and michael jackson billion views omg',\n",
              " 'lol',\n",
              " 'if you pause at at the last millisecond you can see that that chick is about to laugh takes a few tries',\n",
              " 'year olds be like how does this have billion views when there are only people in the world',\n",
              " 'psy is a good guy',\n",
              " 'why does this have billion views this song is so annoying',\n",
              " '',\n",
              " 'millioon dislikesssssssssssssssssssssssssssssssss',\n",
              " 'the little psy is suffering brain tumor and only has more months to live please pray to him and the best lucks',\n",
              " 'for all of the little kidz out there there is like to billon people on earth not to millonget you facts straight before posting comments',\n",
              " 'how stupid humanity is',\n",
              " 'come and watch my video it is called the odowd crowd zombie movie part',\n",
              " 'you know a song sucks dick when you need to use google translate to know what the fuck its saying',\n",
              " 'we get it you came here for the views',\n",
              " 'wow this video is the most viewed youtube video second that comes justin bieber baby smh what has the world come to',\n",
              " 'hey join me on ts a publishing platform where i share my content now',\n",
              " 'this song is great there are views wow',\n",
              " 'i am this in',\n",
              " 'most viewed video on youtubedaaaaaaaaaaannng those views can almost dominate the',\n",
              " 'how does this video have views if there are only million people on earth',\n",
              " 'what my gangnam style',\n",
              " 'lol this youtuber officialpsy is getting so much money lol',\n",
              " 'million dislikesepic failready for you fanboys',\n",
              " 'if i knew korean this would be even funnier at least a bit at the end was in english but was spoken quite rapidly',\n",
              " 'enough with the whole how does this have two billion views if there is only million on the planet we get it youre joking it is not funny anymore',\n",
              " 'if i get subscribers i will summon freddy mercury is ghost to whipe from the face of earth one direction and miley cirus',\n",
              " 'if i reach subscribers i will go round in public pouring a bucket of ice water over people and then running away acting like it was not me like so people can see',\n",
              " 'youtube money',\n",
              " 'billion for this shit',\n",
              " 'billion views only million shares',\n",
              " 'hi guys my name is dylan and i do irl football videos i have subscribers and i think you guys would like my content so come check it out and if you do subscribe',\n",
              " 'if i get subscribers by tomorrow i will do a epic hunger games video',\n",
              " 'follower please',\n",
              " 'billion views wow not even baby by justin beibs has that much he does not deserve a capitalized name',\n",
              " 'if i reach subscribers i will tazz my self and my friend',\n",
              " 'please help me go to college guys thanks from the bottom of my heart',\n",
              " 'lnujgibujtcjnmhobzszz typetheater',\n",
              " 'i am so awesome and smart sucscribe to me',\n",
              " 'follow follow vaahidmustafic like like',\n",
              " 'psy news offcal',\n",
              " 'add mee',\n",
              " 'im sorry for the spam but my name is jenny i go to high school where everyone dresses fashionable but for me i do not because i need money to buy cute clothes i have low self esteem i live with my dad my mom passed away when i was so i do not really have a mother figure i have brothers who is older than me since they are boys they get the attention while i just be alone i really want to wear pretty clothes like the girls in my school and get a boyfriend i just cannot be my self im very quite and shy at school because i do not have the confidence in myself to talk to someone i did have one friend name caroline but she moved away so now im alone if you could donate some money to me it would be great i do not care about expensive brand ill just shop at walmart because they have pretty clothes also i wanna get my nails done at a salon i see alot of girls have these french tips i never had my nail did at a salon before i will really appreciate if i can and get my hair curled too thanks omg please',\n",
              " 'i hate this song',\n",
              " 'please throw a sub on my channel',\n",
              " 'new goal let is go for it',\n",
              " 'go to my channel if u want to see a fly getting burned alive',\n",
              " 'just came here to check the views p',\n",
              " 'come and check out my new youtube chhanel going to be posting daily',\n",
              " 'i hav absolutely no idea what he is saying is it even a language',\n",
              " 'please check out my vidios guys',\n",
              " 'i still to this day wonder why this video is so popular illuminati confirmed',\n",
              " 'hey guys can you check my channel out plz i do mine craft videos let is shoot for subs',\n",
              " 'this is getting old',\n",
              " 'please subscribe me',\n",
              " 'just came to check the view count',\n",
              " 'check out my music videos fuego u la la remix',\n",
              " 'check out my music videos and please subscribe fuego u la la remix',\n",
              " '',\n",
              " 'if the shitty chinese government did not block youtube over there there would be close to billion views right now',\n",
              " 'world record youtube video views xd',\n",
              " 'i think he was drunk during this x',\n",
              " 'limit sun exposure while driving eliminate the hassle of having to swing the car visor between the windshield and window',\n",
              " 'hahah juyk i allways laugh at the part lol',\n",
              " '',\n",
              " 'i wanted to know the name of the guy that dances at anybody knows',\n",
              " '',\n",
              " 'haha its so funny to see the salt of westerners that top views of youtube goes to video they dont even understand keep the salt up',\n",
              " 'follow my company on twitter thanks',\n",
              " 'imagine if this guy put adsense on with all these views u could pay ur morgage',\n",
              " 'hey come check us out were new on youtube let us know what you think and do not forget to subscribe thanks',\n",
              " 'the girl in the train who was dancing her outfit was so fucking sexy but the huge turnoff was she lacked eyebrows d',\n",
              " 'look at the pictures if not difficult',\n",
              " 'dont mind me i am just checking what the views are up to',\n",
              " 'hey guys can you check my youtube channel i know you hate comments like this one but i promise if you check my videos it will be entertaining i do shotgun montagesninja defuse montages and trolling please guys can you check them out and thanks have a good day',\n",
              " 'to everyone joking about how he hacked to get billion views because there is a certain amount of people or whatever he actually did buy views',\n",
              " '',\n",
              " 'please like frigea marius gabriel comment d',\n",
              " 'bing rewards earn free money and no u cant get ur virus in blue',\n",
              " 'please do buy these new christmas shirts you can buy at any time before december and they are sold worldwide dont miss out',\n",
              " 'free my apps get crdits just click on the link and download a app and done link',\n",
              " 'why does a song like this have more views than michael jackson smh',\n",
              " 'something to dance to even if your sad just dance psy gangnam style mv',\n",
              " 'everyones back lool this is almost years old and people are still hear xd',\n",
              " 'how can this have billion views when there is only me on the planet lol',\n",
              " 'i do not now why i am this in',\n",
              " 'subscribe to me for call of duty vids and give aways goal subs',\n",
              " 'hi guys please my android photo editor download thanks',\n",
              " 'the first billion viewed this because they thought it was really cool the other billion and a half came to see how stupid the first billion were',\n",
              " 'i love this so much and also i generate free leads on auto pilot you can too',\n",
              " 'vote for sones are against help us',\n",
              " 'hey guys please join me in my fight to help abusedmistreated animals all fund will go to helping pay for vet billsand or helping them find homes i will place an extra emphasis on helping disabled animals ones otherwise would just be put to sleep by other animal organizations donate please',\n",
              " 'this is the song',\n",
              " 'hey everyone watch this trailer',\n",
              " 'check out my rapping hope you guys like it and follow and message me',\n",
              " 'subscribe pleaaaase to my instagram account ill subscribe back',\n",
              " 'hey guys visit my channel pleaase im searching a dream',\n",
              " 'nice',\n",
              " '',\n",
              " 'hey guys this is glamour beauty i just started my youtube channel please go check it out i am going to post singing videos and also random videos that i fell like please go to subscribe more to come soon remember to subscribe',\n",
              " 'hey guys my mom said if i got subs before christmas i will get a kitten and i always have wanted an kitten so please watch my videos and if you like it subscribe or like please no mean comments',\n",
              " '',\n",
              " '',\n",
              " 'please check my stuff and make some feedback',\n",
              " 'take a break from katie and help me reach subscribers this month new music and free downloads',\n",
              " 'subscribe me please',\n",
              " 'check out my covers i have a video coming out please subscribe',\n",
              " 'subscribe to my channel',\n",
              " 'hey guys i am a very small youtuber i upload videos nearly every single day i once hope to be like shikas so can you please give mins of your life to view this channel and my new video is on how to watch all the anime for free and i am pretty sure you wont regret visiting this channel thank you',\n",
              " 'please join me to the voice liked and shared it please to win more audition score thanks so much',\n",
              " 'katy perry will u sit on my face please it would be really awesome and ill give you dollars ok if you want to do this then please call me and subscribe to my channel first ok thats good and then u sit on my face and ill get an erection then you sit more k',\n",
              " 'is in top in youtube top views on is miley cyrus',\n",
              " 'some people are very talented but some are more talented but there is no sponsor',\n",
              " 'i really love this video',\n",
              " 'hi guys check this awesome edm house mix thanks a lot',\n",
              " 'hiya i just started youtube and it would mean a lot if some of you could subscribe and watch my first videoxx',\n",
              " 'watch maroon is latest single from v it was always you wwwyoutube com',\n",
              " 'help please',\n",
              " 'download and make money today',\n",
              " '',\n",
              " 'script a targetself href check this out new arive on ebayaimg styletextdecorationnoneborderpaddingmargin src scriptnoscripta targetself href check this out new arive on ebayaimg styletextdecorationnoneborderpaddingmargin src noscript',\n",
              " 'i votekatyperry for the mtv vma best lyric video see who is in the lead and vote',\n",
              " '',\n",
              " 'hello i am marian i am a singer from venezuela i was part of a boygirl band named cubik and i am now singing on my own because i wanted to play my own pop and poprock songs it would mean a lot if you could have a look at my channel to check my music and watch my new video and if u like subscribe to it xoxo thanks ps if you like a lot my channel you can share it with your friends haha lol marian',\n",
              " 'katy perry does remind me of a tigerlike as if its her spirit animal',\n",
              " 'in what south american jungle or any jungle for that matter do you find an african elephant and a bengal tiger in the same place who made this video',\n",
              " '',\n",
              " 'ima rapper trying to get notice please check out my mixtape',\n",
              " 'its a good song and i like her video clip because its a bout a girl that her airplane crashed on a land far far away and she found the way to survive and i love the pet tiget too kitty purpy lol d',\n",
              " 'help me click on the subscribe mai nguyen thank you',\n",
              " 'even without make up she is still hot',\n",
              " 'thanks to this video we know that nokia phones can survive a plane crash',\n",
              " '',\n",
              " 'the treu detective alternate ending',\n",
              " 'the new makeup transformation with integrated lookalike feature now available in ver do you know who you look like install or update your version of makeup transformation or visit google play',\n",
              " 'she named the tiger kitty purry no seriously she did check the video',\n",
              " 'perfect',\n",
              " 'and after the video ends a ft boa constrictor squeezes her to death',\n",
              " 'should not have paused the music this is a clip not a movie',\n",
              " 'hid we re twin melody year old twins we did some coverswe did a cover of birthday by katy perry please just take second and watch it thanksmercigraciasdankeobrigadograzie xx have a nice dayd',\n",
              " 'niceesabrosura viva',\n",
              " 'hey guys go to check my video name growtopia my story',\n",
              " '',\n",
              " 'yay im the commenter if your crazy please donate bitcoins to me at',\n",
              " '',\n",
              " 'i love this song its for empowering every woman youre gonna hear me roar',\n",
              " 'this song makes me want to drink bleach',\n",
              " 'if she really did this there she is hardcore',\n",
              " '',\n",
              " 'follow me watch my videos follow me watch my videos follow me watch my videos follow me watch my videos follow me watch my videos follow me watch my videos follow me watch my videos',\n",
              " 'i am sorry katy perry i was being weird i still love you',\n",
              " 'i am not a big fan of the song but this video is awesome',\n",
              " 'katy perry just stop it and dont do a song i dont like it',\n",
              " 'go to my channel and check out my written songs',\n",
              " 'like gorlingoltz syndrome support community you are not alone',\n",
              " 'subscribe and u are gonna hear me roar',\n",
              " 'in my opinion i think you look better with black hair then blond hair',\n",
              " 'i loved she is amazing omg your eyes',\n",
              " 'please help me give my son a grave or please just share it on your fb page i do not have one anymore',\n",
              " 'you gonna hear me roarrrr',\n",
              " 'follow me',\n",
              " 'i will finish this dissertation and i will laugh in its face when i finish roaaarrr',\n",
              " 'she is an old whore',\n",
              " 'please share and help to my friend thank you very much',\n",
              " 'roaaaaarrrrrr',\n",
              " 'this looks so fun and it is a good song',\n",
              " 'check out our vids our songs are awesome and that i guarantee',\n",
              " 'i love you katy',\n",
              " 'i loved it so much because you get to stand fear',\n",
              " 'click for itunes code',\n",
              " 'katy perry is and inspirational singer her voice is awesome and i loved her so much she achieved music history and i could not believe that guys if you could take to go to my channel and watch my first video i would be greatly thankful for this ty guys n katy is still awesome xoxo',\n",
              " 'hi guys i sell jack daniel is hard back cover case for iphone old time with only dollars on ebay',\n",
              " 'gf',\n",
              " 'subscribe to me',\n",
              " 'so cute',\n",
              " 'i think they were drunk when they shot the first half of the video and then the sec on half comes in and her boobs are magically bigger and she is more beautiful suddenly and the dude practically vanishes',\n",
              " 'roar is without a doubt your best good song with a message for everyone good job katy',\n",
              " 'the great mother of the jungle sweet and natural i like her videos',\n",
              " 'view vote sheldon please guys give it stars thanks in advance',\n",
              " 'katy has conqueror is haki',\n",
              " 'can you check my videos please dont hate me give me one oportunity',\n",
              " 'wow very nice congrasulation i live so much',\n",
              " 'there is bilion poeple on earth now stop being dumb',\n",
              " 'i love this shit but i disliked it because it is sucks',\n",
              " 'hey guys i really want to go to a katy perry concert so im in this contest where i need a lot of likes and im loosing so please if you could like this picture it would be very nice thank you i really want to go to her concert',\n",
              " 'this video is very inaccurate a tiger would rip her face of',\n",
              " 'great video by a great artist in katy perry admire her creativity check out our channel for no nonsense mobile tech reviews and comparisons as well as an iphone and plus review and comparison',\n",
              " 'are those real animals',\n",
              " 'hey guys can you please subscribe to my channelbecause i am gonna filming a video so hope you guys like it and thank you so much for you are support xoxoleah',\n",
              " 'maybe the best music video in the last years this is how pop music is done folks',\n",
              " 'i love katy perry',\n",
              " 'boooobs',\n",
              " 'i really do not understand how this has million views lol i am not hating or anything it is just confusing',\n",
              " 'its almost katys birthday october lets say happy birthday to katy',\n",
              " 'katy perry you are looking soo pretty damn cute',\n",
              " 'great song you go katy',\n",
              " 'looooooooooooooooooooovvvvvvvvveeeeeeeeeeee ittttttttttttt',\n",
              " 'my telephone',\n",
              " 'this comment will randomly get lot is of likes and replies for no reason i also like jello strawberry jello',\n",
              " 'hey guys i have made a amazing smiley tshirtof all the things you wear your expression is the most important and remember all the statistics in the world cant measure the warmth of a smile if you are a big fan of tshirts and want to gets more happiness it is perfect for you check this out and buy it at thanks you guys so much',\n",
              " 'really want this video to get billion views would be amazing',\n",
              " 'katy has the voice of gold this video really brings the lyrics to life i am a rapper with subscribers thumbs up if you hate when you take a shit and the water splashes your nuts',\n",
              " 'i started hating katy perry after finding out that she stole all of the ideas on her videos from an old comic book yet her music is catchy',\n",
              " 'how can this song have million views while there are only million people in the world',\n",
              " 'katy perry is garbage rihanna is the best singer in the world',\n",
              " '',\n",
              " 'katy perry is part of me katy perry is my firework katy perry i love you',\n",
              " 'this song was good until it got overplayed the hell out of on radio',\n",
              " 'see it all human folly right',\n",
              " 'greatthis is a song',\n",
              " 'awesum song jus luv it',\n",
              " 'watch my videos xx',\n",
              " 'please check out my acoustic cover channel thanks',\n",
              " 'imagine this in the news crazy woman found acting like a tiger and bit jims ear off',\n",
              " 'selfie alert',\n",
              " 'your going to hear me roar soundsofsunday',\n",
              " 'it is a shit',\n",
              " 'she loves vena html',\n",
              " 'this is a competition to meet my idols it would mean so much if you guys will like this pic on ig',\n",
              " 'katty perry please say in one of your new videoes that they follow the girls girls please',\n",
              " 'i am a big fan of you and i love you',\n",
              " '',\n",
              " 'i katy perry',\n",
              " 'since she is a feminist champion why would she want to reinforce the stereotype of girls being girly by painting the nails of an elephant that probably would not even appreciate it',\n",
              " '',\n",
              " '',\n",
              " 'if interested in making extra money by internet use the next link',\n",
              " 'this is fucking shit from the first notes that becomes clear complete and utter shit may god come and cleanse the earth of the complete and utter idiocy which is humankind',\n",
              " 'hey guys plz check out my youtube channel to c funny girls cup reaction thanks and plz subscribe thanks',\n",
              " 'please subscribe every sub gets a shout out tell me what type of videos u want and i will try make it happen',\n",
              " 'hey guys subscribe to my channel for no reason please',\n",
              " 'katycat',\n",
              " 'at least she did not get rid of her completely useless makeup',\n",
              " 'i love roar and katy perry she is my favorite singer and sometimes i just mute the volume and look at her',\n",
              " 'this is the best of the best video in world',\n",
              " 'she is got it all incredible voice extremely hot nice tits',\n",
              " 'attention katycats katy leads with noms at this year mtv ema do vote daily for her tv mtvema comvote delete spaces thumbs up and share on fb',\n",
              " 'i really like this song',\n",
              " 'my son love so much',\n",
              " 'y love you',\n",
              " 'follow me on instagram',\n",
              " 'why the elephant have a broken horn',\n",
              " 'free itunes giftcard codes',\n",
              " 'where did she find all that make up in a freakin jungle',\n",
              " 'so cute that monkey',\n",
              " 'nice song',\n",
              " 'subscribe please',\n",
              " 'you are all sheep period this is terrible music',\n",
              " 'a friend of mine has invented a big dick formula he had a small dick inches and he did some research about this topic during the research he found out the secret knowledge of penis enlargement he applied what he had learned and now he has a inch dick he was absolutely amazed by his results of course it took a few months therefore he has written a book about this issue in order to help guys he asked me to promote his book so guys if you are interested and for more info check this out he is selling it for symbolic thank you',\n",
              " 'in the beginning she was scared off everything and next thing you know she is out in a leopard bikini',\n",
              " 'please look at my channel',\n",
              " 'my three bigger secrets are i do not think i am good enough for me skinny size i am bisexual and i sweat really freaking bad when i am nervous check out secret by austin mahone is new single',\n",
              " 'like mee',\n",
              " 'katy is beautiful and this song is catchy i am a rapper with subscribers thumbs up if you hate when you take a shit and the water splashes your balls',\n",
              " 'i love her green eyes',\n",
              " 'how old is katy perry',\n",
              " 'most popular video on youtube',\n",
              " 'nokia spotted',\n",
              " 'i hear this all the time on radio and its really irritating that being said i like the video',\n",
              " 'hi everyone my dream is to have passionate sex with katy perry some people do not believe in mebut maybe you will sex is a giant part of my life and it pushes me to be a better person please give me a chance by giving me a thumbs up if you love my ambition please subscribe',\n",
              " 'fantastic',\n",
              " 'j aiiima plzzz',\n",
              " '',\n",
              " 'she is awesome xd',\n",
              " 'katy perry songs are not that bad',\n",
              " 'hi beaties i made a new channel please go check it out and subscribe and enjoy',\n",
              " 'like this page yo',\n",
              " 'our beautiful bella has been diagnosed with wobbler is syndrome there is no way we could afford to do her mri or surgery she is not just a dog she is a very special member of our family without the surgery we fear we will lose her please help',\n",
              " '',\n",
              " '',\n",
              " 'that is good',\n",
              " '',\n",
              " 'awesome video this is one of my favorite songs',\n",
              " 'if only i had the body like katy perry she looks so hot i love her',\n",
              " 'download rapid facebook for free now',\n",
              " 'the song is very good the video makes no a nonsense videoi mean she is telling her story of being stuck on an island but the song does not fit in the nvmthe song is good',\n",
              " 'who else would give katy perry a good old mighty roar',\n",
              " 'omg i love you katy parry your songs rock thats a total subscribe',\n",
              " 'esyest money ever join to our team',\n",
              " 'katy perry roar official',\n",
              " 'free itunes gift card',\n",
              " 'i was playing this song and the baby in my belly started to dance to cute but had to take the song out cause of copy right and add in a youtube made sooo cute the baby danced to this song lmfao',\n",
              " 'katy perry is awesome',\n",
              " 'this song is so addicting the hook is dope and catchy love the video too i am getting popular fast because i rap real thumbs up if you piss next to the water in the toilet so its quiet',\n",
              " 'nice song see my new track',\n",
              " 'i love this sooooooooooooong i love katy perry',\n",
              " 'what does that tattoo on her right tricep say',\n",
              " 'since when has katy perry had her own youtube channel',\n",
              " 'every time i watch this mv i just so so so glad that i live in a world that do not have to worry about running from a real human eating tiger',\n",
              " 'i rekt ur mum last nite cuz da haterz were much meh lik dis if u cri evertim and sponswer mi robox vidz home',\n",
              " 'eye of the tiger i am the champion seems like katy perry is using titles of old rock songs for lyrics',\n",
              " 'she is a perfect wonder',\n",
              " 'home',\n",
              " 'she is horrible at acting cringeworhty',\n",
              " 'i love katy fashions tiger care to visit my blog sinar jahitan i also have the tiger collections tqvm',\n",
              " 'anyone who loves music please go check out my youtube page and tell me what you think i just put a video up and will be doing more song i am just trying to get myself started any love is much appreciated',\n",
              " 'is that tiger called katty purry',\n",
              " 'blue eyes cannot be trusted uranus bless america',\n",
              " 'rap from belarus check my channel',\n",
              " 'follow me on twitter freyacumqueen',\n",
              " 'katy perry roar official',\n",
              " 'cmon katy you are so close to up with another hit like this and it will happen',\n",
              " 'vote for katy for the emas katycats',\n",
              " 'my honest opinion it is a very mediocre song nothing unique or special about her music lyrics or voice nothing memorable like billie jean or beat it before her millions of fans reply with hate comments i know this is a democracy and people are free to see what they want but then do not i have the right to express my opinion please do not reply with dumb comments lie if you do not like it do not watch it i just came here to see what is the buzz about million views and did not like what i saw ok',\n",
              " 'visit my channel',\n",
              " 'wow she is sexy xd',\n",
              " 'if you looking for new music to listen to check out cece song called on itunes music video out now right here on youtube',\n",
              " 'katy has a voice of an angel',\n",
              " 'hey guys i was working last night on this project it is a music streamer like spotify but it allows you to download the files to listen to when you are offline opening it as a free beta feel free to try it out download ehvjzkya',\n",
              " 'man she is hot in this one male companions visit my profile to check out the coolest sextoy ever made',\n",
              " 'like my page please iftfbpagefaninviteactorid',\n",
              " 'this video is so racist there are only animals',\n",
              " 'man she is beautiful',\n",
              " 'want to win borderlands the presequel check my channel',\n",
              " 'hi i would appreciate it if you all could help to like this poster on facebook',\n",
              " 'plz help me getting subscribers tonighttoday thanks to all who sub me',\n",
              " 'yesterday this video have million likes and now it has million',\n",
              " 'why tiger succumbs to a beautiful girl probably male tiger',\n",
              " 'best song ever',\n",
              " 'thank you katyperryvevo for your instagram likes axeljonssons',\n",
              " 'please subscribe in my channel',\n",
              " 'she is good does she make any more music if she does not she should',\n",
              " 'i love you katty perry',\n",
              " 'honestly i wanna see you be brave oh wait',\n",
              " '',\n",
              " 'this video is great i love like much katy perry',\n",
              " 'good thing she brought her sprayon tan hairstylist makeup artist and cameraman',\n",
              " 'views million katy perry illuminati confirmed',\n",
              " 'i make guitar covers please have a look at my channel',\n",
              " 'it should be illegal to be this goodlooking as this babe is',\n",
              " 'katy is mine the girl of my dreams',\n",
              " 'i love this song',\n",
              " 'she is fit',\n",
              " 'i love the song roar it make me think am fill the way',\n",
              " 'how do you forget you have a choice and what the fuck surviving a plane crash has a chance of happening',\n",
              " 'she is a fool this is a foolish video the lyrics are all about her and how great she is she is arrogant obviously but the thing is that there are a lot of idiots look how many hits this garnered the young stupid girls who listen to her are numbering in the millions i guess this video is a piece of trash why would anyone ever like it or listen to it because these stupid little girls have idiots for fathers and mothers and so they are going to turn into idiots also just like this stupid singer',\n",
              " 'attention we need million views more for firework to reach we have only and half day left for katy is birtgday listen how it could be possible just open different tabs from different browser dont watch full video remember we dont have time on hand its time wasting view it only for sec plz thumbs up and share',\n",
              " 'rapid facebook the free version of all colors and is characterized by fast and beauty download now',\n",
              " 'hey katycats we are releasing a movie at midnight uk time to celebrate katy is birthday be sure to subscribe to our channel and watch the movie',\n",
              " 'i just realized that this verses in this song have the exact same melody as the verses in hey ho by the lumineers',\n",
              " 'd this is my favorite song',\n",
              " 'this song never get is old',\n",
              " 'happy birthday katy thats not me',\n",
              " 'hey i know most people do not like these kind of comments see at spam but i see as free advertising so please check out my cover of sparks fly by taylor swift it is not the best ever i know but maybe with some encouraging words of wisdom from many of you i can become better please go to my channel and check it out',\n",
              " 'younique by joanna gordon',\n",
              " 'i like you katy perry',\n",
              " 'glad to know im not the only one who knows its katheryn is birthday today happy birthday my sister they seriously have the same birthday',\n",
              " 'katy perry cannot sing for shit all i hear it autotune',\n",
              " 'i fucking hate her why because she do not write her songs she got producers for that second why tha fack is she in every song almost nude mayby because she is an attention hooker',\n",
              " 'also luckymusiqlive she probably could help u make it big because i think u have talent just look her name up on the internet hit me up when u get this message',\n",
              " 'check out my drum cover of et here thanks',\n",
              " 'put famous people in the jungle for an hour and look what happens',\n",
              " 'she kinda let herself go huh',\n",
              " 'we all love you katy perry',\n",
              " 'sign up for free on tsu and start making money on social media addfollow me and ill add follow you',\n",
              " 'love it when i can relate to my daughter is music katy perry roar official',\n",
              " 'subscribe me and i subscribe you back',\n",
              " 'katy perry roar official soundsofsunday music',\n",
              " 'when i hear katy singing this i cry the song has got depth',\n",
              " 'love it',\n",
              " 'people who believe in illuminati are stupid the same people believe that was made by the american government',\n",
              " 'plz subscribe to my channel i need subs and if you do i will sub back i need help',\n",
              " 'please look up dhg songs this is my playlist with a bunch of amazing songs',\n",
              " 'hey i am nerdy peach and i am a new youtuber and it would mean the absolute world to me if you could check em out hope you like them d',\n",
              " 'im pretty sure that tiger just wanted a hug',\n",
              " '',\n",
              " 'this song gives me strength love her lyrics this video really brings the lyrics to life i am getting known fast because i rap with meaning thumbs up if you piss next to the water in the toilet so its quiet',\n",
              " '',\n",
              " '',\n",
              " 'i love you katy perry because you will sing nice than shakira',\n",
              " '',\n",
              " 'facebook account hack',\n",
              " 'i love katty perry',\n",
              " 'the perry you are doing a good job good job i love all of their videos and by the way can you please describe to my channel please please please please i am trying to get as many comments to skyburst lights is a cancer and get famous please',\n",
              " 'i did a cover if u want to check it out thank umichael age',\n",
              " 'everybody please vote katy at ema best song best female best pop best live best look best video please vote katy please please please vote vote vote katy katy katy',\n",
              " 'h my god roar is the most liked video at vevo while months ago was justin is baby congrats katy applause',\n",
              " '',\n",
              " '',\n",
              " 'hi everyone do you like music then why not check out my music channel the lexis band will be uploading their own songs and covers soon so do not miss out please subscribe too as it does help us out a lot just takes one click',\n",
              " '',\n",
              " 'i would rather hear some propa explicit gangsta rap insted of this garbage this song is trash',\n",
              " 'damnnnnnnnn she is sexy oo',\n",
              " 'such a good song ans katy sounds great over the melody im growing as an artist everyday from my hit song crazy which has got my name out there cant thank my fans more for their support if you could take a moment to check it and my music maybe you will join me to make my dream come true thank you for your time',\n",
              " 'i love you because u make me smile when im sad you cheer me up with your beautiful songs',\n",
              " 'this song is the most boring asinine song i have ever heard coming from a guy who liked teenage dream the song ever since katy perry is divorce it is wave after wave of shitty but successful songs for those of you saying this is the next wave of pop music stick it up your ass katy perry is like silly putty',\n",
              " 'katy perry roar official i love this song and video katy perry rocks wahoo',\n",
              " 'and somehow she has access to makeup in the middle of the woods',\n",
              " 'it looks so real and my daughter is a big fan and she likes a lot of your songs',\n",
              " 'i cannot comprehend why this video has nearly views some people found gangnam style funny so that explains its high view count but this is just an awful pop song i really have no clue on this one',\n",
              " 'lets be honest you would not last day on your own in the jungle stop living n a fairy world',\n",
              " 'me segue ha',\n",
              " 'nature is beautiful no need to place tits in video to impress people',\n",
              " 'this is so stupid if you roared at a lion in real life you would dede',\n",
              " 'this song is so awesomeshe made everything stand out and all the viewers could imagine themselves at the setting of the video awesome job katy perry',\n",
              " 'katy perry roar official',\n",
              " 'katy perry is lion',\n",
              " 'people here is a new network like register also free the difference is only that you get paid for sharing commenting and liking posts and so not waste your time on fb for sharing and not being paid register here to make also money with your everyday posts wellcome to everyone',\n",
              " 'i have figured out why i dislike this song it is supposed to be a power ballad right something that is uplifting and motivating by the end however the final chorus has no extra umph at the end and actually sounds just like the first one instead of crescendoing into a powerful finish roar just says on the same wavelength it falls flat',\n",
              " 'i like this song the video goes perfect with it',\n",
              " 'because i am a you are gonna hear me roar today i am my own champion today i am a champion for the creator today i am doing positive in my world today i am blessing and healing all around me today i am successful and creating success',\n",
              " 'nowplaying weekendmix track katy perry roar dj denis shmelev dj alex serov remix listen live at',\n",
              " 'katy perry is songs are the best of the songs of women artists',\n",
              " 'i like this song because of all the animals and i like this song',\n",
              " '',\n",
              " 'i love this song so muchd i have heard it so much i pretty much memorized the lyrics',\n",
              " 'hey guys i know you tend to skip these comments but take a look first i am free fire a big room progressive house deep house dubstep chillstep producer from a small town in missouri down here i have no support from the community and all i really ask is some critiquing support and views my music has gotten much better then what it was months ago and i promise my new content should be more then satisfying soon i should be able to advertise and i wont pester you guys anymore so gimme a chance and check out my music thanks and god bless',\n",
              " 'for latest movies please visit this site',\n",
              " 'i love that you subscribed',\n",
              " 'go register free money',\n",
              " 'great song but we all know that katy buys her views',\n",
              " 'check out mah girl it duh shit yo',\n",
              " 'check out this video on youtubefacebook lhudygirlamaya',\n",
              " 'hey yall its the real kevin hart shout out to my fans follow me realkevinheart',\n",
              " 'check out my acoustic channel',\n",
              " 'i know someone will see this i have a dream i dont have the greatest videos or the best quality right now i feel like im not getting anywhere and i need your help if you could possibly watch my videos it means the world to me please thumbs this up so others can see i appreciate it so much please listen before you hate honestly i appreciate it so much you dont have to love me just give this year old a chance',\n",
              " 'please open this link and vote for anand niketan international school the project name is project fredom and share it with yours friend',\n",
              " 'i hate videos like these with those poor animals',\n",
              " 'hii youtube',\n",
              " 'nice very nice',\n",
              " 'i love this song',\n",
              " 'katy you are a shit go dieroar is a floooooooooooooooooooop',\n",
              " 'i love your music',\n",
              " 'my grade teacher looked exactly like katy perry come to think of it',\n",
              " 'curti click here',\n",
              " 'please click on the link',\n",
              " 'come check out our parody of this',\n",
              " 'please subscribe to us and thank you',\n",
              " 'please vote for me for the wet seal model contest my instagram username is destinyforever',\n",
              " 'simply put our customers love us and so will you',\n",
              " '',\n",
              " 'almost bil what wow gs sucks in my opinion',\n",
              " 'katty is the best',\n",
              " 'that was very good i mean very very much good',\n",
              " 'this song means so much to me thank you soooooooooooooooooooooooooooooooooooooooo much xxx',\n",
              " '',\n",
              " 'katy perry i am the dcio cabelo decio hair i am years of age i dont have family im single alone homeless i was an alcoholic at the age of i am an invisible composer my dream is to record my songs could you help me please please i trust that the you will give me a chance i have videos in the youtube deciocabelo canal katy perry i was born in october too thank you very much decio hair',\n",
              " 'honestly speaking except taylor swift and adele i do not lile any of the modern day singers but i must say whenever i hear this song i feel goosebumps its quite inspiring thanks miss perry',\n",
              " 'who is going to reach the billion first katy or taylor',\n",
              " 'best part',\n",
              " 'wierd but funny',\n",
              " 'hey guys im a humanbut i dont want to be a human i want to be a sexy fucking giraffei already have the money for the surgery to elongate my spinal core the surgery to change my skin pigment and everything else like this post so others can root me on in my dreamim fucking with you i make music check out my first song giraffebruuh',\n",
              " 'party wants to shuffle',\n",
              " 'party rock',\n",
              " 'shuffle',\n",
              " 'omg',\n",
              " 'this song is just really fun',\n",
              " 'awsome',\n",
              " 'wow increible song',\n",
              " 'i love this song so much',\n",
              " 'likeee',\n",
              " 'i miss when people dressed like this',\n",
              " 'the last year of decent music',\n",
              " 'best song ever',\n",
              " 'super nice love musique',\n",
              " 'wowwwwwwwwwwwwwwwwwwwwwwwwwwwwww',\n",
              " 'party rock',\n",
              " 'thumbs up if you it in',\n",
              " 'this is increidebl',\n",
              " 'lmfao',\n",
              " 'just superr',\n",
              " 'llikee',\n",
              " 'yeah lets start the party',\n",
              " 'this awesome song needed years to reach to mil views while tango switch bitch needed year its not fairrrrrrr',\n",
              " 'nice girl d',\n",
              " 'i remember back when this was so popular everyone on our school was shuffling it was crazy',\n",
              " 'lmfao',\n",
              " 'super awesome video',\n",
              " 'just dance',\n",
              " 'this will always be my favorite songbut my favorite part is in the video',\n",
              " 'party rock',\n",
              " 'lmfao party rock anthem ft lauren bennett goo box man got some moves d he makes meh smile',\n",
              " 'this the best song i ever hire',\n",
              " 'its funny that mahogany is there lmao i actually didnt know that her brother and uncle are part of lmfao',\n",
              " 'party rock anthem is loveparty rock anthem is life',\n",
              " 'stopis a very top',\n",
              " 'ahhh back when my life didnt suck',\n",
              " 'party rock xd',\n",
              " 'cute',\n",
              " 'lmfao best songs ever',\n",
              " 'i fuckin love this songafter im sexy and i know it',\n",
              " 'they shuffle hard that they made an earthquake in nepal',\n",
              " 'nice',\n",
              " 'still this reminds me of years back when i was do shuffle everyday',\n",
              " 'love this song makes me wanna dance',\n",
              " 'that time in where this shirt was cool',\n",
              " 'love this video and the song of course',\n",
              " 'check out this video on youtube',\n",
              " 'very nice yeah fucking',\n",
              " 'well this dudes faded the fuck out',\n",
              " 'ah good old times',\n",
              " 'old and good song',\n",
              " 'cool',\n",
              " 'not million view anymore',\n",
              " 'good',\n",
              " 'check out this video on youtube',\n",
              " 'check out this video on youtube',\n",
              " 'remeber the good ol days when songs werent about butts',\n",
              " 'you are the music hero',\n",
              " 'i was born in the wrong generation',\n",
              " 'love this song makes me wanna dance',\n",
              " 'love this song makes me wanna dance',\n",
              " 'very good like d',\n",
              " 'the views theyre over',\n",
              " 'love lmfao party rockin keep it going',\n",
              " 'best music ever',\n",
              " 'likeeee',\n",
              " 'cool',\n",
              " 'remeber when this song was good',\n",
              " '',\n",
              " 'i want to be that robot guy',\n",
              " 'i love your songs',\n",
              " 'omg its going to have views',\n",
              " 'dance',\n",
              " 'check out this video on youtube',\n",
              " 'years',\n",
              " 'cool cool cool cool cool cool cool',\n",
              " 'wow i love it',\n",
              " 'who knows the name of that girl and that one and that one',\n",
              " 'why did they stop their career in music this music rocks',\n",
              " 'very nice',\n",
              " 'why sooooo many downs',\n",
              " 'tension',\n",
              " 'nice',\n",
              " 'like video',\n",
              " 'music yeah',\n",
              " 'like this in d',\n",
              " 'this was such an epic track and the video is awesome',\n",
              " 'likkee',\n",
              " 'give it a like',\n",
              " 'lets party',\n",
              " 'support the fight for your amendment right to privacy in your home and business stop the nsa spying on americans with the un patriot act renewal rand paul has spent hours on the senate floor in a protest and filibuster fighting for our constitution that this nation is founded on join the fight at rand paul dot com spread the word we have someone that cares about our nation email your senators congress men and women tell them to support rand tell the news to support rand too senator rand paul was up until am this morning fighting for our constitution',\n",
              " 'mindblowing dancesuperbbb song',\n",
              " 'anyone else think this video theme is a bit of an insult to days later',\n",
              " 'check out this video on youtube',\n",
              " 'never get old',\n",
              " 'i remember when this used to be so popular all around at the timei still love it',\n",
              " 'strong messages in every song ive heard',\n",
              " 'fucking years are fucking past so fucking fast fuck',\n",
              " 'i know it old song but like if you in',\n",
              " 'im this on summer',\n",
              " 'i am going to blow my mind',\n",
              " 'and im shufflin still today d',\n",
              " 'this is my favorite song ever love this party rock it everybody',\n",
              " 'views',\n",
              " 'lets get it to billion',\n",
              " 'love this soooooooooooooooooooooooooooooooooooooooooooooooooo much',\n",
              " 'i love this song so much',\n",
              " 'im a subscriber',\n",
              " 'this song is awesome',\n",
              " 'best song ever made i swear d i still hear even doe it old who else',\n",
              " 'i came here because of vanoss',\n",
              " 'best song for ever',\n",
              " 'epic',\n",
              " 'i like so much this music good',\n",
              " 'beautiful song',\n",
              " 'why do i feel like as if gangnam style copied their song from this',\n",
              " 'damn this was everywhere',\n",
              " 'party time',\n",
              " 'never gets old',\n",
              " 'this song is fu cking awesom',\n",
              " 'how do you put a picture for your image thingie',\n",
              " 'okay this should cover me for some time thumbs up if youre while youtube still exists',\n",
              " 'this song is just insanedo you dance listening to this song i do lol',\n",
              " '',\n",
              " 'thumbs up if shrek is gay',\n",
              " 'thumbs up for robo guy baby',\n",
              " 'seriously how did they come up with that beat it is insanely good holy fuck',\n",
              " 'best party song literally party rock is in the housee tonight',\n",
              " 'memories',\n",
              " 'i lovee it',\n",
              " 'more views than nikki minaj anaconda',\n",
              " 'lmfao is the best',\n",
              " 'who else saw jesses dancing sorry if i spelled it wrong peace',\n",
              " 'i like how the robot shuffles he shuffles good',\n",
              " 'you cant stop the shuffle',\n",
              " 'dang dat little kid gat moves',\n",
              " 'i miss this song',\n",
              " 'loves it',\n",
              " 'check out this video on youtubegotta dance and just have a blast every time i hear this song just love it',\n",
              " 'man this song really does get in your bones one minute im nearly dosing off to sleep the next im shuffling like crazy with hot feet xd',\n",
              " 'that shake and that golden and black robot were really partying',\n",
              " 'take a look at this video on youtube',\n",
              " 'cooooooooooooolllllllllll',\n",
              " 'wow',\n",
              " 'oh shit this was uploaded on my birthday finally my birthday isnt a curse because on this day maylaysia airlines went missing so i thought my birthday was a curse xd',\n",
              " 'everyday im shufflin',\n",
              " 'everyday im shufflin',\n",
              " 'thumbs up if fefefefefegelein brought u here',\n",
              " 'every day im shuffling',\n",
              " 'cool song ever good thing its here',\n",
              " 'why does the world not shuffle',\n",
              " 'love these guys love the song',\n",
              " 'its funny because i listen to rock and death metal but i like this',\n",
              " 'shuffling all the way with lmfao i like this one wish i could shuffle like these crazy dudes',\n",
              " 'most viewed video i guess',\n",
              " 'my favorite song',\n",
              " 'i like this song',\n",
              " 'wow dance show',\n",
              " 'awesome',\n",
              " 'like if ur in',\n",
              " 'good times',\n",
              " 'laughing my fucking ass off',\n",
              " 'when i see this back in i ask myself how people got to like this song seems like gangnam style copied this style though might just be me but yea',\n",
              " 'wait i saw a kid not kidding',\n",
              " 'party rock due and duel',\n",
              " 'fucking love it omg v',\n",
              " 'this very good so i dance with some companions front of the whole school',\n",
              " 'check out this video on youtube',\n",
              " 'i could finally do the spongebob but i started yesterday xd',\n",
              " 'thumbs up if youre in',\n",
              " 'i love it',\n",
              " 'lmfao party rock anthem ft lauren bennett goonrock',\n",
              " 'i hate it when laura bennett comes in',\n",
              " 'subscribe to my channel',\n",
              " 'party in da tonight',\n",
              " 'best for partying',\n",
              " 'omg',\n",
              " 'whats with the guys jacket sleeve and a sleeveless arm',\n",
              " 'best song ever',\n",
              " 'take a look at this video on youtubyou',\n",
              " 'i like this steps',\n",
              " 'let get this video to one billion views',\n",
              " 'in my head this is like years ago time flies',\n",
              " 'views my lanta',\n",
              " 'its and still shuffling to this song',\n",
              " 'check out this video on youtube',\n",
              " 'who df is lauren bennett',\n",
              " 'socool',\n",
              " 'awesome',\n",
              " 'this is so coolwhy havent i heard this before',\n",
              " 'xd i was going crazy fuckin crazy watchin this brah',\n",
              " 'i shuffled while listening to this song the illness is spreading',\n",
              " 'way was their a guy warring a robot head',\n",
              " 'like the songs',\n",
              " 'almost billion views nice',\n",
              " 'sorry to all my hatersfor party rock en',\n",
              " 'i like it',\n",
              " 'gooooood',\n",
              " '',\n",
              " 'likeeeeeeeee',\n",
              " 'shuffle',\n",
              " 'lol so funny love it',\n",
              " 'good party',\n",
              " 'do not like this comment if you are not in',\n",
              " 'check out this video on youtube',\n",
              " 'check out this playlist on youtube',\n",
              " 'check out this video on youtube',\n",
              " 'share your thoughts',\n",
              " 'subscribe me plzzzzzzz plzzzzzzzzzzzzzzzzzzzzzzzzzzzzzzz',\n",
              " 'youtube collaborators anyone subscribe to me ill subscribe back i also will start uploading more youtube videos lmfao',\n",
              " 'guys lmfaois going to have a reunion on june at expo idaho gardens there going performe live and theres going be a press conference after to answer questions about were there been its all live on my channel i got publishing rights subscribe to my channel to watch the whole thing if u dont believe me look it up hope to see all u true fans there and yes its free',\n",
              " 'iiiiiiiiiii love this shake it song oh sorry every shake it song i like watch subscribe and never unlike brooooo shake it up',\n",
              " 'check out this playlist on youtubem',\n",
              " 'check out this video on youtube',\n",
              " 'check out this video on youtube',\n",
              " 'whos in subscribe for me',\n",
              " 'come subscribe',\n",
              " 'subscribe my channel please lol pro plays',\n",
              " 'check out this video on youtube',\n",
              " 'check out this video on youtube',\n",
              " 'i just wanna see how many people like this comment ill give it a month or so',\n",
              " 'please dont like this comment if you are watching in',\n",
              " 'check out this video on youtube',\n",
              " 'i like this comment and do not kill p',\n",
              " 'check out this video on youtube',\n",
              " 'check out this playlist on youtube',\n",
              " 'check out this video on youtube',\n",
              " 'check out this video on youtube',\n",
              " 'check out this video on youtube',\n",
              " 'check out this video on youtubefb i',\n",
              " 'all school drop outs i knew as friends before they decided to drop school think there is no need for an id card or a certification to prove you are an educated clean in criminal record talented person to work in any entertainment field worldwide they think they could be rich entertainers by consolidating with actors actresses as well as singers for a share of profits',\n",
              " 'check out this video on youtube',\n",
              " 'check out this video on youtube',\n",
              " 'check out this video on youtube',\n",
              " 'check out this playlist on youtube',\n",
              " 'check out this video on youtube',\n",
              " 'check out this playlist on youtube',\n",
              " 'check out this video on youtube',\n",
              " 'check out this video on youtube',\n",
              " 'check out this video on youtube',\n",
              " 'view best youtube videoif subscribe to my channel pleasethank you vdeo do youtubese inscreva no meu canal por favorobrigado video youtubesi suscriba a mi canal por favorgracias vido youtubesi vous abonner ma chane se il vous platmerci',\n",
              " 'we can have a party next share',\n",
              " 'lol check out my chanell and subscribe please i want subs thats it im nearly their now',\n",
              " 'check out this video on youtube',\n",
              " 'check out this video on youtube',\n",
              " 'subscribe me if you do that leave your name so i can subs back',\n",
              " 'check out this video on youtube',\n",
              " 'please subscribe to my channelthanks',\n",
              " 'hey guys im years old remixer and producer and i want you guys to help me checking my videos i am sure you will love those music if you love them then subscribe so you will know more about me',\n",
              " 'check out melbourne shuffle everybody',\n",
              " 'subscribe my channel',\n",
              " 'please suscribe i am bored of subscribers try to get it to',\n",
              " 'subscribe if you are in',\n",
              " 'check out this video on youtube',\n",
              " 'hey subscribe to mefor the peace in the world',\n",
              " 'check out this playlist on youtubea',\n",
              " 'check out this video on youtube',\n",
              " 'check out this playlist on youtube',\n",
              " 'like this comment for no reason',\n",
              " 'omg can this be the first video on youtube to hit billion views like this comment of you agree',\n",
              " 'please help me get subscribers by the end of the night thx',\n",
              " 'like this comment if youre this video when big bang happenedi do',\n",
              " 'check out this playlist on youtube',\n",
              " 'check out this playlist on youtube',\n",
              " 'o you have been spooked by the spookinati share this to people to be unspooked',\n",
              " 'like this comment if your in or',\n",
              " 'help me get subscribers by tomorrowjoking dont get butt hurt',\n",
              " 'check out this video on youtube',\n",
              " 'like this comment if ur this on',\n",
              " 'check out this video on youtube',\n",
              " 'like this comment please',\n",
              " 'check out this playlist on youtube',\n",
              " 'like and subscribe',\n",
              " 'like this comment if you are on a phone',\n",
              " 'cool video lmfaovevo you should check out my shuffling videos on my channel when you get the chance its much appreciated cheers everydayimvaping',\n",
              " 'check out this playlist on youtube',\n",
              " 'check out this playlist on youtube i tried',\n",
              " 'subscribe to supermariologan if you thot the robot dudes r epic and awsome',\n",
              " 'if in subscribe to supermariologan',\n",
              " 'check out this playlist on youtube',\n",
              " 'like this comment if you still jam out to this song after years',\n",
              " 'subscribe',\n",
              " 'check out this video on youtube',\n",
              " 'this video has m viewsand the channel got subscribers',\n",
              " 'check out this video on youtube',\n",
              " 'subscribe to my chanell',\n",
              " 'los invito a subscribirse a mi canal',\n",
              " 'check out this video on youtube',\n",
              " 'check out this playlist on youtube',\n",
              " 'check out this video on youtubeopponents mm',\n",
              " 'check out this video on youtube',\n",
              " 'at subscribers im sky diving help me reach my goal me im a doctor',\n",
              " 'check out this video on youtube',\n",
              " 'check out this video on youtube',\n",
              " 'check out this video on youtube',\n",
              " 'check out this playlist on youtube',\n",
              " 'check out this playlist on youtube',\n",
              " 'check out this video on youtube',\n",
              " ...]"
            ]
          },
          "metadata": {},
          "execution_count": 32
        }
      ]
    },
    {
      "cell_type": "code",
      "metadata": {
        "id": "GshU9oufYIC0",
        "colab": {
          "base_uri": "https://localhost:8080/",
          "height": 313
        },
        "outputId": "4bf99094-cf8d-49b2-87ff-a5aa46574d51"
      },
      "source": [
        "data_len = [len(x) for x in train_data.CONTENT]\n",
        "plt.hist(data_len)\n",
        "plt.ylabel(\"number of Comments\")\n",
        "plt.xlabel(\"length of Comments after data cleaning\")\n",
        "plt.title(\"Distribution of comments after cleaning\")\n",
        "plt.show()\n",
        "print(\"Average lenght of comments after cleaning:-\",np.mean(data_len))"
      ],
      "execution_count": null,
      "outputs": [
        {
          "output_type": "display_data",
          "data": {
            "image/png": "[encoded data removed]",
            "text/plain": [
              "<Figure size 432x288 with 1 Axes>"
            ]
          },
          "metadata": {
            "needs_background": "light"
          }
        },
        {
          "output_type": "stream",
          "name": "stdout",
          "text": [
            "Average lenght of comments after cleaning:- 74.8762781186094\n"
          ]
        }
      ]
    },
    {
      "cell_type": "code",
      "metadata": {
        "colab": {
          "base_uri": "https://localhost:8080/"
        },
        "id": "SMgsEIuYYiFw",
        "outputId": "5ab3cac4-b79f-45d6-f6e7-325dc5edf9d2"
      },
      "source": [
        "train_data[train_data['CONTENT'].apply(lambda x : len(x)) > 77].CLASS.value_counts()"
      ],
      "execution_count": null,
      "outputs": [
        {
          "output_type": "execute_result",
          "data": {
            "text/plain": [
              "1    331\n",
              "0    121\n",
              "Name: CLASS, dtype: int64"
            ]
          },
          "metadata": {},
          "execution_count": 34
        }
      ]
    },
    {
      "cell_type": "markdown",
      "metadata": {
        "id": "HECj174QYqsE"
      },
      "source": [
        "\n",
        "\n",
        "> Average lenght of comments after cleaning the data is about 77. Almost 73% of data which has length more than 77 are spam.\n",
        "\n"
      ]
    },
    {
      "cell_type": "markdown",
      "metadata": {
        "id": "cscH4xEMTsnK"
      },
      "source": [
        "# 2) Feature Extraction\n",
        "\n",
        "*   Tokenization\n",
        "*   Remove Stop Words\n",
        "*   Lemmatization\n",
        "\n"
      ]
    },
    {
      "cell_type": "markdown",
      "metadata": {
        "id": "lG5doTTKjs5r"
      },
      "source": [
        "**2.1)  Tokenization**"
      ]
    },
    {
      "cell_type": "code",
      "metadata": {
        "id": "2MFYsBgvjjw2"
      },
      "source": [
        "#Tokenize the data\n",
        "train_data['CLEAN_CONTENT'] = train_data['CONTENT'].apply(lambda x: x.split())\n",
        "#word_count = [len(str(x).split()) for x  in train_data['CONTENT'] ]"
      ],
      "execution_count": null,
      "outputs": []
    },
    {
      "cell_type": "code",
      "metadata": {
        "colab": {
          "base_uri": "https://localhost:8080/"
        },
        "id": "anrafmsQufDL",
        "outputId": "46ea0670-1bb1-4b87-aeb3-5a0a7952882c"
      },
      "source": [
        "train_data['CLEAN_CONTENT']"
      ],
      "execution_count": null,
      "outputs": [
        {
          "output_type": "execute_result",
          "data": {
            "text/plain": [
              "0      [huh, anyway, check, out, this, youtube, channel]\n",
              "1      [hey, guys, check, out, my, new, channel, and,...\n",
              "2                    [just, for, test, i, have, to, say]\n",
              "3      [me, shaking, my, sexy, ass, on, my, channel, ...\n",
              "4                                     [check, this, out]\n",
              "                             ...                        \n",
              "365    [i, love, this, song, because, we, sing, it, a...\n",
              "366    [i, love, this, song, for, two, reasons, it, i...\n",
              "367                                                [wow]\n",
              "368                        [shakira, u, are, so, wiredo]\n",
              "369                     [shakira, is, the, best, dancer]\n",
              "Name: CLEAN_CONTENT, Length: 1956, dtype: object"
            ]
          },
          "metadata": {},
          "execution_count": 36
        }
      ]
    },
    {
      "cell_type": "code",
      "metadata": {
        "colab": {
          "base_uri": "https://localhost:8080/",
          "height": 279
        },
        "id": "nosgUM6ueqWL",
        "outputId": "72c42743-8a14-4f4e-cf62-4ad746ef46ab"
      },
      "source": [
        "plt.hist(train_data['word_count'])\n",
        "plt.xlabel(\"number of words per comment\")\n",
        "plt.ylabel(\"Count\")\n",
        "plt.show()"
      ],
      "execution_count": null,
      "outputs": [
        {
          "output_type": "display_data",
          "data": {
            "image/png": "[encoded data removed]",
            "text/plain": [
              "<Figure size 432x288 with 1 Axes>"
            ]
          },
          "metadata": {
            "needs_background": "light"
          }
        }
      ]
    },
    {
      "cell_type": "code",
      "metadata": {
        "colab": {
          "base_uri": "https://localhost:8080/"
        },
        "id": "h7wXBobpjHRz",
        "outputId": "332ac451-c49c-47c9-9cf2-df79d9766574"
      },
      "source": [
        "np.mean(train_data['word_count'])"
      ],
      "execution_count": null,
      "outputs": [
        {
          "output_type": "execute_result",
          "data": {
            "text/plain": [
              "15.581799591002046"
            ]
          },
          "metadata": {},
          "execution_count": 38
        }
      ]
    },
    {
      "cell_type": "markdown",
      "metadata": {
        "id": "jfi5gEUGjPH_"
      },
      "source": [
        "> After cleaning the data, Most of the comments have less than 50 words. Average number of words in the comments is about 15.\n",
        "\n"
      ]
    },
    {
      "cell_type": "markdown",
      "metadata": {
        "id": "kJJEGxfhspcG"
      },
      "source": [
        "**2.2) Remove Stop Words**"
      ]
    },
    {
      "cell_type": "code",
      "metadata": {
        "id": "pRj7ZGORj152"
      },
      "source": [
        "def get_top_n_words(corpus, n=None):\n",
        "    vec = CountVectorizer().fit(corpus)\n",
        "    bag_of_words = vec.transform(corpus)\n",
        "    sum_words = bag_of_words.sum(axis=0) \n",
        "    words_freq = [(word, sum_words[0, idx]) for word, idx in vec.vocabulary_.items()]\n",
        "    words_freq = dict(sorted(words_freq, key = lambda x: x[1], reverse=True))\n",
        "    return dict(list(words_freq.items())[:n])"
      ],
      "execution_count": null,
      "outputs": []
    },
    {
      "cell_type": "code",
      "metadata": {
        "id": "00bpwn9-kaFs"
      },
      "source": [
        "# Top 20 common words/ Stop words\n",
        "common_words = get_top_n_words(train_data['CONTENT'], 20)"
      ],
      "execution_count": null,
      "outputs": []
    },
    {
      "cell_type": "code",
      "metadata": {
        "colab": {
          "base_uri": "https://localhost:8080/",
          "height": 350
        },
        "id": "Cnx8Wyhurz4_",
        "outputId": "1459d145-09fe-4027-ad49-e1e0ed37e923"
      },
      "source": [
        "plt.figure(figsize = (17,5))\n",
        "plt.bar(common_words.keys(), common_words.values(), width= 0.7)\n",
        "plt.xlabel(\"Stop words before removing\")\n",
        "plt.ylabel(\"Count\")\n",
        "plt.title(\"Top most 20 Common Words\");"
      ],
      "execution_count": null,
      "outputs": [
        {
          "output_type": "display_data",
          "data": {
            "image/png": "[encoded data removed]",
            "text/plain": [
              "<Figure size 1224x360 with 1 Axes>"
            ]
          },
          "metadata": {
            "needs_background": "light"
          }
        }
      ]
    },
    {
      "cell_type": "code",
      "metadata": {
        "colab": {
          "base_uri": "https://localhost:8080/"
        },
        "id": "jpitxIqt1UPb",
        "outputId": "14d62ae6-58fd-43cf-b60f-9a50dbbfec2b"
      },
      "source": [
        "# Remove STOPWORDS\n",
        "\n",
        "nltk.download('stopwords')\n",
        "stop = stopwords.words('english')\n",
        "\n",
        "train_data['CLEAN_CONTENT'] = train_data['CLEAN_CONTENT'].apply(lambda x: [word for word in x if word not in (stop)])"
      ],
      "execution_count": null,
      "outputs": [
        {
          "output_type": "stream",
          "name": "stdout",
          "text": [
            "[nltk_data] Downloading package stopwords to /root/nltk_data...\n",
            "[nltk_data]   Unzipping corpora/stopwords.zip.\n"
          ]
        }
      ]
    },
    {
      "cell_type": "code",
      "metadata": {
        "colab": {
          "base_uri": "https://localhost:8080/",
          "height": 347
        },
        "id": "mRpUoo2JFfs5",
        "outputId": "95757edb-3504-42b7-cc18-7779cb7602ee"
      },
      "source": [
        "# After removing STOPWORDS\n",
        "\n",
        "def get_top_n_words(corpus, n=None):\n",
        "    vec = CountVectorizer().fit(corpus)\n",
        "    bag_of_words = vec.transform(corpus)\n",
        "    sum_words = bag_of_words.sum(axis=0) \n",
        "    words_freq = [(word, sum_words[0, idx]) for word, idx in vec.vocabulary_.items() if word not in stop]\n",
        "    words_freq = dict(sorted(words_freq, key = lambda x: x[1], reverse=True))\n",
        "    return dict(list(words_freq.items())[:n])\n",
        "\n",
        "# Top 20 common words/ Stop words\n",
        "common_words = get_top_n_words(train_data['CONTENT'], 20)\n",
        "\n",
        "plt.figure(figsize = (20,5))\n",
        "plt.bar(common_words.keys(), common_words.values(), width= 0.7)\n",
        "plt.xlabel(\"Stop words after removing\")\n",
        "plt.ylabel(\"Count\")\n",
        "plt.title(\"Top most 20 Common Words\");"
      ],
      "execution_count": null,
      "outputs": [
        {
          "output_type": "display_data",
          "data": {
            "image/png": "[encoded data removed]",
            "text/plain": [
              "<Figure size 1440x360 with 1 Axes>"
            ]
          },
          "metadata": {
            "needs_background": "light"
          }
        }
      ]
    },
    {
      "cell_type": "markdown",
      "metadata": {
        "id": "H44i4ajfJtSU"
      },
      "source": [
        "**2.3 Lemmatization**"
      ]
    },
    {
      "cell_type": "code",
      "metadata": {
        "colab": {
          "base_uri": "https://localhost:8080/"
        },
        "id": "RT9FIfgSBMiS",
        "outputId": "75537843-bb47-4059-9e4f-d0dfbe4c2982"
      },
      "source": [
        "#normalization - lemmatizing\n",
        "\n",
        "nltk.download('wordnet')\n",
        "lemmatizer = WordNetLemmatizer()\n",
        "lemmatize_function = lambda x: ' '.join([lemmatizer.lemmatize(str(word)) for word in x])\n",
        "train_data['CLEAN_CONTENT'] = train_data['CLEAN_CONTENT'].apply(lemmatize_function)\n",
        "#train_data['Cleaned text'] = train_data['tweet_without_stopwords'].apply(lambda tweet : ' '.join(tweet))\n",
        "train_data['CLEAN_CONTENT'].head().to_list()"
      ],
      "execution_count": null,
      "outputs": [
        {
          "output_type": "stream",
          "name": "stdout",
          "text": [
            "[nltk_data] Downloading package wordnet to /root/nltk_data...\n",
            "[nltk_data]   Unzipping corpora/wordnet.zip.\n"
          ]
        },
        {
          "output_type": "execute_result",
          "data": {
            "text/plain": [
              "['huh anyway check youtube channel',\n",
              " 'hey guy check new channel first vid u monkey monkey white shirtplease leave like comment please subscribe',\n",
              " 'test say',\n",
              " 'shaking sexy as channel enjoy',\n",
              " 'check']"
            ]
          },
          "metadata": {},
          "execution_count": 44
        }
      ]
    },
    {
      "cell_type": "code",
      "metadata": {
        "id": "vYZRDvwCP9QF"
      },
      "source": [
        "X_train,X_test,Y_train,Y_test = train_test_split(train_data['CLEAN_CONTENT'], train_data['CLASS'], test_size=0.2)"
      ],
      "execution_count": null,
      "outputs": []
    },
    {
      "cell_type": "code",
      "metadata": {
        "id": "15xgECoi0iRA"
      },
      "source": [
        "Accuracy = []"
      ],
      "execution_count": null,
      "outputs": []
    },
    {
      "cell_type": "code",
      "metadata": {
        "colab": {
          "base_uri": "https://localhost:8080/"
        },
        "id": "PJLQXtJAjgq4",
        "outputId": "b5c02d56-12f3-48a6-b591-1e1559f13b8f"
      },
      "source": [
        "# Logistic Regression\n",
        "\n",
        "logreg = Pipeline([('vect', CountVectorizer()),\n",
        "                ('tfidf', TfidfTransformer()),\n",
        "                ('clf', LogisticRegression(n_jobs=1, C=1e5, max_iter = 200)),\n",
        "               ]);\n",
        "logreg.fit(X_train, Y_train)\n",
        "\n",
        "y_pred = logreg.predict(X_test)\n",
        "\n",
        "print('accuracy %s' % accuracy_score(y_pred, Y_test))\n",
        "Accuracy.append(accuracy_score(y_pred, Y_test))\n",
        "print(classification_report(Y_test, y_pred))\n",
        "print(precision_score(y_pred, Y_test))g\n",
        "print(recall_score(y_pred, Y_test))"
      ],
      "execution_count": null,
      "outputs": [
        {
          "output_type": "stream",
          "name": "stdout",
          "text": [
            "accuracy 0.8239795918367347\n",
            "              precision    recall  f1-score   support\n",
            "\n",
            "           0       0.90      0.74      0.81       201\n",
            "           1       0.77      0.91      0.83       191\n",
            "\n",
            "    accuracy                           0.82       392\n",
            "   macro avg       0.83      0.83      0.82       392\n",
            "weighted avg       0.84      0.82      0.82       392\n",
            "\n",
            "0.9109947643979057\n",
            "0.7699115044247787\n"
          ]
        },
        {
          "output_type": "stream",
          "name": "stderr",
          "text": [
            "/usr/local/lib/python3.7/dist-packages/sklearn/linear_model/_logistic.py:818: ConvergenceWarning: lbfgs failed to converge (status=1):\n",
            "STOP: TOTAL NO. of ITERATIONS REACHED LIMIT.\n",
            "\n",
            "Increase the number of iterations (max_iter) or scale the data as shown in:\n",
            "    https://scikit-learn.org/stable/modules/preprocessing.html\n",
            "Please also refer to the documentation for alternative solver options:\n",
            "    https://scikit-learn.org/stable/modules/linear_model.html#logistic-regression\n",
            "  extra_warning_msg=_LOGISTIC_SOLVER_CONVERGENCE_MSG,\n"
          ]
        }
      ]
    },
    {
      "cell_type": "code",
      "metadata": {
        "colab": {
          "base_uri": "https://localhost:8080/"
        },
        "id": "bo1aDXv3S1dA",
        "outputId": "8e0c002e-1cfb-44ff-8794-be8395b8019b"
      },
      "source": [
        "# Naive Baye's \n",
        "\n",
        "from sklearn.naive_bayes import MultinomialNB\n",
        "nb = Pipeline([('vect', CountVectorizer()),\n",
        "               ('tfidf', TfidfTransformer()),\n",
        "               ('clf', MultinomialNB()),\n",
        "              ])\n",
        "nb.fit(X_train, Y_train)\n",
        "y_pred = nb.predict(X_test)\n",
        "\n",
        "print('accuracy %s' % accuracy_score(y_pred, Y_test))\n",
        "Accuracy.append(accuracy_score(y_pred, Y_test))\n",
        "print(classification_report(Y_test, y_pred))\n",
        "print(precision_score(y_pred, Y_test))\n",
        "print(recall_score(y_pred, Y_test))"
      ],
      "execution_count": null,
      "outputs": [
        {
          "output_type": "stream",
          "name": "stdout",
          "text": [
            "accuracy 0.8316326530612245\n",
            "              precision    recall  f1-score   support\n",
            "\n",
            "           0       0.90      0.75      0.82       201\n",
            "           1       0.78      0.92      0.84       191\n",
            "\n",
            "    accuracy                           0.83       392\n",
            "   macro avg       0.84      0.83      0.83       392\n",
            "weighted avg       0.84      0.83      0.83       392\n",
            "\n",
            "0.9162303664921466\n",
            "0.7777777777777778\n"
          ]
        }
      ]
    },
    {
      "cell_type": "code",
      "metadata": {
        "colab": {
          "base_uri": "https://localhost:8080/"
        },
        "id": "5XgWn4u6T6HM",
        "outputId": "a918978e-9933-43b4-d00d-2a9e5005e166"
      },
      "source": [
        "# Linear Support vector Machine\n",
        "\n",
        "from sklearn.svm import SVC\n",
        "\n",
        "clf = Pipeline([('vect', CountVectorizer()),\n",
        "               ('tfidf', TfidfTransformer()),\n",
        "               ('clf', SVC()),\n",
        "              ])\n",
        "clf.fit(X_train, Y_train)\n",
        "y_pred = clf.predict(X_test)\n",
        "\n",
        "print('accuracy %s' % accuracy_score(y_pred, Y_test))\n",
        "Accuracy.append(accuracy_score(y_pred, Y_test))\n",
        "print(classification_report(Y_test, y_pred))\n",
        "print(confusion_matrix(Y_test, y_pred))\n",
        "print(precision_score(y_pred, Y_test))\n",
        "print(recall_score(y_pred, Y_test))"
      ],
      "execution_count": null,
      "outputs": [
        {
          "output_type": "stream",
          "name": "stdout",
          "text": [
            "accuracy 0.9030612244897959\n",
            "              precision    recall  f1-score   support\n",
            "\n",
            "           0       0.91      0.90      0.91       201\n",
            "           1       0.90      0.91      0.90       191\n",
            "\n",
            "    accuracy                           0.90       392\n",
            "   macro avg       0.90      0.90      0.90       392\n",
            "weighted avg       0.90      0.90      0.90       392\n",
            "\n",
            "[[181  20]\n",
            " [ 18 173]]\n",
            "0.9057591623036649\n",
            "0.8963730569948186\n"
          ]
        }
      ]
    },
    {
      "cell_type": "code",
      "metadata": {
        "colab": {
          "base_uri": "https://localhost:8080/",
          "height": 432
        },
        "id": "g6yvqAWaJWsG",
        "outputId": "611cab02-49e4-4e4d-a437-ac6c86135f73"
      },
      "source": [
        "from mlxtend.plotting import plot_confusion_matrix\n",
        "c = confusion_matrix(Y_test, y_pred)\n",
        "fig, ax = plot_confusion_matrix(conf_mat=c, figsize=(6, 6), cmap=plt.cm.Greens)\n",
        "plt.xlabel('Predictions', fontsize=18)\n",
        "plt.ylabel('Actuals', fontsize=18)\n",
        "plt.title('Confusion Matrix', fontsize=18)\n",
        "plt.show()"
      ],
      "execution_count": null,
      "outputs": [
        {
          "output_type": "display_data",
          "data": {
            "image/png": "[encoded data removed]",
            "text/plain": [
              "<Figure size 432x432 with 1 Axes>"
            ]
          },
          "metadata": {
            "needs_background": "light"
          }
        }
      ]
    },
    {
      "cell_type": "code",
      "metadata": {
        "id": "fe9AYgEE22xP",
        "colab": {
          "base_uri": "https://localhost:8080/"
        },
        "outputId": "2a21c314-b13e-4ad2-ddd1-cd7e189e2b79"
      },
      "source": [
        "# Random Forest \n",
        "from sklearn.ensemble import RandomForestClassifier\n",
        "\n",
        "RFC = Pipeline([('vect', CountVectorizer()),\n",
        "               ('tfidf', TfidfTransformer()),\n",
        "               ('clf', RandomForestClassifier()),\n",
        "              ])\n",
        "\n",
        "RFC.fit(X_train, Y_train)\n",
        "y_pred = RFC.predict(X_test)\n",
        "\n",
        "print('accuracy %s' % accuracy_score(y_pred, Y_test))\n",
        "Accuracy.append(accuracy_score(y_pred, Y_test))\n",
        "print(classification_report(Y_test, y_pred))\n",
        "print(confusion_matrix(y_pred, Y_test))\n",
        "print(precision_score(y_pred, Y_test))\n",
        "print(recall_score(y_pred, Y_test))"
      ],
      "execution_count": null,
      "outputs": [
        {
          "output_type": "stream",
          "name": "stdout",
          "text": [
            "accuracy 0.8520408163265306\n",
            "              precision    recall  f1-score   support\n",
            "\n",
            "           0       0.92      0.78      0.84       201\n",
            "           1       0.80      0.93      0.86       191\n",
            "\n",
            "    accuracy                           0.85       392\n",
            "   macro avg       0.86      0.85      0.85       392\n",
            "weighted avg       0.86      0.85      0.85       392\n",
            "\n",
            "[[156  13]\n",
            " [ 45 178]]\n",
            "0.9319371727748691\n",
            "0.7982062780269058\n"
          ]
        }
      ]
    },
    {
      "cell_type": "code",
      "metadata": {
        "colab": {
          "base_uri": "https://localhost:8080/"
        },
        "id": "K4kdDPRxaHBF",
        "outputId": "978ba86e-de77-4d29-bc06-cb137ea4e3b2"
      },
      "source": [
        "# unique words in the data\n",
        "li = []\n",
        "for l in train_data['CLEAN_CONTENT'].apply(lambda x: x.split(' ')).to_list():\n",
        "    li = li + l\n",
        "len(set(li))"
      ],
      "execution_count": null,
      "outputs": [
        {
          "output_type": "execute_result",
          "data": {
            "text/plain": [
              "3318"
            ]
          },
          "metadata": {},
          "execution_count": 54
        }
      ]
    },
    {
      "cell_type": "code",
      "metadata": {
        "id": "HOpdieJlZ04l"
      },
      "source": [
        "from keras.preprocessing.text import Tokenizer\n",
        "max_words = 3000\n",
        "max_len = 200\n",
        "tokenize = Tokenizer(num_words=max_words, char_level=False)\n",
        "tokenize.fit_on_texts(X_train) \n",
        "sequences = tokenize.texts_to_sequences(X_train)\n",
        "data = pad_sequences(sequences, maxlen=max_len)"
      ],
      "execution_count": null,
      "outputs": []
    },
    {
      "cell_type": "code",
      "metadata": {
        "id": "_eTbAxBIC4DS"
      },
      "source": [
        "tokenize.fit_on_texts(X_test) \n",
        "sequences = tokenize.texts_to_sequences(X_test)\n",
        "X_test = pad_sequences(sequences, maxlen=max_len)"
      ],
      "execution_count": null,
      "outputs": []
    },
    {
      "cell_type": "code",
      "metadata": {
        "id": "0Wqn6i27YVWS"
      },
      "source": [
        "# Build the ANN model.\n",
        "\n",
        "batch_size = 32\n",
        "max_len = 200\n",
        "model = Sequential()\n",
        "model.add(Dense(512, input_shape=(max_len,)))\n",
        "model.add(Activation('relu'))\n",
        "model.add(Dropout(0.5))\n",
        "model.add(Dense(100, activation='relu'))\n",
        "model.add(Dropout(0.5))\n",
        "model.add(Dense(1))\n",
        "model.add(Activation('sigmoid'))\n",
        "\n",
        "model.compile(loss='categorical_crossentropy',\n",
        "              optimizer='adam',\n",
        "              metrics=['accuracy'])\n",
        "              \n",
        "history = model.fit(data, Y_train,\n",
        "                    batch_size=batch_size,\n",
        "                    epochs=100,\n",
        "                    verbose=1)"
      ],
      "execution_count": null,
      "outputs": []
    },
    {
      "cell_type": "code",
      "metadata": {
        "id": "mVb8gKAoBgZW"
      },
      "source": [
        "score = model.evaluate(X_test, Y_test,\n",
        "                       batch_size=batch_size, verbose=1)\n",
        "print('Test accuracy:', score[1])"
      ],
      "execution_count": null,
      "outputs": []
    },
    {
      "cell_type": "code",
      "metadata": {
        "colab": {
          "base_uri": "https://localhost:8080/",
          "height": 295
        },
        "id": "YYnutXpPLMzv",
        "outputId": "99cc6e39-14cb-47c4-af1e-d84362f12c4f"
      },
      "source": [
        "import matplotlib.pyplot as plt\n",
        "models = ['lr', 'NB', 'SVM', 'RFC']\n",
        "plt.bar(models, Accuracy, color=(0.2, 0.4, 0.6, 0.6), width = 0.6)\n",
        "plt.xlabel(\"MODEL\")\n",
        "plt.ylabel(\"Accuracy\")\n",
        "plt.title(\"Accuracy Performance of the models\")\n",
        "plt.show()"
      ],
      "execution_count": null,
      "outputs": [
        {
          "output_type": "display_data",
          "data": {
            "image/png": "[encoded data removed]",
            "text/plain": [
              "<Figure size 432x288 with 1 Axes>"
            ]
          },
          "metadata": {
            "needs_background": "light"
          }
        }
      ]
    }
  ]
}